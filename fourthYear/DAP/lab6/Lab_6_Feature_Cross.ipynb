{
  "cells": [
    {
      "cell_type": "code",
      "execution_count": 1,
      "metadata": {
        "cellView": "form",
        "id": "wDlWLbfkJtvu"
      },
      "outputs": [],
      "source": [
        "#@title Materials for this exercise is taken from Colab google research group. Double click for more information \n",
        "#License information is below.\n",
        "#Copyright 2020 Google LLC. \n",
        "# Licensed under the Apache License, Version 2.0 (the \"License\");\n",
        "# you may not use this file except in compliance with the License.\n",
        "# You may obtain a copy of the License at\n",
        "#\n",
        "# https://www.apache.org/licenses/LICENSE-2.0\n",
        "#\n",
        "# Unless required by applicable law or agreed to in writing, software\n",
        "# distributed under the License is distributed on an \"AS IS\" BASIS,\n",
        "# WITHOUT WARRANTIES OR CONDITIONS OF ANY KIND, either express or implied.\n",
        "# See the License for the specific language governing permissions and\n",
        "# limitations under the License."
      ]
    },
    {
      "cell_type": "markdown",
      "metadata": {
        "id": "RXWoPIezkzgI"
      },
      "source": [
        "## Learning Objectives:\n",
        "\n",
        "  * Use various methods (bin/buckets, feature cross) to represent features.\n",
        "  "
      ]
    },
    {
      "cell_type": "markdown",
      "metadata": {
        "id": "lH_g3Hsfkzzb"
      },
      "source": [
        "## The Dataset\n",
        "  \n",
        "This exercise uses the [California Housing Dataset](https://developers.google.com/machine-learning/crash-course/california-housing-data-description)."
      ]
    },
    {
      "cell_type": "code",
      "execution_count": 1,
      "metadata": {
        "cellView": "form",
        "id": "qBpGi_GD14-p"
      },
      "outputs": [
        {
          "name": "stderr",
          "output_type": "stream",
          "text": [
            "UsageError: Line magic function `%tensorflow_version` not found.\n"
          ]
        }
      ],
      "source": [
        "#@title Run TensorFlow\n",
        "%tensorflow_version 2.x"
      ]
    },
    {
      "cell_type": "code",
      "execution_count": 2,
      "metadata": {
        "cellView": "form",
        "id": "9n9_cTveKmse"
      },
      "outputs": [
        {
          "name": "stdout",
          "output_type": "stream",
          "text": [
            "Imported the modules.\n"
          ]
        }
      ],
      "source": [
        "#@title Load the imports\n",
        "\n",
        "# from __future__ import absolute_import, division, print_function, unicode_literals\n",
        "\n",
        "import numpy as np\n",
        "import pandas as pd\n",
        "import tensorflow as tf\n",
        "from tensorflow import feature_column\n",
        "from tensorflow.keras import layers\n",
        "\n",
        "from matplotlib import pyplot as plt\n",
        "\n",
        "# The following lines adjust the granularity of reporting.\n",
        "pd.options.display.max_rows = 10\n",
        "pd.options.display.float_format = \"{:.1f}\".format\n",
        "\n",
        "tf.keras.backend.set_floatx('float32')\n",
        "\n",
        "print(\"Imported the modules.\")"
      ]
    },
    {
      "cell_type": "markdown",
      "metadata": {
        "id": "X_TaJhU4KcuY"
      },
      "source": [
        "## Load, scale, and shuffle the examples\n",
        "\n",
        "The following code cell loads the separate .csv files and creates the following two pandas DataFrames:\n",
        "\n",
        "* `train_df`, which contains the training set\n",
        "* `test_df`, which contains the test set\n",
        "\n",
        "The code cell then scales the `median_house_value` to a more human-friendly range and then shuffles the examples."
      ]
    },
    {
      "cell_type": "code",
      "execution_count": 3,
      "metadata": {
        "cellView": "form",
        "id": "JZlvdpyYKx7V"
      },
      "outputs": [
        {
          "data": {
            "text/html": [
              "<div>\n",
              "<style scoped>\n",
              "    .dataframe tbody tr th:only-of-type {\n",
              "        vertical-align: middle;\n",
              "    }\n",
              "\n",
              "    .dataframe tbody tr th {\n",
              "        vertical-align: top;\n",
              "    }\n",
              "\n",
              "    .dataframe thead th {\n",
              "        text-align: right;\n",
              "    }\n",
              "</style>\n",
              "<table border=\"1\" class=\"dataframe\">\n",
              "  <thead>\n",
              "    <tr style=\"text-align: right;\">\n",
              "      <th></th>\n",
              "      <th>longitude</th>\n",
              "      <th>latitude</th>\n",
              "      <th>housing_median_age</th>\n",
              "      <th>total_rooms</th>\n",
              "      <th>total_bedrooms</th>\n",
              "      <th>population</th>\n",
              "      <th>households</th>\n",
              "      <th>median_income</th>\n",
              "      <th>median_house_value</th>\n",
              "    </tr>\n",
              "  </thead>\n",
              "  <tbody>\n",
              "    <tr>\n",
              "      <th>15828</th>\n",
              "      <td>-122.4</td>\n",
              "      <td>40.6</td>\n",
              "      <td>23.0</td>\n",
              "      <td>2248.0</td>\n",
              "      <td>489.0</td>\n",
              "      <td>1132.0</td>\n",
              "      <td>444.0</td>\n",
              "      <td>1.6</td>\n",
              "      <td>80.4</td>\n",
              "    </tr>\n",
              "    <tr>\n",
              "      <th>405</th>\n",
              "      <td>-117.0</td>\n",
              "      <td>33.8</td>\n",
              "      <td>10.0</td>\n",
              "      <td>6890.0</td>\n",
              "      <td>1702.0</td>\n",
              "      <td>3141.0</td>\n",
              "      <td>1451.0</td>\n",
              "      <td>1.7</td>\n",
              "      <td>95.9</td>\n",
              "    </tr>\n",
              "    <tr>\n",
              "      <th>6109</th>\n",
              "      <td>-118.2</td>\n",
              "      <td>34.1</td>\n",
              "      <td>33.0</td>\n",
              "      <td>2612.0</td>\n",
              "      <td>646.0</td>\n",
              "      <td>2496.0</td>\n",
              "      <td>606.0</td>\n",
              "      <td>3.1</td>\n",
              "      <td>156.0</td>\n",
              "    </tr>\n",
              "    <tr>\n",
              "      <th>7878</th>\n",
              "      <td>-118.4</td>\n",
              "      <td>34.1</td>\n",
              "      <td>32.0</td>\n",
              "      <td>8262.0</td>\n",
              "      <td>1156.0</td>\n",
              "      <td>2712.0</td>\n",
              "      <td>1125.0</td>\n",
              "      <td>10.6</td>\n",
              "      <td>500.0</td>\n",
              "    </tr>\n",
              "    <tr>\n",
              "      <th>3105</th>\n",
              "      <td>-117.8</td>\n",
              "      <td>33.8</td>\n",
              "      <td>15.0</td>\n",
              "      <td>3207.0</td>\n",
              "      <td>647.0</td>\n",
              "      <td>1414.0</td>\n",
              "      <td>595.0</td>\n",
              "      <td>4.0</td>\n",
              "      <td>165.6</td>\n",
              "    </tr>\n",
              "    <tr>\n",
              "      <th>...</th>\n",
              "      <td>...</td>\n",
              "      <td>...</td>\n",
              "      <td>...</td>\n",
              "      <td>...</td>\n",
              "      <td>...</td>\n",
              "      <td>...</td>\n",
              "      <td>...</td>\n",
              "      <td>...</td>\n",
              "      <td>...</td>\n",
              "    </tr>\n",
              "    <tr>\n",
              "      <th>6464</th>\n",
              "      <td>-118.3</td>\n",
              "      <td>34.1</td>\n",
              "      <td>38.0</td>\n",
              "      <td>2265.0</td>\n",
              "      <td>801.0</td>\n",
              "      <td>2899.0</td>\n",
              "      <td>792.0</td>\n",
              "      <td>2.6</td>\n",
              "      <td>157.5</td>\n",
              "    </tr>\n",
              "    <tr>\n",
              "      <th>13179</th>\n",
              "      <td>-121.9</td>\n",
              "      <td>37.2</td>\n",
              "      <td>23.0</td>\n",
              "      <td>2705.0</td>\n",
              "      <td>449.0</td>\n",
              "      <td>1180.0</td>\n",
              "      <td>442.0</td>\n",
              "      <td>6.1</td>\n",
              "      <td>316.5</td>\n",
              "    </tr>\n",
              "    <tr>\n",
              "      <th>14460</th>\n",
              "      <td>-122.1</td>\n",
              "      <td>37.5</td>\n",
              "      <td>41.0</td>\n",
              "      <td>3233.0</td>\n",
              "      <td>540.0</td>\n",
              "      <td>1251.0</td>\n",
              "      <td>506.0</td>\n",
              "      <td>6.6</td>\n",
              "      <td>500.0</td>\n",
              "    </tr>\n",
              "    <tr>\n",
              "      <th>5207</th>\n",
              "      <td>-118.1</td>\n",
              "      <td>33.8</td>\n",
              "      <td>41.0</td>\n",
              "      <td>1509.0</td>\n",
              "      <td>325.0</td>\n",
              "      <td>821.0</td>\n",
              "      <td>314.0</td>\n",
              "      <td>4.1</td>\n",
              "      <td>223.0</td>\n",
              "    </tr>\n",
              "    <tr>\n",
              "      <th>11603</th>\n",
              "      <td>-121.3</td>\n",
              "      <td>38.0</td>\n",
              "      <td>47.0</td>\n",
              "      <td>2348.0</td>\n",
              "      <td>507.0</td>\n",
              "      <td>1455.0</td>\n",
              "      <td>479.0</td>\n",
              "      <td>1.6</td>\n",
              "      <td>66.0</td>\n",
              "    </tr>\n",
              "  </tbody>\n",
              "</table>\n",
              "<p>20 rows × 9 columns</p>\n",
              "</div>"
            ],
            "text/plain": [
              "       longitude  latitude  housing_median_age  total_rooms  total_bedrooms  \\\n",
              "15828     -122.4      40.6                23.0       2248.0           489.0   \n",
              "405       -117.0      33.8                10.0       6890.0          1702.0   \n",
              "6109      -118.2      34.1                33.0       2612.0           646.0   \n",
              "7878      -118.4      34.1                32.0       8262.0          1156.0   \n",
              "3105      -117.8      33.8                15.0       3207.0           647.0   \n",
              "...          ...       ...                 ...          ...             ...   \n",
              "6464      -118.3      34.1                38.0       2265.0           801.0   \n",
              "13179     -121.9      37.2                23.0       2705.0           449.0   \n",
              "14460     -122.1      37.5                41.0       3233.0           540.0   \n",
              "5207      -118.1      33.8                41.0       1509.0           325.0   \n",
              "11603     -121.3      38.0                47.0       2348.0           507.0   \n",
              "\n",
              "       population  households  median_income  median_house_value  \n",
              "15828      1132.0       444.0            1.6                80.4  \n",
              "405        3141.0      1451.0            1.7                95.9  \n",
              "6109       2496.0       606.0            3.1               156.0  \n",
              "7878       2712.0      1125.0           10.6               500.0  \n",
              "3105       1414.0       595.0            4.0               165.6  \n",
              "...           ...         ...            ...                 ...  \n",
              "6464       2899.0       792.0            2.6               157.5  \n",
              "13179      1180.0       442.0            6.1               316.5  \n",
              "14460      1251.0       506.0            6.6               500.0  \n",
              "5207        821.0       314.0            4.1               223.0  \n",
              "11603      1455.0       479.0            1.6                66.0  \n",
              "\n",
              "[20 rows x 9 columns]"
            ]
          },
          "execution_count": 3,
          "metadata": {},
          "output_type": "execute_result"
        }
      ],
      "source": [
        "#@title Loading, scaling and randominzing \n",
        "\n",
        "\n",
        "# Load the dataset\n",
        "train_df = pd.read_csv(\"https://download.mlcc.google.com/mledu-datasets/california_housing_train.csv\")\n",
        "test_df = pd.read_csv(\"https://download.mlcc.google.com/mledu-datasets/california_housing_test.csv\")\n",
        "\n",
        "# Scale the labels\n",
        "scale_factor = 1000.0\n",
        "# Scale the training set's label.\n",
        "train_df[\"median_house_value\"] /= scale_factor \n",
        "\n",
        "# Scale the test set's label\n",
        "test_df[\"median_house_value\"] /= scale_factor\n",
        "\n",
        "# Shuffle the examples\n",
        "train_df = train_df.reindex(np.random.permutation(train_df.index))\n",
        "\n",
        "train_df.head(20)"
      ]
    },
    {
      "cell_type": "markdown",
      "metadata": {
        "id": "8kir8UTUXSV8"
      },
      "source": [
        "## Represent latitude and longitude as floating-point values\n",
        "\n",
        "Previous Colabs trained on only a single feature or a single synthetic feature. By contrast, this exercise trains on two features. Furthermore, this Colab introduces **feature columns**, which provide a sophisticated way to represent features.  \n",
        "\n",
        "You create feature columns as possible:\n",
        "\n",
        "  * Call a [`tf.feature_column`](https://www.tensorflow.org/api_docs/python/tf/feature_column) method to represent a single feature, single feature cross, or single synthetic feature in the desired way.  For example, to represent a certain feature as floating-point values, call [`tf.feature_column.numeric_column`](https://www.tensorflow.org/api_docs/python/tf/feature_column/numeric_column). To represent a certain feature as a series of buckets or bins, call [`tf.feature_column.bucketized_column`](https://www.tensorflow.org/api_docs/python/tf/feature_column/bucketized_column).\n",
        "  * Assemble the created representations into a Python list. \n",
        "\n",
        "A neighborhood's location is typically the most important feature in determining a house's value. The California Housing dataset provides two features, `latitude` and `longitude` that identify each neighborhood's location. \n",
        "\n",
        "The following code cell calls [`tf.feature_column.numeric_column`](https://www.tensorflow.org/api_docs/python/tf/feature_column/numeric_column) twice, first to represent `latitude` as floating-point value and a second time to represent `longitude` as floating-point values. \n",
        "\n",
        "This code cell specifies the features that you'll ultimately train the model on and how each of those features will be represented. The transformations (collected in `fp_feature_layer`) don't actually get applied until you pass a DataFrame to it, which will happen when we train the model. \n"
      ]
    },
    {
      "cell_type": "code",
      "execution_count": 4,
      "metadata": {
        "cellView": "form",
        "id": "3tmmZIDw4JEC"
      },
      "outputs": [],
      "source": [
        "#@title Representation using floating-point values\n",
        "# Create an empty list that will eventually hold all feature columns.\n",
        "feature_columns = []\n",
        "\n",
        "# Create a numerical feature column to represent latitude.\n",
        "latitude = tf.feature_column.numeric_column(\"latitude\")\n",
        "feature_columns.append(latitude)\n",
        "\n",
        "# Create a numerical feature column to represent longitude.\n",
        "longitude = tf.feature_column.numeric_column(\"longitude\")\n",
        "feature_columns.append(longitude)\n",
        "\n",
        "# Convert the list of feature columns into a layer that will ultimately become\n",
        "# part of the model. Understanding layers is not important right now.\n",
        "fp_feature_layer = layers.DenseFeatures(feature_columns)"
      ]
    },
    {
      "cell_type": "markdown",
      "metadata": {
        "id": "Q2x8sHKnAy3Q"
      },
      "source": [
        "When used, the layer processes the raw inputs, according to the transformations described by the feature columns, and packs the result into a numeric array.  (The model will train on this numeric array.) "
      ]
    },
    {
      "cell_type": "markdown",
      "metadata": {
        "id": "3014ezH3C7jT"
      },
      "source": [
        "## Define functions that create and train a model, and a plotting function\n",
        "\n",
        "The following code defines three functions:\n",
        "\n",
        "  * `create_model`, which tells TensorFlow to build a linear regression model and to use the `feature_layer_as_fp` as the representation of the model's features.\n",
        "  * `train_model`, which will ultimately train the model from training set examples.\n",
        "  * `plot_the_loss_curve`, which generates a loss curve."
      ]
    },
    {
      "cell_type": "code",
      "execution_count": 5,
      "metadata": {
        "cellView": "form",
        "id": "pedD5GhlDC-y"
      },
      "outputs": [
        {
          "name": "stdout",
          "output_type": "stream",
          "text": [
            "Defined the create_model, train_model, and plot_the_loss_curve functions.\n"
          ]
        }
      ],
      "source": [
        "#@title Define functions to create and train a model, and a plotting function\n",
        "def create_model(my_learning_rate, feature_layer):\n",
        "  \"\"\"Create and compile a simple linear regression model.\"\"\"\n",
        "  # Most simple tf.keras models are sequential.\n",
        "  model = tf.keras.models.Sequential()\n",
        "\n",
        "  # Add the layer containing the feature columns to the model.\n",
        "  model.add(feature_layer)\n",
        "\n",
        "  # Add one linear layer to the model to yield a simple linear regressor.\n",
        "  model.add(tf.keras.layers.Dense(units=1, input_shape=(1,)))\n",
        "\n",
        "  # Construct the layers into a model that TensorFlow can execute.\n",
        "  model.compile(optimizer=tf.keras.optimizers.RMSprop(lr=my_learning_rate),\n",
        "                loss=\"mean_squared_error\",\n",
        "                metrics=[tf.keras.metrics.RootMeanSquaredError()])\n",
        "\n",
        "  return model           \n",
        "\n",
        "\n",
        "def train_model(model, dataset, epochs, batch_size, label_name):\n",
        "  \"\"\"Feed a dataset into the model in order to train it.\"\"\"\n",
        "\n",
        "  features = {name:np.array(value) for name, value in dataset.items()}\n",
        "  label = np.array(features.pop(label_name))\n",
        "  history = model.fit(x=features, y=label, batch_size=batch_size,\n",
        "                      epochs=epochs, shuffle=True)\n",
        "\n",
        "  # The list of epochs is stored separately from the rest of history.\n",
        "  epochs = history.epoch\n",
        "  \n",
        "  # Isolate the mean absolute error for each epoch.\n",
        "  hist = pd.DataFrame(history.history)\n",
        "  rmse = hist[\"root_mean_squared_error\"]\n",
        "\n",
        "  return epochs, rmse   \n",
        "\n",
        "\n",
        "def plot_the_loss_curve(epochs, rmse):\n",
        "  \"\"\"Plot a curve of loss vs. epoch.\"\"\"\n",
        "\n",
        "  plt.figure()\n",
        "  plt.xlabel(\"Epoch\")\n",
        "  plt.ylabel(\"Root Mean Squared Error\")\n",
        "\n",
        "  plt.plot(epochs, rmse, label=\"Loss\")\n",
        "  plt.legend()\n",
        "  plt.ylim([rmse.min()*0.94, rmse.max()* 1.05])\n",
        "  plt.show()  \n",
        "\n",
        "print(\"Defined the create_model, train_model, and plot_the_loss_curve functions.\")"
      ]
    },
    {
      "cell_type": "markdown",
      "metadata": {
        "id": "D-IXYVfvM4gD"
      },
      "source": []
    },
    {
      "cell_type": "code",
      "execution_count": 6,
      "metadata": {
        "cellView": "form",
        "id": "nj3v5EKQFY8s"
      },
      "outputs": [
        {
          "name": "stderr",
          "output_type": "stream",
          "text": [
            "C:\\Users\\Liam Glennie\\.conda\\envs\\tf-gpu\\lib\\site-packages\\tensorflow\\python\\keras\\optimizer_v2\\optimizer_v2.py:374: UserWarning: The `lr` argument is deprecated, use `learning_rate` instead.\n",
            "  warnings.warn(\n"
          ]
        },
        {
          "name": "stdout",
          "output_type": "stream",
          "text": [
            "Epoch 1/30\n",
            "WARNING:tensorflow:Layers in a Sequential model should only have a single input tensor, but we receive a <class 'dict'> input: {'longitude': <tf.Tensor 'ExpandDims_3:0' shape=(100, 1) dtype=float32>, 'latitude': <tf.Tensor 'ExpandDims_2:0' shape=(100, 1) dtype=float32>, 'housing_median_age': <tf.Tensor 'ExpandDims_1:0' shape=(100, 1) dtype=float32>, 'total_rooms': <tf.Tensor 'ExpandDims_7:0' shape=(100, 1) dtype=float32>, 'total_bedrooms': <tf.Tensor 'ExpandDims_6:0' shape=(100, 1) dtype=float32>, 'population': <tf.Tensor 'ExpandDims_5:0' shape=(100, 1) dtype=float32>, 'households': <tf.Tensor 'ExpandDims:0' shape=(100, 1) dtype=float32>, 'median_income': <tf.Tensor 'ExpandDims_4:0' shape=(100, 1) dtype=float32>}\n",
            "Consider rewriting this model with the Functional API.\n",
            "WARNING:tensorflow:Layers in a Sequential model should only have a single input tensor, but we receive a <class 'dict'> input: {'longitude': <tf.Tensor 'ExpandDims_3:0' shape=(100, 1) dtype=float32>, 'latitude': <tf.Tensor 'ExpandDims_2:0' shape=(100, 1) dtype=float32>, 'housing_median_age': <tf.Tensor 'ExpandDims_1:0' shape=(100, 1) dtype=float32>, 'total_rooms': <tf.Tensor 'ExpandDims_7:0' shape=(100, 1) dtype=float32>, 'total_bedrooms': <tf.Tensor 'ExpandDims_6:0' shape=(100, 1) dtype=float32>, 'population': <tf.Tensor 'ExpandDims_5:0' shape=(100, 1) dtype=float32>, 'households': <tf.Tensor 'ExpandDims:0' shape=(100, 1) dtype=float32>, 'median_income': <tf.Tensor 'ExpandDims_4:0' shape=(100, 1) dtype=float32>}\n",
            "Consider rewriting this model with the Functional API.\n",
            "170/170 [==============================] - 5s 3ms/step - loss: 15449.2119 - root_mean_squared_error: 124.2949\n",
            "Epoch 2/30\n",
            "170/170 [==============================] - 1s 4ms/step - loss: 13634.8896 - root_mean_squared_error: 116.7685A: 0s - loss: 13898.8643 - root_mean_squared_erro\n",
            "Epoch 3/30\n",
            "170/170 [==============================] - 1s 4ms/step - loss: 13580.6992 - root_mean_squared_error: 116.5363\n",
            "Epoch 4/30\n",
            "170/170 [==============================] - 1s 4ms/step - loss: 13526.6777 - root_mean_squared_error: 116.3042\n",
            "Epoch 5/30\n",
            "170/170 [==============================] - 0s 2ms/step - loss: 13460.5635 - root_mean_squared_error: 116.0197A: 0s - loss: 13561.4238 - root_mean_squared_error: 116.\n",
            "Epoch 6/30\n",
            "170/170 [==============================] - 0s 2ms/step - loss: 13415.7119 - root_mean_squared_error: 115.8262\n",
            "Epoch 7/30\n",
            "170/170 [==============================] - 0s 3ms/step - loss: 13379.6143 - root_mean_squared_error: 115.6703A: 0s - loss: 13330.2900 - root_mean_squared_error: 115.45\n",
            "Epoch 8/30\n",
            "170/170 [==============================] - 0s 3ms/step - loss: 13347.5713 - root_mean_squared_error: 115.5317\n",
            "Epoch 9/30\n",
            "170/170 [==============================] - 0s 3ms/step - loss: 13291.1836 - root_mean_squared_error: 115.2874\n",
            "Epoch 10/30\n",
            "170/170 [==============================] - 0s 3ms/step - loss: 13263.8584 - root_mean_squared_error: 115.1688A: 0s - loss: 13294.8350 - root_mean_squared_error: 115.3\n",
            "Epoch 11/30\n",
            "170/170 [==============================] - 0s 2ms/step - loss: 13231.5518 - root_mean_squared_error: 115.0285\n",
            "Epoch 12/30\n",
            "170/170 [==============================] - 0s 2ms/step - loss: 13184.0518 - root_mean_squared_error: 114.8218\n",
            "Epoch 13/30\n",
            "170/170 [==============================] - 0s 2ms/step - loss: 13171.2305 - root_mean_squared_error: 114.7660\n",
            "Epoch 14/30\n",
            "170/170 [==============================] - 0s 2ms/step - loss: 13132.8389 - root_mean_squared_error: 114.5986\n",
            "Epoch 15/30\n",
            "170/170 [==============================] - 0s 2ms/step - loss: 13106.3477 - root_mean_squared_error: 114.4830\n",
            "Epoch 16/30\n",
            "170/170 [==============================] - 1s 3ms/step - loss: 13087.7529 - root_mean_squared_error: 114.4017\n",
            "Epoch 17/30\n",
            "170/170 [==============================] - 0s 3ms/step - loss: 13054.8711 - root_mean_squared_error: 114.2579\n",
            "Epoch 18/30\n",
            "170/170 [==============================] - 1s 4ms/step - loss: 13029.5176 - root_mean_squared_error: 114.1469\n",
            "Epoch 19/30\n",
            "170/170 [==============================] - 0s 2ms/step - loss: 13011.3525 - root_mean_squared_error: 114.0673\n",
            "Epoch 20/30\n",
            "170/170 [==============================] - 1s 3ms/step - loss: 12988.6436 - root_mean_squared_error: 113.9677\n",
            "Epoch 21/30\n",
            "170/170 [==============================] - 1s 4ms/step - loss: 12976.2070 - root_mean_squared_error: 113.9132\n",
            "Epoch 22/30\n",
            "170/170 [==============================] - 1s 4ms/step - loss: 12957.3115 - root_mean_squared_error: 113.8302\n",
            "Epoch 23/30\n",
            "170/170 [==============================] - 1s 4ms/step - loss: 12940.1807 - root_mean_squared_error: 113.7549\n",
            "Epoch 24/30\n",
            "170/170 [==============================] - 1s 3ms/step - loss: 12932.4561 - root_mean_squared_error: 113.7210\n",
            "Epoch 25/30\n",
            "170/170 [==============================] - 1s 3ms/step - loss: 12913.3760 - root_mean_squared_error: 113.6370\n",
            "Epoch 26/30\n",
            "170/170 [==============================] - 1s 3ms/step - loss: 12917.0811 - root_mean_squared_error: 113.6533\n",
            "Epoch 27/30\n",
            "170/170 [==============================] - 0s 3ms/step - loss: 12899.8252 - root_mean_squared_error: 113.5774\n",
            "Epoch 28/30\n",
            "170/170 [==============================] - 0s 3ms/step - loss: 12888.7471 - root_mean_squared_error: 113.5286\n",
            "Epoch 29/30\n",
            "170/170 [==============================] - 1s 3ms/step - loss: 12875.3633 - root_mean_squared_error: 113.4697\n",
            "Epoch 30/30\n",
            "170/170 [==============================] - 1s 3ms/step - loss: 12860.8535 - root_mean_squared_error: 113.4057\n"
          ]
        },
        {
          "data": {
            "image/png": "[encoded data removed]",
            "text/plain": [
              "<Figure size 432x288 with 1 Axes>"
            ]
          },
          "metadata": {
            "needs_background": "light"
          },
          "output_type": "display_data"
        },
        {
          "name": "stdout",
          "output_type": "stream",
          "text": [
            "\n",
            ": Evaluate the new model against the test set:\n",
            "WARNING:tensorflow:Layers in a Sequential model should only have a single input tensor, but we receive a <class 'dict'> input: {'longitude': <tf.Tensor 'ExpandDims_3:0' shape=(100, 1) dtype=float32>, 'latitude': <tf.Tensor 'ExpandDims_2:0' shape=(100, 1) dtype=float32>, 'housing_median_age': <tf.Tensor 'ExpandDims_1:0' shape=(100, 1) dtype=float32>, 'total_rooms': <tf.Tensor 'ExpandDims_7:0' shape=(100, 1) dtype=float32>, 'total_bedrooms': <tf.Tensor 'ExpandDims_6:0' shape=(100, 1) dtype=float32>, 'population': <tf.Tensor 'ExpandDims_5:0' shape=(100, 1) dtype=float32>, 'households': <tf.Tensor 'ExpandDims:0' shape=(100, 1) dtype=float32>, 'median_income': <tf.Tensor 'ExpandDims_4:0' shape=(100, 1) dtype=float32>}\n",
            "Consider rewriting this model with the Functional API.\n",
            "30/30 [==============================] - 0s 2ms/step - loss: 12292.0361 - root_mean_squared_error: 110.8695\n"
          ]
        },
        {
          "data": {
            "text/plain": [
              "[12292.0361328125, 110.86945343017578]"
            ]
          },
          "execution_count": 6,
          "metadata": {},
          "output_type": "execute_result"
        }
      ],
      "source": [
        "\n",
        "#@title Train the model with floating-point representations\n",
        "# The following variables are the hyperparameters.\n",
        "learning_rate = 0.05\n",
        "epochs = 30\n",
        "batch_size = 100\n",
        "label_name = 'median_house_value'\n",
        "\n",
        "# Create and compile the model's topography.\n",
        "my_model = create_model(learning_rate, fp_feature_layer)\n",
        "\n",
        "# Train the model on the training set.\n",
        "epochs, rmse = train_model(my_model, train_df, epochs, batch_size, label_name)\n",
        "\n",
        "plot_the_loss_curve(epochs, rmse)\n",
        "\n",
        "print(\"\\n: Evaluate the new model against the test set:\")\n",
        "test_features = {name:np.array(value) for name, value in test_df.items()}\n",
        "test_label = np.array(test_features.pop(label_name))\n",
        "my_model.evaluate(x=test_features, y=test_label, batch_size=batch_size)"
      ]
    },
    {
      "cell_type": "markdown",
      "metadata": {
        "id": "dbyWNS6T2fIT"
      },
      "source": [
        "## Task 1: Why aren't floating-point values a good way to represent latitude and longitude?\n",
        "\n"
      ]
    },
    {
      "cell_type": "markdown",
      "metadata": {
        "cellView": "form",
        "id": "VJLDCu5M2hXX"
      },
      "source": [
        "Using floating-point values to represent latitude and longitude we would be giving an unfair weight to different values. For example, latitudes and longitudes with higher value will have more weight and influence on the outcome calculated by the model. And latitudes and longitudes with lower values, won't have enough weight possibly meaning that the model would favour latitudes and longitudes with higher values."
      ]
    },
    {
      "cell_type": "markdown",
      "metadata": {
        "id": "lWYwneb1_MYy"
      },
      "source": [
        "## Task 2: Complete the code cell below by creating a bucket feature column for longitude"
      ]
    },
    {
      "cell_type": "markdown",
      "metadata": {
        "id": "Na8TPoPYx-0k"
      },
      "source": [
        "## Represent latitude and longitude in buckets\n",
        "\n",
        "The following code cell represents latitude in buckets (bins). Each bin represents all the neighborhoods within a single degree. For example,\n",
        "neighborhoods at latitude 35.4 and 35.8 are in the same bucket, but neighborhoods in latitude 35.4 and 36.2 are in different buckets. \n",
        "\n",
        "The model will learn a separate weight for each bucket. For example, the model will learn one weight for all the neighborhoods in the \"35\" bin\", a different weight for neighborhoods in the \"36\" bin, and so on. This representation will create approximately 20 buckets:\n",
        " \n",
        "  * 10 buckets for `latitude`. \n",
        "  * 10 buckets for `longitude`. "
      ]
    },
    {
      "cell_type": "code",
      "execution_count": 7,
      "metadata": {
        "cellView": "form",
        "id": "WLTUFiaUyIpx"
      },
      "outputs": [],
      "source": [
        "#@title Data representation using buckets. **Double-click to add your code here to represent longitude in buckets for Task 2**\n",
        "resolution_in_degrees = 1.0 \n",
        "\n",
        "# Create a new empty list that will eventually hold the generated feature column.\n",
        "feature_columns = []\n",
        "\n",
        "# Create a bucket feature column for latitude.\n",
        "latitude_as_a_numeric_column = tf.feature_column.numeric_column(\"latitude\")\n",
        "latitude_boundaries = list(np.arange(int(min(train_df['latitude'])), \n",
        "                                     int(max(train_df['latitude'])), \n",
        "                                     resolution_in_degrees))\n",
        "latitude = tf.feature_column.bucketized_column(latitude_as_a_numeric_column, \n",
        "                                               latitude_boundaries)\n",
        "feature_columns.append(latitude)\n",
        "\n",
        "# Create a bucket feature column for longitude.\n",
        "longitude_as_a_numeric_column = tf.feature_column.numeric_column(\"longitude\")\n",
        "longitude_boundaries = list(np.arange(int(min(train_df['longitude'])), \n",
        "                                     int(max(train_df['longitude'])), \n",
        "                                     resolution_in_degrees))\n",
        "longitude = tf.feature_column.bucketized_column(longitude_as_a_numeric_column, \n",
        "                                               longitude_boundaries)\n",
        "\n",
        "feature_columns.append(longitude)\n",
        "\n",
        "# Convert the list of feature columns into a layer that will ultimately become\n",
        "# part of the model. Understanding layers is not important right now.\n",
        "buckets_feature_layer = layers.DenseFeatures(feature_columns)"
      ]
    },
    {
      "cell_type": "code",
      "execution_count": 8,
      "metadata": {
        "cellView": "form",
        "id": "UnDrghxBzLvD"
      },
      "outputs": [
        {
          "name": "stdout",
          "output_type": "stream",
          "text": [
            "Epoch 1/35\n",
            "WARNING:tensorflow:Layers in a Sequential model should only have a single input tensor, but we receive a <class 'dict'> input: {'longitude': <tf.Tensor 'ExpandDims_3:0' shape=(100, 1) dtype=float32>, 'latitude': <tf.Tensor 'ExpandDims_2:0' shape=(100, 1) dtype=float32>, 'housing_median_age': <tf.Tensor 'ExpandDims_1:0' shape=(100, 1) dtype=float32>, 'total_rooms': <tf.Tensor 'ExpandDims_7:0' shape=(100, 1) dtype=float32>, 'total_bedrooms': <tf.Tensor 'ExpandDims_6:0' shape=(100, 1) dtype=float32>, 'population': <tf.Tensor 'ExpandDims_5:0' shape=(100, 1) dtype=float32>, 'households': <tf.Tensor 'ExpandDims:0' shape=(100, 1) dtype=float32>, 'median_income': <tf.Tensor 'ExpandDims_4:0' shape=(100, 1) dtype=float32>}\n",
            "Consider rewriting this model with the Functional API.\n"
          ]
        },
        {
          "name": "stderr",
          "output_type": "stream",
          "text": [
            "C:\\Users\\Liam Glennie\\.conda\\envs\\tf-gpu\\lib\\site-packages\\tensorflow\\python\\keras\\optimizer_v2\\optimizer_v2.py:374: UserWarning: The `lr` argument is deprecated, use `learning_rate` instead.\n",
            "  warnings.warn(\n"
          ]
        },
        {
          "name": "stdout",
          "output_type": "stream",
          "text": [
            "WARNING:tensorflow:Layers in a Sequential model should only have a single input tensor, but we receive a <class 'dict'> input: {'longitude': <tf.Tensor 'ExpandDims_3:0' shape=(100, 1) dtype=float32>, 'latitude': <tf.Tensor 'ExpandDims_2:0' shape=(100, 1) dtype=float32>, 'housing_median_age': <tf.Tensor 'ExpandDims_1:0' shape=(100, 1) dtype=float32>, 'total_rooms': <tf.Tensor 'ExpandDims_7:0' shape=(100, 1) dtype=float32>, 'total_bedrooms': <tf.Tensor 'ExpandDims_6:0' shape=(100, 1) dtype=float32>, 'population': <tf.Tensor 'ExpandDims_5:0' shape=(100, 1) dtype=float32>, 'households': <tf.Tensor 'ExpandDims:0' shape=(100, 1) dtype=float32>, 'median_income': <tf.Tensor 'ExpandDims_4:0' shape=(100, 1) dtype=float32>}\n",
            "Consider rewriting this model with the Functional API.\n",
            "170/170 [==============================] - 1s 4ms/step - loss: 52070.1680 - root_mean_squared_error: 228.1889\n",
            "Epoch 2/35\n",
            "170/170 [==============================] - 1s 4ms/step - loss: 44676.6406 - root_mean_squared_error: 211.3685\n",
            "Epoch 3/35\n",
            "170/170 [==============================] - 1s 3ms/step - loss: 38085.4336 - root_mean_squared_error: 195.1549\n",
            "Epoch 4/35\n",
            "170/170 [==============================] - 0s 3ms/step - loss: 32299.2266 - root_mean_squared_error: 179.7198\n",
            "Epoch 5/35\n",
            "170/170 [==============================] - 1s 3ms/step - loss: 27259.0371 - root_mean_squared_error: 165.1031\n",
            "Epoch 6/35\n",
            "170/170 [==============================] - 1s 3ms/step - loss: 23021.1406 - root_mean_squared_error: 151.7272\n",
            "Epoch 7/35\n",
            "170/170 [==============================] - 0s 3ms/step - loss: 19482.7207 - root_mean_squared_error: 139.5805A: 0s - loss: 19986.7383 - root_mean_squared_error: 141\n",
            "Epoch 8/35\n",
            "170/170 [==============================] - 1s 3ms/step - loss: 16700.5176 - root_mean_squared_error: 129.2305\n",
            "Epoch 9/35\n",
            "170/170 [==============================] - 1s 3ms/step - loss: 14544.9736 - root_mean_squared_error: 120.6025\n",
            "Epoch 10/35\n",
            "170/170 [==============================] - 1s 3ms/step - loss: 12987.0879 - root_mean_squared_error: 113.9609\n",
            "Epoch 11/35\n",
            "170/170 [==============================] - 1s 3ms/step - loss: 11951.1133 - root_mean_squared_error: 109.3211\n",
            "Epoch 12/35\n",
            "170/170 [==============================] - 1s 3ms/step - loss: 11328.5957 - root_mean_squared_error: 106.4359A: 0s - loss: 11533.0234 - root_mean_squared_error: 107\n",
            "Epoch 13/35\n",
            "170/170 [==============================] - 0s 3ms/step - loss: 10981.0879 - root_mean_squared_error: 104.7907\n",
            "Epoch 14/35\n",
            "170/170 [==============================] - 0s 3ms/step - loss: 10792.0801 - root_mean_squared_error: 103.8849\n",
            "Epoch 15/35\n",
            "170/170 [==============================] - 1s 3ms/step - loss: 10673.2354 - root_mean_squared_error: 103.3113\n",
            "Epoch 16/35\n",
            "170/170 [==============================] - 1s 3ms/step - loss: 10597.7090 - root_mean_squared_error: 102.9452\n",
            "Epoch 17/35\n",
            "170/170 [==============================] - 1s 3ms/step - loss: 10548.4365 - root_mean_squared_error: 102.7056\n",
            "Epoch 18/35\n",
            "170/170 [==============================] - 1s 3ms/step - loss: 10515.3525 - root_mean_squared_error: 102.5444\n",
            "Epoch 19/35\n",
            "170/170 [==============================] - 1s 3ms/step - loss: 10492.6387 - root_mean_squared_error: 102.4336A: 0s - loss: 10226.9287 - root_mean_squared_error\n",
            "Epoch 20/35\n",
            "170/170 [==============================] - 1s 3ms/step - loss: 10474.8838 - root_mean_squared_error: 102.3469\n",
            "Epoch 21/35\n",
            "170/170 [==============================] - 1s 4ms/step - loss: 10460.5352 - root_mean_squared_error: 102.2768\n",
            "Epoch 22/35\n",
            "170/170 [==============================] - 1s 3ms/step - loss: 10448.4062 - root_mean_squared_error: 102.2174\n",
            "Epoch 23/35\n",
            "170/170 [==============================] - 1s 3ms/step - loss: 10437.2402 - root_mean_squared_error: 102.1628\n",
            "Epoch 24/35\n",
            "170/170 [==============================] - 1s 3ms/step - loss: 10426.2910 - root_mean_squared_error: 102.1092 0s - loss: 10720.0459 - root_mean_squared_error\n",
            "Epoch 25/35\n",
            "170/170 [==============================] - 1s 3ms/step - loss: 10416.4834 - root_mean_squared_error: 102.0612\n",
            "Epoch 26/35\n",
            "170/170 [==============================] - 1s 3ms/step - loss: 10407.3867 - root_mean_squared_error: 102.0166\n",
            "Epoch 27/35\n",
            "170/170 [==============================] - 1s 3ms/step - loss: 10399.0078 - root_mean_squared_error: 101.9755\n",
            "Epoch 28/35\n",
            "170/170 [==============================] - 1s 3ms/step - loss: 10390.5059 - root_mean_squared_error: 101.9338\n",
            "Epoch 29/35\n",
            "170/170 [==============================] - 1s 3ms/step - loss: 10382.7207 - root_mean_squared_error: 101.8956\n",
            "Epoch 30/35\n",
            "170/170 [==============================] - 1s 3ms/step - loss: 10375.0215 - root_mean_squared_error: 101.8578\n",
            "Epoch 31/35\n",
            "170/170 [==============================] - 1s 4ms/step - loss: 10367.1250 - root_mean_squared_error: 101.8191A: 0s - loss: 10757.9668 - root_mean_squared_error\n",
            "Epoch 32/35\n",
            "170/170 [==============================] - 0s 3ms/step - loss: 10360.3926 - root_mean_squared_error: 101.7860\n",
            "Epoch 33/35\n",
            "170/170 [==============================] - 0s 3ms/step - loss: 10353.9941 - root_mean_squared_error: 101.7546\n",
            "Epoch 34/35\n",
            "170/170 [==============================] - 1s 3ms/step - loss: 10347.0713 - root_mean_squared_error: 101.7206\n",
            "Epoch 35/35\n",
            "170/170 [==============================] - 0s 3ms/step - loss: 10339.9277 - root_mean_squared_error: 101.6854\n"
          ]
        },
        {
          "data": {
            "image/png": "[encoded data removed]",
            "text/plain": [
              "<Figure size 432x288 with 1 Axes>"
            ]
          },
          "metadata": {
            "needs_background": "light"
          },
          "output_type": "display_data"
        },
        {
          "name": "stdout",
          "output_type": "stream",
          "text": [
            "\n",
            ": Evaluate the new model against the test set:\n",
            "WARNING:tensorflow:Layers in a Sequential model should only have a single input tensor, but we receive a <class 'dict'> input: {'longitude': <tf.Tensor 'ExpandDims_3:0' shape=(100, 1) dtype=float32>, 'latitude': <tf.Tensor 'ExpandDims_2:0' shape=(100, 1) dtype=float32>, 'housing_median_age': <tf.Tensor 'ExpandDims_1:0' shape=(100, 1) dtype=float32>, 'total_rooms': <tf.Tensor 'ExpandDims_7:0' shape=(100, 1) dtype=float32>, 'total_bedrooms': <tf.Tensor 'ExpandDims_6:0' shape=(100, 1) dtype=float32>, 'population': <tf.Tensor 'ExpandDims_5:0' shape=(100, 1) dtype=float32>, 'households': <tf.Tensor 'ExpandDims:0' shape=(100, 1) dtype=float32>, 'median_income': <tf.Tensor 'ExpandDims_4:0' shape=(100, 1) dtype=float32>}\n",
            "Consider rewriting this model with the Functional API.\n",
            "30/30 [==============================] - 0s 2ms/step - loss: 10199.9814 - root_mean_squared_error: 100.9950\n"
          ]
        },
        {
          "data": {
            "text/plain": [
              "[10199.9814453125, 100.99495697021484]"
            ]
          },
          "execution_count": 8,
          "metadata": {},
          "output_type": "execute_result"
        }
      ],
      "source": [
        "#@title Train the model with bucket representations\n",
        "# The following variables are the hyperparameters.\n",
        "learning_rate = 0.04\n",
        "epochs = 35\n",
        "\n",
        "# Build the model, this time passing in the buckets_feature_layer.\n",
        "my_model = create_model(learning_rate, buckets_feature_layer)\n",
        "\n",
        "# Train the model on the training set.\n",
        "epochs, rmse = train_model(my_model, train_df, epochs, batch_size, label_name)\n",
        "\n",
        "plot_the_loss_curve(epochs, rmse)\n",
        "\n",
        "print(\"\\n: Evaluate the new model against the test set:\")\n",
        "my_model.evaluate(x=test_features, y=test_label, batch_size=batch_size)"
      ]
    },
    {
      "cell_type": "markdown",
      "metadata": {
        "id": "Wb-bIKsN5M48"
      },
      "source": [
        "## Task 3: Did buckets outperform floating-point representations? What is a better way to represent location?\n",
        "\n",
        "Compare the model's `root_mean_squared_error` values for the two representations (floating-point vs. buckets)?  Which model produced lower losses? "
      ]
    },
    {
      "cell_type": "markdown",
      "metadata": {
        "cellView": "form",
        "id": "6sUlX1335UCb"
      },
      "source": [
        "With the difference between RMSE of the two models being almost 10, we can say that the buckets version outperformed the floating-point representation. Therefore, using buckets is better because it is a fairer way of representing location, giving each bucket an appropriate weight. \n"
      ]
    },
    {
      "cell_type": "code",
      "execution_count": 25,
      "metadata": {
        "cellView": "form",
        "id": "HunsuEzqn21s"
      },
      "outputs": [],
      "source": [
        "#@title Represent location as a feature cross\n",
        "\n",
        "#The following code cell represents location as a feature cross. That is, the following code cell first creates buckets and then calls `tf.feature_column.crossed_column` to cross the buckets.\n",
        "resolution_in_degrees = 0.5\n",
        "\n",
        "# Create a new empty list that will eventually hold the generated feature column.\n",
        "feature_columns = []\n",
        "\n",
        "# Create a bucket feature column for latitude.\n",
        "latitude_as_a_numeric_column = tf.feature_column.numeric_column(\"latitude\")\n",
        "latitude_boundaries = list(np.arange(int(min(train_df['latitude'])), int(max(train_df['latitude'])), resolution_in_degrees))\n",
        "latitude = tf.feature_column.bucketized_column(latitude_as_a_numeric_column, latitude_boundaries)\n",
        "\n",
        "# Create a bucket feature column for longitude.\n",
        "longitude_as_a_numeric_column = tf.feature_column.numeric_column(\"longitude\")\n",
        "longitude_boundaries = list(np.arange(int(min(train_df['longitude'])), int(max(train_df['longitude'])), resolution_in_degrees))\n",
        "longitude = tf.feature_column.bucketized_column(longitude_as_a_numeric_column, longitude_boundaries)\n",
        "\n",
        "# Create a feature cross of latitude and longitude.\n",
        "latitude_x_longitude = tf.feature_column.crossed_column([latitude, longitude], hash_bucket_size=100)\n",
        "crossed_feature = tf.feature_column.indicator_column(latitude_x_longitude)\n",
        "feature_columns.append(crossed_feature)\n",
        "\n",
        "# Convert the list of feature columns into a layer that will later be fed into\n",
        "# the model. \n",
        "feature_cross_feature_layer = layers.DenseFeatures(feature_columns)"
      ]
    },
    {
      "cell_type": "code",
      "execution_count": 26,
      "metadata": {
        "cellView": "form",
        "id": "qn2PRDBEr5ni"
      },
      "outputs": [
        {
          "name": "stdout",
          "output_type": "stream",
          "text": [
            "Epoch 1/35\n",
            "WARNING:tensorflow:Layers in a Sequential model should only have a single input tensor, but we receive a <class 'dict'> input: {'longitude': <tf.Tensor 'ExpandDims_3:0' shape=(100, 1) dtype=float32>, 'latitude': <tf.Tensor 'ExpandDims_2:0' shape=(100, 1) dtype=float32>, 'housing_median_age': <tf.Tensor 'ExpandDims_1:0' shape=(100, 1) dtype=float32>, 'total_rooms': <tf.Tensor 'ExpandDims_7:0' shape=(100, 1) dtype=float32>, 'total_bedrooms': <tf.Tensor 'ExpandDims_6:0' shape=(100, 1) dtype=float32>, 'population': <tf.Tensor 'ExpandDims_5:0' shape=(100, 1) dtype=float32>, 'households': <tf.Tensor 'ExpandDims:0' shape=(100, 1) dtype=float32>, 'median_income': <tf.Tensor 'ExpandDims_4:0' shape=(100, 1) dtype=float32>}\n",
            "Consider rewriting this model with the Functional API.\n"
          ]
        },
        {
          "name": "stderr",
          "output_type": "stream",
          "text": [
            "C:\\Users\\Liam Glennie\\.conda\\envs\\tf-gpu\\lib\\site-packages\\tensorflow\\python\\keras\\optimizer_v2\\optimizer_v2.py:374: UserWarning: The `lr` argument is deprecated, use `learning_rate` instead.\n",
            "  warnings.warn(\n"
          ]
        },
        {
          "name": "stdout",
          "output_type": "stream",
          "text": [
            "WARNING:tensorflow:Layers in a Sequential model should only have a single input tensor, but we receive a <class 'dict'> input: {'longitude': <tf.Tensor 'ExpandDims_3:0' shape=(100, 1) dtype=float32>, 'latitude': <tf.Tensor 'ExpandDims_2:0' shape=(100, 1) dtype=float32>, 'housing_median_age': <tf.Tensor 'ExpandDims_1:0' shape=(100, 1) dtype=float32>, 'total_rooms': <tf.Tensor 'ExpandDims_7:0' shape=(100, 1) dtype=float32>, 'total_bedrooms': <tf.Tensor 'ExpandDims_6:0' shape=(100, 1) dtype=float32>, 'population': <tf.Tensor 'ExpandDims_5:0' shape=(100, 1) dtype=float32>, 'households': <tf.Tensor 'ExpandDims:0' shape=(100, 1) dtype=float32>, 'median_income': <tf.Tensor 'ExpandDims_4:0' shape=(100, 1) dtype=float32>}\n",
            "Consider rewriting this model with the Functional API.\n",
            "170/170 [==============================] - 1s 6ms/step - loss: 53622.9141 - root_mean_squared_error: 231.5662\n",
            "Epoch 2/35\n",
            "170/170 [==============================] - 1s 4ms/step - loss: 48737.7344 - root_mean_squared_error: 220.7662\n",
            "Epoch 3/35\n",
            "170/170 [==============================] - 1s 4ms/step - loss: 44169.5352 - root_mean_squared_error: 210.1655\n",
            "Epoch 4/35\n",
            "170/170 [==============================] - 1s 4ms/step - loss: 39923.7344 - root_mean_squared_error: 199.8092A: 0s - loss: 40492.2148 - root_mean_squared_error: 201.\n",
            "Epoch 5/35\n",
            "170/170 [==============================] - 1s 4ms/step - loss: 35979.6016 - root_mean_squared_error: 189.6829A: 0s - loss: 36816.6484 - root_mean_squared_error: 191\n",
            "Epoch 6/35\n",
            "170/170 [==============================] - 1s 4ms/step - loss: 32347.9746 - root_mean_squared_error: 179.8554\n",
            "Epoch 7/35\n",
            "170/170 [==============================] - 1s 4ms/step - loss: 29037.1914 - root_mean_squared_error: 170.4030A: 0s - loss: 29480.2266 - root_mean_squared_error\n",
            "Epoch 8/35\n",
            "170/170 [==============================] - 1s 4ms/step - loss: 26031.0723 - root_mean_squared_error: 161.3415\n",
            "Epoch 9/35\n",
            "170/170 [==============================] - 1s 4ms/step - loss: 23322.0059 - root_mean_squared_error: 152.7154\n",
            "Epoch 10/35\n",
            "170/170 [==============================] - 1s 4ms/step - loss: 20910.0117 - root_mean_squared_error: 144.6029\n",
            "Epoch 11/35\n",
            "170/170 [==============================] - 1s 5ms/step - loss: 18771.7461 - root_mean_squared_error: 137.0100\n",
            "Epoch 12/35\n",
            "170/170 [==============================] - 1s 4ms/step - loss: 16885.0352 - root_mean_squared_error: 129.9424\n",
            "Epoch 13/35\n",
            "170/170 [==============================] - 1s 4ms/step - loss: 15263.5068 - root_mean_squared_error: 123.5456\n",
            "Epoch 14/35\n",
            "170/170 [==============================] - 1s 4ms/step - loss: 13892.6758 - root_mean_squared_error: 117.8672A: 0s - loss: 14566.3311 - root_mean_squared_error:\n",
            "Epoch 15/35\n",
            "170/170 [==============================] - 1s 4ms/step - loss: 12775.4014 - root_mean_squared_error: 113.0283\n",
            "Epoch 16/35\n",
            "170/170 [==============================] - 1s 4ms/step - loss: 11861.6953 - root_mean_squared_error: 108.9114A: 0s - loss: 12349.9521 - root_mean_squared_error: 11\n",
            "Epoch 17/35\n",
            "170/170 [==============================] - 1s 4ms/step - loss: 11139.2842 - root_mean_squared_error: 105.5428\n",
            "Epoch 18/35\n",
            "170/170 [==============================] - 1s 4ms/step - loss: 10616.9092 - root_mean_squared_error: 103.0384\n",
            "Epoch 19/35\n",
            "170/170 [==============================] - 1s 4ms/step - loss: 10250.2959 - root_mean_squared_error: 101.2437\n",
            "Epoch 20/35\n",
            "170/170 [==============================] - 1s 4ms/step - loss: 10000.4297 - root_mean_squared_error: 100.0021\n",
            "Epoch 21/35\n",
            "170/170 [==============================] - 1s 4ms/step - loss: 9826.8945 - root_mean_squared_error: 99.1307\n",
            "Epoch 22/35\n",
            "170/170 [==============================] - 1s 4ms/step - loss: 9689.5596 - root_mean_squared_error: 98.4356\n",
            "Epoch 23/35\n",
            "170/170 [==============================] - 1s 4ms/step - loss: 9577.0742 - root_mean_squared_error: 97.8625\n",
            "Epoch 24/35\n",
            "170/170 [==============================] - 1s 4ms/step - loss: 9476.9268 - root_mean_squared_error: 97.3495\n",
            "Epoch 25/35\n",
            "170/170 [==============================] - 1s 4ms/step - loss: 9392.0596 - root_mean_squared_error: 96.9126\n",
            "Epoch 26/35\n",
            "170/170 [==============================] - 1s 4ms/step - loss: 9319.1553 - root_mean_squared_error: 96.5358\n",
            "Epoch 27/35\n",
            "170/170 [==============================] - 1s 4ms/step - loss: 9255.1240 - root_mean_squared_error: 96.2036\n",
            "Epoch 28/35\n",
            "170/170 [==============================] - 1s 4ms/step - loss: 9197.8154 - root_mean_squared_error: 95.9052\n",
            "Epoch 29/35\n",
            "170/170 [==============================] - 1s 4ms/step - loss: 9147.2861 - root_mean_squared_error: 95.6414\n",
            "Epoch 30/35\n",
            "170/170 [==============================] - 1s 4ms/step - loss: 9103.3457 - root_mean_squared_error: 95.4115\n",
            "Epoch 31/35\n",
            "170/170 [==============================] - 1s 4ms/step - loss: 9063.1348 - root_mean_squared_error: 95.2005\n",
            "Epoch 32/35\n",
            "170/170 [==============================] - 1s 4ms/step - loss: 9027.5781 - root_mean_squared_error: 95.0136A: 0s - loss: 9029.5156 - root_mean_squared_error: 95.0\n",
            "Epoch 33/35\n",
            "170/170 [==============================] - 1s 4ms/step - loss: 8995.6191 - root_mean_squared_error: 94.8452\n",
            "Epoch 34/35\n",
            "170/170 [==============================] - 1s 4ms/step - loss: 8967.0479 - root_mean_squared_error: 94.6945A: 0s - loss: 9293.0742 - root_mean_squared_error: 9\n",
            "Epoch 35/35\n",
            "170/170 [==============================] - 1s 4ms/step - loss: 8940.8262 - root_mean_squared_error: 94.5559\n"
          ]
        },
        {
          "data": {
            "image/png": "[encoded data removed]",
            "text/plain": [
              "<Figure size 432x288 with 1 Axes>"
            ]
          },
          "metadata": {
            "needs_background": "light"
          },
          "output_type": "display_data"
        },
        {
          "name": "stdout",
          "output_type": "stream",
          "text": [
            "\n",
            ": Evaluate the new model against the test set:\n",
            "WARNING:tensorflow:Layers in a Sequential model should only have a single input tensor, but we receive a <class 'dict'> input: {'longitude': <tf.Tensor 'ExpandDims_3:0' shape=(100, 1) dtype=float32>, 'latitude': <tf.Tensor 'ExpandDims_2:0' shape=(100, 1) dtype=float32>, 'housing_median_age': <tf.Tensor 'ExpandDims_1:0' shape=(100, 1) dtype=float32>, 'total_rooms': <tf.Tensor 'ExpandDims_7:0' shape=(100, 1) dtype=float32>, 'total_bedrooms': <tf.Tensor 'ExpandDims_6:0' shape=(100, 1) dtype=float32>, 'population': <tf.Tensor 'ExpandDims_5:0' shape=(100, 1) dtype=float32>, 'households': <tf.Tensor 'ExpandDims:0' shape=(100, 1) dtype=float32>, 'median_income': <tf.Tensor 'ExpandDims_4:0' shape=(100, 1) dtype=float32>}\n",
            "Consider rewriting this model with the Functional API.\n",
            "30/30 [==============================] - 0s 3ms/step - loss: 9008.8516 - root_mean_squared_error: 94.9150\n"
          ]
        },
        {
          "data": {
            "text/plain": [
              "[9008.8515625, 94.91497039794922]"
            ]
          },
          "execution_count": 26,
          "metadata": {},
          "output_type": "execute_result"
        }
      ],
      "source": [
        "#@title Test your model performance using feature cross.\n",
        "learning_rate = 0.04\n",
        "epochs = 35\n",
        "\n",
        "# Build the model, this time passing in the feature_cross_feature_layer: \n",
        "my_model = create_model(learning_rate, feature_cross_feature_layer)\n",
        "\n",
        "# Train the model on the training set.\n",
        "epochs, rmse = train_model(my_model, train_df, epochs, batch_size, label_name)\n",
        "\n",
        "plot_the_loss_curve(epochs, rmse)\n",
        "\n",
        "print(\"\\n: Evaluate the new model against the test set:\")\n",
        "my_model.evaluate(x=test_features, y=test_label, batch_size=batch_size)"
      ]
    },
    {
      "cell_type": "markdown",
      "metadata": {
        "id": "bCT-l1GaWNQE"
      },
      "source": [
        "## Task 4: Did the feature cross outperform buckets?\n",
        "\n",
        "Compare the model's `root_mean_squared_error` values for the two representations (buckets vs. feature cross)?  Which model produced\n",
        "lower losses? "
      ]
    },
    {
      "cell_type": "markdown",
      "metadata": {
        "cellView": "form",
        "id": "HUzdWDcs5rCi"
      },
      "source": [
        "If we compare the RMSE of the two models, we can observe that the model trained with feature cross outperformed the one trained with buckets. With the buckets method, we would feeding the model 2 one-hot feature vectors of size N. However, by performing feature cross on the latitude and longitude, we are giving the model 1 one-hot feature vector of size N*N. This allows the model to adjust the weights of each of the possible combinations better and achieve less error."
      ]
    },
    {
      "cell_type": "markdown",
      "metadata": {
        "id": "J9Iw3ljfXqSQ"
      },
      "source": [
        "## Task 5: Adjust the resolution of the feature cross\n",
        "\n",
        "Return to the code cell in the \"Represent location as a feature cross\" section. Notice that `resolution_in_degrees` is set to 1.0. Therefore, each cell represents an area of 1.0 degree of latitude by 1.0 degree of longitude, which corresponds to a cell of 110 km by 90 km.  This resolution defines a rather large neighborhood. \n",
        "\n",
        "Experiment with `resolution_in_degrees` to answer the following questions:\n",
        "\n",
        "  1. What value of `resolution_in_degrees` produces the best results (lowest loss value)?\n",
        "  2. Why does loss increase when the value of `resolution_in_degrees` drops below a certain value?\n"
      ]
    },
    {
      "cell_type": "markdown",
      "metadata": {
        "cellView": "form",
        "id": "71WWwlhx4h0X"
      },
      "source": [
        "The value for resolution_in_degrees that seems to produce the best results is 0.5 reducing the area to 55km by 45km. If we were to reduce the value of resolution_in_degrees, we would be reducing the area to a size that is too small for the model to learn optimally. This could be because there are buckets that don't have enough representation for the model to learn it correctly."
      ]
    },
    {
      "cell_type": "markdown",
      "metadata": {
        "id": "bBe2cR9HGp1L"
      },
      "source": [
        "## Task 6: Create the following feature cross \n",
        "* **[binned latitude x binned longitude x binned roomsPerPerson].**\n",
        "\n",
        "Choose the resolution for the roomsPerPerson appropriately. Test the performance of your model.\n",
        "\n",
        "**Hint:** First create an attribute **roomsPerperson** for the test and training data and then investigate if the attribute is okay for training. You may have to modify your testing model also."
      ]
    },
    {
      "cell_type": "code",
      "execution_count": 73,
      "metadata": {},
      "outputs": [],
      "source": [
        "train_df['roomPerPerson'] = pd.Series(train_df['total_rooms']/train_df['households'])\n",
        "test_df['roomPerPerson'] = pd.Series(test_df['total_rooms']/test_df['households'])"
      ]
    },
    {
      "cell_type": "code",
      "execution_count": 54,
      "metadata": {},
      "outputs": [],
      "source": [
        "# train_df['roomPerPerson'] = train_df['roomPerPerson'].mask(train_df['roomPerPerson'] > train_df['roomPerPerson'].mean() + 3*train_df['roomPerPerson'].std(), np.NaN)\n",
        "# train_df['roomPerPerson'].dropna(inplace=True)\n",
        "\n",
        "# test_df['roomPerPerson'] = test_df['roomPerPerson'].mask(test_df['roomPerPerson'] > test_df['roomPerPerson'].mean() + 3*test_df['roomPerPerson'].std(), np.NaN)\n",
        "# test_df['roomPerPerson'].dropna(inplace=True)"
      ]
    },
    {
      "cell_type": "code",
      "execution_count": 74,
      "metadata": {},
      "outputs": [],
      "source": [
        "#@title Represent location as a feature cross\n",
        "\n",
        "#The following code cell represents location as a feature cross. That is, the following code cell first creates buckets and then calls `tf.feature_column.crossed_column` to cross the buckets.\n",
        "resolution_in_degrees = 1.25\n",
        "\n",
        "# Create a new empty list that will eventually hold the generated feature column.\n",
        "feature_columns = []\n",
        "\n",
        "# Create a bucket feature column for latitude.\n",
        "latitude_as_a_numeric_column = tf.feature_column.numeric_column(\"latitude\")\n",
        "latitude_boundaries = list(np.arange(int(min(train_df['latitude'])), int(max(train_df['latitude'])), resolution_in_degrees))\n",
        "latitude = tf.feature_column.bucketized_column(latitude_as_a_numeric_column, latitude_boundaries)\n",
        "\n",
        "# Create a bucket feature column for longitude.\n",
        "longitude_as_a_numeric_column = tf.feature_column.numeric_column(\"longitude\")\n",
        "longitude_boundaries = list(np.arange(int(min(train_df['longitude'])), int(max(train_df['longitude'])), resolution_in_degrees))\n",
        "longitude = tf.feature_column.bucketized_column(longitude_as_a_numeric_column, longitude_boundaries)\n",
        "\n",
        "# Create a bucket feature column for roomPerPerson.\n",
        "roomPerPerson_as_a_numeric_column = tf.feature_column.numeric_column(\"roomPerPerson\")\n",
        "roomPerPerson_boundaries = list(np.arange(int(min(train_df['roomPerPerson'])), int(max(train_df['roomPerPerson'])), resolution_in_degrees))\n",
        "roomPerPerson = tf.feature_column.bucketized_column(roomPerPerson_as_a_numeric_column, roomPerPerson_boundaries)\n",
        "\n",
        "# Create a feature cross of latitude and longitude.\n",
        "latitude_x_longitude_x_roomPerPerson = tf.feature_column.crossed_column([latitude, longitude, roomPerPerson], hash_bucket_size=100)\n",
        "crossed_feature = tf.feature_column.indicator_column(latitude_x_longitude_x_roomPerPerson)\n",
        "feature_columns.append(crossed_feature)\n",
        "\n",
        "# Convert the list of feature columns into a layer that will later be fed into\n",
        "# the model. \n",
        "feature_cross_feature_layer = layers.DenseFeatures(feature_columns)"
      ]
    },
    {
      "cell_type": "code",
      "execution_count": 75,
      "metadata": {},
      "outputs": [
        {
          "name": "stdout",
          "output_type": "stream",
          "text": [
            "Epoch 1/35\n",
            "WARNING:tensorflow:Layers in a Sequential model should only have a single input tensor, but we receive a <class 'dict'> input: {'longitude': <tf.Tensor 'ExpandDims_3:0' shape=(100, 1) dtype=float32>, 'latitude': <tf.Tensor 'ExpandDims_2:0' shape=(100, 1) dtype=float32>, 'housing_median_age': <tf.Tensor 'ExpandDims_1:0' shape=(100, 1) dtype=float32>, 'total_rooms': <tf.Tensor 'ExpandDims_8:0' shape=(100, 1) dtype=float32>, 'total_bedrooms': <tf.Tensor 'ExpandDims_7:0' shape=(100, 1) dtype=float32>, 'population': <tf.Tensor 'ExpandDims_5:0' shape=(100, 1) dtype=float32>, 'households': <tf.Tensor 'ExpandDims:0' shape=(100, 1) dtype=float32>, 'median_income': <tf.Tensor 'ExpandDims_4:0' shape=(100, 1) dtype=float32>, 'roomPerPerson': <tf.Tensor 'ExpandDims_6:0' shape=(100, 1) dtype=float32>}\n",
            "Consider rewriting this model with the Functional API.\n"
          ]
        },
        {
          "name": "stderr",
          "output_type": "stream",
          "text": [
            "C:\\Users\\Liam Glennie\\.conda\\envs\\tf-gpu\\lib\\site-packages\\tensorflow\\python\\keras\\optimizer_v2\\optimizer_v2.py:374: UserWarning: The `lr` argument is deprecated, use `learning_rate` instead.\n",
            "  warnings.warn(\n"
          ]
        },
        {
          "name": "stdout",
          "output_type": "stream",
          "text": [
            "WARNING:tensorflow:Layers in a Sequential model should only have a single input tensor, but we receive a <class 'dict'> input: {'longitude': <tf.Tensor 'ExpandDims_3:0' shape=(100, 1) dtype=float32>, 'latitude': <tf.Tensor 'ExpandDims_2:0' shape=(100, 1) dtype=float32>, 'housing_median_age': <tf.Tensor 'ExpandDims_1:0' shape=(100, 1) dtype=float32>, 'total_rooms': <tf.Tensor 'ExpandDims_8:0' shape=(100, 1) dtype=float32>, 'total_bedrooms': <tf.Tensor 'ExpandDims_7:0' shape=(100, 1) dtype=float32>, 'population': <tf.Tensor 'ExpandDims_5:0' shape=(100, 1) dtype=float32>, 'households': <tf.Tensor 'ExpandDims:0' shape=(100, 1) dtype=float32>, 'median_income': <tf.Tensor 'ExpandDims_4:0' shape=(100, 1) dtype=float32>, 'roomPerPerson': <tf.Tensor 'ExpandDims_6:0' shape=(100, 1) dtype=float32>}\n",
            "Consider rewriting this model with the Functional API.\n",
            "170/170 [==============================] - 2s 6ms/step - loss: 53650.8594 - root_mean_squared_error: 231.6266\n",
            "Epoch 2/35\n",
            "170/170 [==============================] - 1s 7ms/step - loss: 48810.2227 - root_mean_squared_error: 220.9304\n",
            "Epoch 3/35\n",
            "170/170 [==============================] - 1s 6ms/step - loss: 44280.3438 - root_mean_squared_error: 210.4290\n",
            "Epoch 4/35\n",
            "170/170 [==============================] - 1s 6ms/step - loss: 40058.9258 - root_mean_squared_error: 200.1472\n",
            "Epoch 5/35\n",
            "170/170 [==============================] - 1s 6ms/step - loss: 36156.9375 - root_mean_squared_error: 190.1498A: 1s - loss: 36790.0312 - root_mean_squar\n",
            "Epoch 6/35\n",
            "170/170 [==============================] - 1s 5ms/step - loss: 32575.9473 - root_mean_squared_error: 180.4881\n",
            "Epoch 7/35\n",
            "170/170 [==============================] - 1s 5ms/step - loss: 29298.2441 - root_mean_squared_error: 171.1673\n",
            "Epoch 8/35\n",
            "170/170 [==============================] - 1s 6ms/step - loss: 26316.7402 - root_mean_squared_error: 162.2243\n",
            "Epoch 9/35\n",
            "170/170 [==============================] - 1s 6ms/step - loss: 23597.6152 - root_mean_squared_error: 153.6151\n",
            "Epoch 10/35\n",
            "170/170 [==============================] - 1s 6ms/step - loss: 21216.4551 - root_mean_squared_error: 145.6587\n",
            "Epoch 11/35\n",
            "170/170 [==============================] - 1s 6ms/step - loss: 19104.1602 - root_mean_squared_error: 138.2178\n",
            "Epoch 12/35\n",
            "170/170 [==============================] - 1s 6ms/step - loss: 17251.0488 - root_mean_squared_error: 131.3432\n",
            "Epoch 13/35\n",
            "170/170 [==============================] - 1s 5ms/step - loss: 15660.6016 - root_mean_squared_error: 125.1423\n",
            "Epoch 14/35\n",
            "170/170 [==============================] - 1s 6ms/step - loss: 14318.4238 - root_mean_squared_error: 119.6596\n",
            "Epoch 15/35\n",
            "170/170 [==============================] - 1s 6ms/step - loss: 13207.8994 - root_mean_squared_error: 114.9256\n",
            "Epoch 16/35\n",
            "170/170 [==============================] - 1s 6ms/step - loss: 12314.9287 - root_mean_squared_error: 110.9726\n",
            "Epoch 17/35\n",
            "170/170 [==============================] - 1s 6ms/step - loss: 11620.1006 - root_mean_squared_error: 107.7966\n",
            "Epoch 18/35\n",
            "170/170 [==============================] - 1s 7ms/step - loss: 11064.9307 - root_mean_squared_error: 105.1900\n",
            "Epoch 19/35\n",
            "170/170 [==============================] - 1s 6ms/step - loss: 10639.8594 - root_mean_squared_error: 103.1497\n",
            "Epoch 20/35\n",
            "170/170 [==============================] - 1s 6ms/step - loss: 10314.9893 - root_mean_squared_error: 101.5627\n",
            "Epoch 21/35\n",
            "170/170 [==============================] - 1s 7ms/step - loss: 10062.4277 - root_mean_squared_error: 100.3117\n",
            "Epoch 22/35\n",
            "170/170 [==============================] - 1s 6ms/step - loss: 9849.5020 - root_mean_squared_error: 99.2447\n",
            "Epoch 23/35\n",
            "170/170 [==============================] - 1s 6ms/step - loss: 9664.8525 - root_mean_squared_error: 98.3100\n",
            "Epoch 24/35\n",
            "170/170 [==============================] - 1s 7ms/step - loss: 9502.1631 - root_mean_squared_error: 97.4790\n",
            "Epoch 25/35\n",
            "170/170 [==============================] - 1s 6ms/step - loss: 9356.7607 - root_mean_squared_error: 96.7303\n",
            "Epoch 26/35\n",
            "170/170 [==============================] - 1s 6ms/step - loss: 9224.5615 - root_mean_squared_error: 96.0446\n",
            "Epoch 27/35\n",
            "170/170 [==============================] - 1s 6ms/step - loss: 9109.9141 - root_mean_squared_error: 95.4459\n",
            "Epoch 28/35\n",
            "170/170 [==============================] - 1s 6ms/step - loss: 9005.5361 - root_mean_squared_error: 94.8975\n",
            "Epoch 29/35\n",
            "170/170 [==============================] - 1s 6ms/step - loss: 8912.0664 - root_mean_squared_error: 94.4037\n",
            "Epoch 30/35\n",
            "170/170 [==============================] - 1s 6ms/step - loss: 8830.3984 - root_mean_squared_error: 93.9702\n",
            "Epoch 31/35\n",
            "170/170 [==============================] - 1s 7ms/step - loss: 8757.3438 - root_mean_squared_error: 93.5807\n",
            "Epoch 32/35\n",
            "170/170 [==============================] - 1s 5ms/step - loss: 8691.9102 - root_mean_squared_error: 93.2304\n",
            "Epoch 33/35\n",
            "170/170 [==============================] - 1s 6ms/step - loss: 8635.5576 - root_mean_squared_error: 92.9277\n",
            "Epoch 34/35\n",
            "170/170 [==============================] - 1s 6ms/step - loss: 8584.7578 - root_mean_squared_error: 92.6540\n",
            "Epoch 35/35\n",
            "170/170 [==============================] - 1s 7ms/step - loss: 8537.8760 - root_mean_squared_error: 92.4006\n"
          ]
        },
        {
          "data": {
            "image/png": "[encoded data removed]",
            "text/plain": [
              "<Figure size 432x288 with 1 Axes>"
            ]
          },
          "metadata": {
            "needs_background": "light"
          },
          "output_type": "display_data"
        },
        {
          "name": "stdout",
          "output_type": "stream",
          "text": [
            "\n",
            ": Evaluate the new model against the test set:\n",
            "WARNING:tensorflow:Layers in a Sequential model should only have a single input tensor, but we receive a <class 'dict'> input: {'longitude': <tf.Tensor 'ExpandDims_3:0' shape=(100, 1) dtype=float32>, 'latitude': <tf.Tensor 'ExpandDims_2:0' shape=(100, 1) dtype=float32>, 'housing_median_age': <tf.Tensor 'ExpandDims_1:0' shape=(100, 1) dtype=float32>, 'total_rooms': <tf.Tensor 'ExpandDims_8:0' shape=(100, 1) dtype=float32>, 'total_bedrooms': <tf.Tensor 'ExpandDims_7:0' shape=(100, 1) dtype=float32>, 'population': <tf.Tensor 'ExpandDims_5:0' shape=(100, 1) dtype=float32>, 'households': <tf.Tensor 'ExpandDims:0' shape=(100, 1) dtype=float32>, 'median_income': <tf.Tensor 'ExpandDims_4:0' shape=(100, 1) dtype=float32>, 'roomPerPerson': <tf.Tensor 'ExpandDims_6:0' shape=(100, 1) dtype=float32>}\n",
            "Consider rewriting this model with the Functional API.\n",
            "30/30 [==============================] - 0s 5ms/step - loss: 8325.0371 - root_mean_squared_error: 91.2416\n"
          ]
        },
        {
          "data": {
            "text/plain": [
              "[8325.037109375, 91.24163818359375]"
            ]
          },
          "execution_count": 75,
          "metadata": {},
          "output_type": "execute_result"
        }
      ],
      "source": [
        "#@title Test your model performance using feature cross.\n",
        "learning_rate = 0.04\n",
        "epochs = 35\n",
        "\n",
        "# Build the model, this time passing in the feature_cross_feature_layer: \n",
        "my_model = create_model(learning_rate, feature_cross_feature_layer)\n",
        "\n",
        "# Train the model on the training set.\n",
        "epochs, rmse = train_model(my_model, train_df, epochs, batch_size, label_name)\n",
        "\n",
        "plot_the_loss_curve(epochs, rmse)\n",
        "\n",
        "print(\"\\n: Evaluate the new model against the test set:\")\n",
        "test_features = {name:np.array(value) for name, value in test_df.items()}\n",
        "test_label = np.array(test_features.pop(label_name))\n",
        "my_model.evaluate(x=test_features, y=test_label, batch_size=batch_size)"
      ]
    }
  ],
  "metadata": {
    "colab": {
      "collapsed_sections": [],
      "name": "Lab 6 - Feature Cross.ipynb",
      "private_outputs": true,
      "provenance": []
    },
    "kernelspec": {
      "display_name": "Python 3",
      "name": "python3"
    },
    "language_info": {
      "codemirror_mode": {
        "name": "ipython",
        "version": 3
      },
      "file_extension": ".py",
      "mimetype": "text/x-python",
      "name": "python",
      "nbconvert_exporter": "python",
      "pygments_lexer": "ipython3",
      "version": "3.9.7"
    }
  },
  "nbformat": 4,
  "nbformat_minor": 0
}
