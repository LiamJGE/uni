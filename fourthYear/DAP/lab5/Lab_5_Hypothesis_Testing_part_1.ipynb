{
  "cells": [
    {
      "cell_type": "markdown",
      "metadata": {
        "id": "NFmGMr3HJ0Ws"
      },
      "source": [
        "### Task 1 - Dummy data creation\n",
        "\n",
        "Note: if you are using np.random.seed() function to generate random data - you may get different results.\n",
        "\n",
        "1. Population Data\n",
        "  * Create a poisson distribution (population_1) of 16,000 samples with a random mean in the range (30-35)\n",
        "  * Create another poisson distribution (population_2) of 12,000 samples with a random mean in the range (10-15)\n",
        "  * Create a population data by combining population_1 and population_2\n",
        "\n",
        "2. Sample data \n",
        "* Create a poisson distribution (sample_1) with a random mean in the range (25-30)\n",
        "  * Create another poisson distribution (sample_2) with a random mean in the range (10-15)\n",
        "  * Create a sample data by combining sample_1 and sample_2\n",
        "  * you are free to choose the size for sample_1 and sample_2 but total sample size must be between 40-50."
      ]
    },
    {
      "cell_type": "code",
      "execution_count": 82,
      "metadata": {
        "id": "DSUybtxA0TWX"
      },
      "outputs": [],
      "source": [
        "# Import relevant libraries\n",
        "import numpy as np\n",
        "import seaborn as sns\n",
        "import scipy.stats as stats\n",
        "import matplotlib.pyplot as plt\n",
        "import math\n",
        "import random\n",
        "\n",
        "# Dummy data creation\n",
        "#Population data\n",
        "population_1 = stats.poisson.rvs(random.randrange(30,35), size=16000)\n",
        "population_2 = stats.poisson.rvs(random.randrange(10,15), size=12000)\n",
        "\n",
        "pop = np.concatenate((population_1, population_2))\n",
        "\n",
        "#Sample data\n",
        "sample_1 = stats.poisson.rvs(random.randrange(20,25), size=30)\n",
        "sample_2 = stats.poisson.rvs(random.randrange(10,15), size=20)\n",
        "\n",
        "sample = np.concatenate((sample_1, sample_2))\n"
      ]
    },
    {
      "cell_type": "markdown",
      "metadata": {
        "id": "CxOtXGbNKmMQ"
      },
      "source": [
        "### Task 2 - Perform normality test for the sample data and state weather the given sample data is good for parametric testing (t-testing). You can look into normality tests that were not covered in class including Shapiro–Wilks test and the Kolmogorov–Smirnov test. You may use np.random.seed() to improve normality of the data."
      ]
    },
    {
      "cell_type": "code",
      "execution_count": 16,
      "metadata": {
        "id": "fPq18sfyIGsi"
      },
      "outputs": [
        {
          "name": "stdout",
          "output_type": "stream",
          "text": [
            "The population mean is:  23.26625\n",
            "The population median is:  25.0\n"
          ]
        },
        {
          "data": {
            "image/png": "[encoded data removed]",
            "text/plain": [
              "<Figure size 432x288 with 1 Axes>"
            ]
          },
          "metadata": {
            "needs_background": "light"
          },
          "output_type": "display_data"
        }
      ],
      "source": [
        "# \n",
        "print(\"The population mean is: \", np.mean(pop))\n",
        "print(\"The population median is: \", np.median(pop))\n",
        "\n",
        "sns.histplot(pop)\n",
        "plt.xlabel('Values')\n",
        "plt.ylabel('Count')\n",
        "plt.title('Poisson Popuation Histogram')\n",
        "plt.show()"
      ]
    },
    {
      "cell_type": "code",
      "execution_count": 21,
      "metadata": {},
      "outputs": [
        {
          "data": {
            "image/png": "[encoded data removed]",
            "text/plain": [
              "<Figure size 432x288 with 1 Axes>"
            ]
          },
          "metadata": {
            "needs_background": "light"
          },
          "output_type": "display_data"
        }
      ],
      "source": [
        "stats.probplot(pop, plot=sns.mpl.pyplot)\n",
        "plt.title(\"pop QQ Plot\")\n",
        "plt.show()"
      ]
    },
    {
      "cell_type": "markdown",
      "metadata": {},
      "source": [
        "After the graphical tests, it does not seem like it is a normal distribution. However, it could be considered as a double normal distribution. We will now perform numerical tests to determine it's normality. We assume a significance level of 0.05.\n",
        "\n",
        "H0: The distribution is normal\n",
        "\n",
        "H1: The distribution is not normal"
      ]
    },
    {
      "cell_type": "markdown",
      "metadata": {},
      "source": [
        "<h4>Shapiro-Wilks test</h4>"
      ]
    },
    {
      "cell_type": "code",
      "execution_count": 22,
      "metadata": {},
      "outputs": [
        {
          "name": "stdout",
          "output_type": "stream",
          "text": [
            "0.0\n",
            "We reject the null hypothesis\n"
          ]
        },
        {
          "name": "stderr",
          "output_type": "stream",
          "text": [
            "C:\\ProgramData\\Anaconda3\\lib\\site-packages\\scipy\\stats\\morestats.py:1681: UserWarning: p-value may not be accurate for N > 5000.\n",
            "  warnings.warn(\"p-value may not be accurate for N > 5000.\")\n"
          ]
        }
      ],
      "source": [
        "stat, p = stats.shapiro(pop)\n",
        "print(p)\n",
        "\n",
        "if p <= 0.05:\n",
        "    print(\"We reject the null hypothesis\")\n",
        "else:\n",
        "    print(\"We fail to reject the null hypothesis\")"
      ]
    },
    {
      "cell_type": "markdown",
      "metadata": {},
      "source": [
        "<h4>Normality test</h4>"
      ]
    },
    {
      "cell_type": "code",
      "execution_count": 28,
      "metadata": {},
      "outputs": [
        {
          "name": "stdout",
          "output_type": "stream",
          "text": [
            "26960.298069834545458 0.0\n",
            "We reject the null hypothesis\n"
          ]
        }
      ],
      "source": [
        "stat, p = stats.normaltest(pop)\n",
        "print(\"{:.20} {:.20}\".format(stat, p))\n",
        "\n",
        "if p <= 0.05:\n",
        "    print(\"We reject the null hypothesis\")\n",
        "else:\n",
        "    print(\"We fail to reject the null hypothesis\")"
      ]
    },
    {
      "cell_type": "markdown",
      "metadata": {},
      "source": [
        "<h4>Kolmogorov-Smirnov test</h4>"
      ]
    },
    {
      "cell_type": "code",
      "execution_count": 30,
      "metadata": {},
      "outputs": [
        {
          "name": "stdout",
          "output_type": "stream",
          "text": [
            "0.99950404304388118515 0.0\n",
            "We reject the null hypothesis\n"
          ]
        }
      ],
      "source": [
        "stat, p = stats.kstest(pop, 'norm')\n",
        "print(\"{:.20} {:.20}\".format(stat, p))\n",
        "\n",
        "if p <= 0.05:\n",
        "    print(\"We reject the null hypothesis\")\n",
        "else:\n",
        "    print(\"We fail to reject the null hypothesis\")"
      ]
    },
    {
      "cell_type": "markdown",
      "metadata": {},
      "source": [
        "All 3 tests have rejected the null hypothesis. Therefore, we reject that the distribution is normal or gaussian."
      ]
    },
    {
      "cell_type": "markdown",
      "metadata": {
        "id": "whSI3MFPKyyB"
      },
      "source": [
        "### Task 3 -  Conduct a one-sample t-test at a 95% confidence level and see if it correctly rejects the null hypothesis that the sample comes from the same distribution as the population."
      ]
    },
    {
      "cell_type": "code",
      "execution_count": 83,
      "metadata": {},
      "outputs": [
        {
          "name": "stdout",
          "output_type": "stream",
          "text": [
            "The sample mean is:  16.54\n",
            "The sample median is:  16.5\n"
          ]
        },
        {
          "data": {
            "image/png": "[encoded data removed]",
            "text/plain": [
              "<Figure size 432x288 with 1 Axes>"
            ]
          },
          "metadata": {
            "needs_background": "light"
          },
          "output_type": "display_data"
        }
      ],
      "source": [
        "# Generate and plot poisson distribution. You can create additional code cells to display outputs\n",
        "print(\"The sample mean is: \", np.mean(sample))\n",
        "print(\"The sample median is: \", np.median(sample))\n",
        "\n",
        "sns.histplot(sample)\n",
        "plt.xlabel('Values')\n",
        "plt.ylabel('Count')\n",
        "plt.title('Poisson Sample Histogram')\n",
        "plt.show()"
      ]
    },
    {
      "cell_type": "code",
      "execution_count": 84,
      "metadata": {},
      "outputs": [
        {
          "name": "stdout",
          "output_type": "stream",
          "text": [
            "9.446428910712536e-11\n",
            "We reject the null hypothesis\n"
          ]
        }
      ],
      "source": [
        "stat, p = stats.ttest_1samp(sample, np.mean(pop))\n",
        "\n",
        "print(p)\n",
        "\n",
        "if p <= 0.05:\n",
        "    print(\"We reject the null hypothesis\")\n",
        "else:\n",
        "    print(\"We fail to reject the null hypothesis\")"
      ]
    },
    {
      "cell_type": "markdown",
      "metadata": {
        "id": "tOjyFHbsKyca"
      },
      "source": [
        "As the p-value is less than 0.05, we reject the null hypothesis."
      ]
    },
    {
      "cell_type": "markdown",
      "metadata": {
        "id": "FU2NqBHKhA53"
      },
      "source": [
        "### Task 4 - In a poll of 400 randomly selected Irish population, 250 said yes to the question “Are you familiar with machine learning?”. \n",
        "\n",
        "* Construct the 95% confidence interval for the proportion of all Irish who are familiar with machine learning. Interpret the confidence interval.\n",
        "\n",
        "* Test the claim using 10% significance level that less than 60% of the Irish population are familiar with the machine learning.\n",
        "\n",
        "\n"
      ]
    },
    {
      "cell_type": "code",
      "execution_count": 79,
      "metadata": {
        "id": "hvhKhAU4jKty"
      },
      "outputs": [
        {
          "name": "stdout",
          "output_type": "stream",
          "text": [
            "The confidence interval is (0.5622932220567861, 0.6877067779432139)\n"
          ]
        }
      ],
      "source": [
        "#We can use the CLT. As the distribution is composed of proportions, we can build a normal distribution\n",
        "ci = stats.norm.interval(0.05, loc=250/400)\n",
        "\n",
        "print(\"The confidence interval is\", ci)"
      ]
    },
    {
      "cell_type": "markdown",
      "metadata": {},
      "source": [
        "This result means that if we were to take another sample from the population, proportion of Irish people who are familiar with machine learning would lie between these 2 values."
      ]
    },
    {
      "cell_type": "markdown",
      "metadata": {},
      "source": [
        "We state the hypothesis:\n",
        "\n",
        "H0: Less than 60% of the Irish population are familiar with machine learning\n",
        "\n",
        "H1: Exactly or more than 60% of the Irish population are familiar with machine learning"
      ]
    },
    {
      "cell_type": "code",
      "execution_count": 80,
      "metadata": {},
      "outputs": [
        {
          "name": "stdout",
          "output_type": "stream",
          "text": [
            "The confidence interval is (0.499338653144926, 0.7506613468550741)\n"
          ]
        }
      ],
      "source": [
        "ci = stats.norm.interval(0.1, loc=250/400)\n",
        "\n",
        "print(\"The confidence interval is\", ci)"
      ]
    },
    {
      "cell_type": "code",
      "execution_count": 90,
      "metadata": {},
      "outputs": [
        {
          "name": "stdout",
          "output_type": "stream",
          "text": [
            "0.30211449932828666\n"
          ]
        }
      ],
      "source": [
        "p = stats.binom_test(0.6*400, 400, 250/400)\n",
        "print(p)"
      ]
    },
    {
      "cell_type": "markdown",
      "metadata": {},
      "source": [
        "Considering that 0.6 is within the confidence intervals when using a 10% significance level, we fail to reject the null hypothesis because 0.6 is not within the rejection region. This is also supported by the fact that the p-value is greater than the significance level."
      ]
    },
    {
      "cell_type": "markdown",
      "metadata": {
        "id": "Mu8Ks4e4la05"
      },
      "source": [
        "### Task 5 - Convert the proportion analysis done on lecture slide between 28-35 into python code and compare the results discussed in class."
      ]
    },
    {
      "cell_type": "markdown",
      "metadata": {},
      "source": [
        "H0: The difference between the proportions of individuals that responded to the treatment is equal in both groups.\n",
        "\n",
        "H1: The difference between the proportions of individuals that responded to the treatment is not equal in both groups."
      ]
    },
    {
      "cell_type": "code",
      "execution_count": 100,
      "metadata": {},
      "outputs": [
        {
          "name": "stdout",
          "output_type": "stream",
          "text": [
            "-1.9174899417644093\n",
            "0.055175717585989874\n"
          ]
        }
      ],
      "source": [
        "p1 = 20/60\n",
        "p2 = 35/70\n",
        "\n",
        "pHat = (20+35)/(60+70)\n",
        "\n",
        "zScore = (p1-p2) / math.sqrt(pHat * (1-pHat) * ((1/60) + (1/70)))\n",
        "print(zScore)\n",
        "#We multiply by 2 because it is a 2-tailed test\n",
        "p = stats.norm.cdf(zScore)*2\n",
        "print(p)"
      ]
    }
  ],
  "metadata": {
    "colab": {
      "collapsed_sections": [],
      "name": "Lab 5 Hypothesis Testing part 1.ipynb",
      "provenance": []
    },
    "kernelspec": {
      "display_name": "Python 3",
      "name": "python3"
    },
    "language_info": {
      "codemirror_mode": {
        "name": "ipython",
        "version": 3
      },
      "file_extension": ".py",
      "mimetype": "text/x-python",
      "name": "python",
      "nbconvert_exporter": "python",
      "pygments_lexer": "ipython3",
      "version": "3.8.5"
    }
  },
  "nbformat": 4,
  "nbformat_minor": 0
}
