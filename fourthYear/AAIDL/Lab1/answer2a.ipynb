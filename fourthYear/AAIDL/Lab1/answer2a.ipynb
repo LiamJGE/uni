Predicted Score: 62.57 %
Loss: 1.6033703622592354e-05


Run: 2
Predicted Score: 71.02 %
Loss: 0.004065109724798085


Run: 3
Predicted Score: 65.4 %
Loss: 0.0005773146692186435


Run: 4
Predicted Score: 22.48 %
Loss: 0.07810471431026157


Run: 5
Predicted Score: 71.85 %
Loss: 0.004852891508321709


Run: 6
Predicted Score: 56.83 %
Loss: 0.0013356553529459728


Run: 7
Predicted Score: 81.04 %
Loss: 0.0181282189637713


Run: 8
Predicted Score: 41.62 %
Loss: 0.020759117395565664


Run: 9
Predicted Score: 42.18 %
Loss: 0.019638890485196424


Run: 10
Predicted Score: 60.06 %
Loss: 0.00018750029261662324


Run: 11
Predicted Score: 67.2 %
Loss: 0.0013521002201194235


Run: 12
Predicted Score: 57.03 %
Loss: 0.0012351765379515296


Run: 13
Predicted Score: 41.68 %
Loss: 0.02064415435606644


Run: 14
Predicted Score: 53.37 %
Loss: 0.0037227380197913194


Run: 15
Predicted Score: 38.09 %
Loss: 0.02857797862857436


Run: 16
Predicted Score: 47.95 %
Loss: 0.00986639891939499


Run: 17
Predicted Score: 38.79 %
Loss: 0.02694595564277299


Run: 18
Predicted Score: 49.56 %
Loss: 0.007736991568742705


Run: 19
Predicted Score: 45.46 %
Loss: 0.013678384622624756


Run: 20
Predicted Score: 43.77 %
Loss: 0.01661168979795999


Run: 21
Predicted Score: 33.24 %
Loss: 0.04134638423059201


Run: 22
Predicted Score: 87.31 %
Loss: 0.03202157718330619


Run: 23
Predicted Score: 80.15 %
Loss: 0.01647531175784092


Run: 24
Predicted Score: 69.54 %
Loss: 0.0028432926726713113


Run: 25
Predicted Score: 41.1 %
Loss: 0.021842641628488903


Run: 26
Predicted Score: 54.78 %
Loss: 0.00260437612850612


Run: 27
Predicted Score: 80.16 %
Loss: 0.01649504747501506


Run: 28
Predicted Score: 66.11 %
Loss: 0.000843619968352824


Run: 29
Predicted Score: 49.15 %
Loss: 0.008262217830501595


Run: 30
Predicted Score: 52.85 %
Loss: 0.004188681759034157


Run: 31
Predicted Score: 18.04 %
Loss: 0.09664293215169177


Run: 32
Predicted Score: 50.99 %
Loss: 0.006056515247893526


Run: 33
Predicted Score: 59.86 %
Loss: 0.00022991327516039042


Run: 34
Predicted Score: 50.6 %
Loss: 0.006499206657888418


Run: 35
Predicted Score: 35.81 %
Loss: 0.034308632712736466


Run: 36
Predicted Score: 62.68 %
Loss: 2.3275129386982516e-05


Run: 37
Predicted Score: 67.07 %
Loss: 0.0012873515062809032


Run: 38
Predicted Score: 71.36 %
Loss: 0.004382509412147854


Run: 39
Predicted Score: 48.91 %
Loss: 0.008570327544253045


Run: 40
Predicted Score: 67.08 %
Loss: 0.0012923240028479544


Run: 41
Predicted Score: 63.22 %
Loss: 7.4373538401799e-05


Run: 42
Predicted Score: 43.68 %
Loss: 0.01677983075714519


Run: 43
Predicted Score: 74.17 %
Loss: 0.007401446958947715


Run: 44
Predicted Score: 69.89 %
Loss: 0.0031101324534787444


Run: 45
Predicted Score: 31.17 %
Loss: 0.047512582627838924


Run: 46
Predicted Score: 26.85 %
Loss: 0.06176214232180361


Run: 47
Predicted Score: 33.39 %
Loss: 0.04092263779476795


Run: 48
Predicted Score: 63.34 %
Loss: 8.939192871105423e-05


Run: 49
Predicted Score: 70.87 %
Loss: 0.003934026809569586


Run: 50
Predicted Score: 55.58 %
Loss: 0.002059454117049526


Run: 51
Predicted Score: 72.08 %
Loss: 0.005082321812694096


Run: 52
Predicted Score: 41.58 %
Loss: 0.02084346895207327


Run: 53
Predicted Score: 25.87 %
Loss: 0.06525371408063912


Run: 54
Predicted Score: 37.96 %
Loss: 0.02890567450875183


Run: 55
Predicted Score: 43.46 %
Loss: 0.017190892210274592


Run: 56
Predicted Score: 38.59 %
Loss: 0.027396612104315356


Run: 57
Predicted Score: 26.67 %
Loss: 0.062407926525739


Run: 58
Predicted Score: 55.79 %
Loss: 0.0019278838144582888


Run: 59
Predicted Score: 64.21 %
Loss: 0.0002440362680816421


Run: 60
Predicted Score: 57.43 %
Loss: 0.0010438493561990302


Run: 61
Predicted Score: 50.27 %
Loss: 0.006885444831882549


Run: 62
Predicted Score: 69.83 %
Loss: 0.0030631771759938144


Run: 63
Predicted Score: 67.02 %
Loss: 0.0012606385604673812


Run: 64
Predicted Score: 44.97 %
Loss: 0.014503316824215632


Run: 65
Predicted Score: 42.35 %
Loss: 0.01930315050988131


Run: 66
Predicted Score: 59.75 %
Loss: 0.0002526393046218164


Run: 67
Predicted Score: 14.5 %
Loss: 0.11282915554657076


Run: 68
Predicted Score: 89.42 %
Loss: 0.03759772837805482


Run: 69
Predicted Score: 73.89 %
Loss: 0.007069674246590409


Run: 70
Predicted Score: 13.23 %
Loss: 0.11892150045001045


Run: 71
Predicted Score: 48.92 %
Loss: 0.008550818293905166


Run: 72
Predicted Score: 64.96 %
Loss: 0.0004366810176504644


Run: 73
Predicted Score: 38.43 %
Loss: 0.027765717312279396


Run: 74
Predicted Score: 58.38 %
Loss: 0.0006562178561871068


Run: 75
Predicted Score: 23.79 %
Loss: 0.07299831625626545


Run: 76
Predicted Score: 60.29 %
Loss: 0.00014549683419842275


Run: 77
Predicted Score: 48.01 %
Loss: 0.009789079166317055


Run: 78
Predicted Score: 80.3 %
Loss: 0.01674561756902209


Run: 79
Predicted Score: 60.15 %
Loss: 0.00017075600025022805


Run: 80
Predicted Score: 58.62 %
Loss: 0.0005718474516168593


Run: 81
Predicted Score: 18.29 %
Loss: 0.09552266384575882


Run: 82
Predicted Score: 63.26 %
Loss: 7.911050441967181e-05


Run: 83
Predicted Score: 32.46 %
Loss: 0.0436354184547801


Run: 84
Predicted Score: 45.81 %
Loss: 0.013106284119175138


Run: 85
Predicted Score: 85.03 %
Loss: 0.02651301676804155


Run: 86
Predicted Score: 34.46 %
Loss: 0.03792327053870577


Run: 87
Predicted Score: 53.48 %
Loss: 0.0036287178478274238


Run: 88
Predicted Score: 54.0 %
Loss: 0.003200930643305943


Run: 89
Predicted Score: 59.36 %
Loss: 0.00034763982283905515


Run: 90
Predicted Score: 29.63 %
Loss: 0.05238755247513011


Run: 91
Predicted Score: 72.26 %
Loss: 0.005262521135474871


Run: 92
Predicted Score: 49.67 %
Loss: 0.007600539081344814


Run: 93
Predicted Score: 20.91 %
Loss: 0.0844137488761435


Run: 94
Predicted Score: 81.59 %
Loss: 0.019194293924421138


Run: 95
Predicted Score: 66.17 %
Loss: 0.0008689339518354836


Run: 96
Predicted Score: 50.94 %
Loss: 0.006115527813497905


Run: 97
Predicted Score: 35.08 %
Loss: 0.036235526667786636


Run: 98
Predicted Score: 38.42 %
Loss: 0.02780306309597864


Run: 99
Predicted Score: 31.92 %
Loss: 0.045225471802115676


Run: 100
Predicted Score: 28.85 %
Loss: 0.05493280773084224


Run: 101
Predicted Score: 63.27 %
Loss: 8.043840690457604e-05


Run: 102
Predicted Score: 53.05 %
Loss: 0.004007388383316525


Run: 103
Predicted Score: 49.66 %
Loss: 0.0076091152712910275


Run: 104
Predicted Score: 72.06 %
Loss: 0.0050563283130749615


Run: 105
Predicted Score: 45.72 %
Loss: 0.0132563005312801


Run: 106
Predicted Score: 53.93 %
Loss: 0.0032579118036231065


Run: 107
Predicted Score: 47.4 %
Loss: 0.010651607706877229


Run: 108
Predicted Score: 65.18 %
Loss: 0.0005056712036549361


Run: 109
Predicted Score: 56.66 %
Loss: 0.0014256357783969315


Run: 110
Predicted Score: 83.0 %
Loss: 0.022053261794752217


Run: 111
Predicted Score: 47.51 %
Loss: 0.010494737713089907


Run: 112
Predicted Score: 39.25 %
Loss: 0.025888406190094665


Run: 113
Predicted Score: 69.75 %
Loss: 0.0029996048957586017


Run: 114
Predicted Score: 60.99 %
Loss: 5.0856965041329836e-05


Run: 115
Predicted Score: 41.97 %
Loss: 0.02005780608374371


Run: 116
Predicted Score: 56.1 %
Loss: 0.0017403216689264218


Run: 117
Predicted Score: 29.38 %
Loss: 0.0532065979528


Run: 118
Predicted Score: 26.14 %
Loss: 0.06431008253833773


Run: 119
Predicted Score: 67.27 %
Loss: 0.0013875776689139918


Run: 120
Predicted Score: 39.67 %
Loss: 0.02494214949881685


Run: 121
Predicted Score: 78.95 %
Loss: 0.014357450455629566


Run: 122
Predicted Score: 65.01 %
Loss: 0.00045245334014349883


Run: 123
Predicted Score: 57.9 %
Loss: 0.0008422761135500027


Run: 124
Predicted Score: 56.57 %
Loss: 0.0014761482626562147


Run: 125
Predicted Score: 30.22 %
Loss: 0.050511123502927996


Run: 126
Predicted Score: 41.4 %
Loss: 0.021217275661858465


Run: 127
Predicted Score: 25.84 %
Loss: 0.06537381166343639


Run: 128
Predicted Score: 88.49 %
Loss: 0.03509741469327172


Run: 129
Predicted Score: 51.85 %
Loss: 0.005147069120137819


Run: 130
Predicted Score: 45.67 %
Loss: 0.013332320764913648


Run: 131
Predicted Score: 7.25 %
Loss: 0.14986790503652495


Run: 132
Predicted Score: 71.94 %
Loss: 0.004945019881880618


Run: 133
Predicted Score: 64.45 %
Loss: 0.00030060296476426687


Run: 134
Predicted Score: 25.1 %
Loss: 0.06806814710323877


Run: 135
Predicted Score: 42.18 %
Loss: 0.019634713985980195


Run: 136
Predicted Score: 53.44 %
Loss: 0.0036649948991635986


Run: 137
Predicted Score: 33.45 %
Loss: 0.04076332388295841


Run: 138
Predicted Score: 38.73 %
Loss: 0.027080511191104387


Run: 139
Predicted Score: 61.56 %
Loss: 9.543996875180038e-06


Run: 140
Predicted Score: 75.22 %
Loss: 0.008741049940146527


Run: 141
Predicted Score: 24.84 %
Loss: 0.06902803638542138


Run: 142
Predicted Score: 28.27 %
Loss: 0.056897352036541886


Run: 143
Predicted Score: 35.11 %
Loss: 0.036144509090071546


Run: 144
Predicted Score: 70.13 %
Loss: 0.003306674654529843


Run: 145
Predicted Score: 19.57 %
Loss: 0.09000889382945557


Run: 146
Predicted Score: 86.11 %
Loss: 0.02907221185647342


Run: 147
Predicted Score: 75.33 %
Loss: 0.008878731940859544


Run: 148
Predicted Score: 59.83 %
Loss: 0.0002348997642878735


Run: 149
Predicted Score: 68.24 %
Loss: 0.0019471872767313856


Run: 150
Predicted Score: 17.94 %
Loss: 0.09707931000574055


Run: 151
Predicted Score: 32.74 %
Loss: 0.0428031136141972


Run: 152
Predicted Score: 92.29 %
Loss: 0.0458710932182749


Run: 153
Predicted Score: 66.01 %
Loss: 0.0008032328760626566


Run: 154
Predicted Score: 12.83 %
Loss: 0.12086948059272598


Run: 155
Predicted Score: 62.69 %
Loss: 2.3996962390150708e-05


Run: 156
Predicted Score: 69.49 %
Loss: 0.002804314260577175


Run: 157
Predicted Score: 30.47 %
Loss: 0.04970446511929646


Run: 158
Predicted Score: 73.41 %
Loss: 0.006514273615242718


Run: 159
Predicted Score: 37.0 %
Loss: 0.03124714188946915


Run: 160
Predicted Score: 18.59 %
Loss: 0.09423461869694028


Run: 161
Predicted Score: 81.6 %
Loss: 0.019214876973621904


Run: 162
Predicted Score: 54.77 %
Loss: 0.0026128259173782645


Run: 163
Predicted Score: 50.47 %
Loss: 0.006651280816438659


Run: 164
Predicted Score: 39.12 %
Loss: 0.026171558699640066


Run: 165
Predicted Score: 44.82 %
Loss: 0.014760040655181054


Run: 166
Predicted Score: 36.31 %
Loss: 0.03299171798629349


Run: 167
Predicted Score: 50.64 %
Loss: 0.0064553357429951675


Run: 168
Predicted Score: 41.32 %
Loss: 0.02138969363999776


Run: 169
Predicted Score: 43.64 %
Loss: 0.016863060616855736


Run: 170
Predicted Score: 35.52 %
Loss: 0.03505735444167807


Run: 171
Predicted Score: 21.08 %
Loss: 0.08371271590371918


Run: 172
Predicted Score: 42.19 %
Loss: 0.019611973961294375


Run: 173
Predicted Score: 36.59 %
Loss: 0.03227925441282182


Run: 174
Predicted Score: 49.59 %
Loss: 0.007703670078309729


Run: 175
Predicted Score: 43.82 %
Loss: 0.016523531845758818


Run: 176
Predicted Score: 34.54 %
Loss: 0.03770613073308762


Run: 177
Predicted Score: 78.38 %
Loss: 0.013419868776744663


Run: 178
Predicted Score: 57.32 %
Loss: 0.001094721723270052


Run: 179
Predicted Score: 60.02 %
Loss: 0.00019556597045967765


Run: 180
Predicted Score: 43.68 %
Loss: 0.01677269087730593


Run: 181
Predicted Score: 52.85 %
Loss: 0.004182174260854869


Run: 182
Predicted Score: 69.94 %
Loss: 0.0031486368231946303


Run: 183
Predicted Score: 67.58 %
Loss: 0.0015568916942576311


Run: 184
Predicted Score: 40.82 %
Loss: 0.022437949509320675


Run: 185
Predicted Score: 46.95 %
Loss: 0.011329193407409037


Run: 186
Predicted Score: 32.44 %
Loss: 0.04370408008390963


Run: 187
Predicted Score: 31.83 %
Loss: 0.0455116845438361


Run: 188
Predicted Score: 29.67 %
Loss: 0.05225292591426439


Run: 189
Predicted Score: 78.4 %
Loss: 0.013439851850009414


Run: 190
Predicted Score: 50.89 %
Loss: 0.006166080378474174


Run: 191
Predicted Score: 33.24 %
Loss: 0.04134505720542678


Run: 192
Predicted Score: 30.6 %
Loss: 0.049312264386429806


Run: 193
Predicted Score: 23.14 %
Loss: 0.07549666315833635


Run: 194
Predicted Score: 69.76 %
Loss: 0.003012233616573702


Run: 195
Predicted Score: 23.98 %
Loss: 0.07225784281361586


Run: 196
Predicted Score: 39.54 %
Loss: 0.025216431644143934


Run: 197
Predicted Score: 78.51 %
Loss: 0.013634467350275714


Run: 198
Predicted Score: 42.23 %
Loss: 0.01954723497568557


Run: 199
Predicted Score: 50.89 %
Loss: 0.006170137300493748


Run: 200
Predicted Score: 18.82 %
Loss: 0.09321853585112652


Run: 201
Predicted Score: 85.33 %
Loss: 0.027223476053090816


Run: 202
Predicted Score: 49.41 %
Loss: 0.007931609725091339


Run: 203
Predicted Score: 57.41 %
Loss: 0.0010535837818265463


Run: 204
Predicted Score: 48.33 %
Loss: 0.009341725313334485


Run: 205
Predicted Score: 45.68 %
Loss: 0.013317440426953634


Run: 206
Predicted Score: 63.63 %
Loss: 0.00013295175089329076


Run: 207
Predicted Score: 28.35 %
Loss: 0.05660273856249224


Run: 208
Predicted Score: 89.69 %
Loss: 0.03833999608679072


Run: 209
Predicted Score: 39.93 %
Loss: 0.024362631819106084


Run: 210
Predicted Score: 44.22 %
Loss: 0.01580457310919033


Run: 211
Predicted Score: 58.99 %
Loss: 0.00045156932676710147


Run: 212
Predicted Score: 57.88 %
Loss: 0.0008503528127598905


Run: 213
Predicted Score: 52.89 %
Loss: 0.004145626250403651


Run: 214
Predicted Score: 18.44 %
Loss: 0.09486293476178696


Run: 215
Predicted Score: 40.42 %
Loss: 0.02328670477802776


Run: 216
Predicted Score: 19.08 %
Loss: 0.09212591718265987


Run: 217
Predicted Score: 52.4 %
Loss: 0.004607963359089725


Run: 218
Predicted Score: 76.29 %
Loss: 0.010203153650128723


Run: 219
Predicted Score: 24.25 %
Loss: 0.07125218122911613


Run: 220
Predicted Score: 32.57 %
Loss: 0.043297246481083615


Run: 221
Predicted Score: 40.83 %
Loss: 0.022415513632990082


Run: 222
Predicted Score: 66.88 %
Loss: 0.0011883063698236254


Run: 223
Predicted Score: 66.95 %
Loss: 0.0012262685718700604


Run: 224
Predicted Score: 40.81 %
Loss: 0.022449689504134063


Run: 225
Predicted Score: 59.63 %
Loss: 0.00028028551672021736


Run: 226
Predicted Score: 41.27 %
Loss: 0.02148201077557945


Run: 227
Predicted Score: 65.85 %
Loss: 0.0007424960671040376


Run: 228
Predicted Score: 34.21 %
Loss: 0.0386045430993747


Run: 229
Predicted Score: 31.58 %
Loss: 0.04625902230487981


Run: 230
Predicted Score: 30.59 %
Loss: 0.04933876753542423


Run: 231
Predicted Score: 19.39 %
Loss: 0.09077325176388434


Run: 232
Predicted Score: 47.57 %
Loss: 0.010409759451557555


Run: 233
Predicted Score: 84.19 %
Loss: 0.024622595431498612


Run: 234
Predicted Score: 47.37 %
Loss: 0.010704414707681912


Run: 235
Predicted Score: 22.84 %
Loss: 0.07668350592049501


Run: 236
Predicted Score: 38.37 %
Loss: 0.02791150422249787


Run: 237
Predicted Score: 35.18 %
Loss: 0.03595882325831099


Run: 238
Predicted Score: 64.13 %
Loss: 0.0002275960322825015


Run: 239
Predicted Score: 58.94 %
Loss: 0.00046726295998339814


Run: 240
Predicted Score: 62.94 %
Loss: 4.415082970544948e-05


Run: 241
Predicted Score: 18.32 %
Loss: 0.09538844505476379


Run: 242
Predicted Score: 35.05 %
Loss: 0.036315943221815146


Run: 243
Predicted Score: 56.81 %
Loss: 0.0013458759708825719


Run: 244
Predicted Score: 33.78 %
Loss: 0.0398054274352332


Run: 245
Predicted Score: 60.3 %
Loss: 0.0001443625017607845


Run: 246
Predicted Score: 13.4 %
Loss: 0.11809770706349568


Run: 247
Predicted Score: 47.89 %
Loss: 0.009960477577424865


Run: 248
Predicted Score: 60.45 %
Loss: 0.00012035531533828884


Run: 249
Predicted Score: 38.0 %
Loss: 0.028797960453046993


Run: 250
Predicted Score: 21.16 %
Loss: 0.08339807962936562


Run: 251
Predicted Score: 33.7 %
Loss: 0.04005650082810864


Run: 252
Predicted Score: 32.93 %
Loss: 0.04225604448367128


Run: 253
Predicted Score: 64.57 %
Loss: 0.00033049125280266696


Run: 254
Predicted Score: 76.47 %
Loss: 0.010463452731592379


Run: 255
Predicted Score: 58.68 %
Loss: 0.0005527032859418775


Run: 256
Predicted Score: 41.31 %
Loss: 0.021397478487863778


Run: 257
Predicted Score: 59.36 %
Loss: 0.00034818957875203116


Run: 258
Predicted Score: 84.33 %
Loss: 0.024920706629930144


Run: 259
Predicted Score: 62.4 %
Loss: 8.115266457281753e-06


Run: 260
Predicted Score: 77.44 %
Loss: 0.011917166022410995


Run: 261
Predicted Score: 23.2 %
Loss: 0.075259142836737


Run: 262
Predicted Score: 44.76 %
Loss: 0.014856094352927833


Run: 263
Predicted Score: 71.49 %
Loss: 0.00449862059259892


Run: 264
Predicted Score: 28.25 %
Loss: 0.056963134521989034


Run: 265
Predicted Score: 34.43 %
Loss: 0.038015937696861776


Run: 266
Predicted Score: 35.29 %
Loss: 0.03568420929574828


Run: 267
Predicted Score: 46.96 %
Loss: 0.01130458617949228


Run: 268
Predicted Score: 66.36 %
Loss: 0.0009499587406506724


Run: 269
Predicted Score: 45.52 %
Loss: 0.013575573764481234


Run: 270
Predicted Score: 40.2 %
Loss: 0.023771399772974006


Run: 271
Predicted Score: 28.44 %
Loss: 0.05632497021462789


Run: 272
Predicted Score: 23.55 %
Loss: 0.07391530575744938


Run: 273
Predicted Score: 36.29 %
Loss: 0.03304231144548949


Run: 274
Predicted Score: 72.77 %
Loss: 0.005794727403427725


Run: 275
Predicted Score: 48.1 %
Loss: 0.009660302244212375


Run: 276
Predicted Score: 30.48 %
Loss: 0.04968668846661964


Run: 277
Predicted Score: 38.72 %
Loss: 0.02709103302043777


Run: 278
Predicted Score: 80.43 %
Loss: 0.016987723694438774


Run: 279
Predicted Score: 20.86 %
Loss: 0.08464021484998278


Run: 280
Predicted Score: 27.07 %
Loss: 0.06101480629524663


Run: 281
Predicted Score: 70.82 %
Loss: 0.0038916929515176047


Run: 282
Predicted Score: 57.68 %
Loss: 0.000934685501940247


Run: 283
Predicted Score: 16.1 %
Loss: 0.10536031039329405


Run: 284
Predicted Score: 33.94 %
Loss: 0.0393638362636178


Run: 285
Predicted Score: 79.0 %
Loss: 0.014457842140896628


Run: 286
Predicted Score: 31.86 %
Loss: 0.045417034104830084


Run: 287
Predicted Score: 72.71 %
Loss: 0.005731279106862048


Run: 288
Predicted Score: 48.45 %
Loss: 0.00918526364218625


Run: 289
Predicted Score: 45.61 %
Loss: 0.013435317676158846


Run: 290
Predicted Score: 27.68 %
Loss: 0.058883780004867124


Run: 291
Predicted Score: 33.42 %
Loss: 0.04084010195786351


Run: 292
Predicted Score: 54.78 %
Loss: 0.0026031500557753286


Run: 293
Predicted Score: 53.39 %
Loss: 0.003710750538118805


Run: 294
Predicted Score: 82.62 %
Loss: 0.02126849370917169


Run: 295
Predicted Score: 84.42 %
Loss: 0.025134921996793964


Run: 296
Predicted Score: 33.3 %
Loss: 0.041180556764740965


Run: 297
Predicted Score: 27.38 %
Loss: 0.0599205181657478


Run: 298
Predicted Score: 47.1 %
Loss: 0.011093798409023137


Run: 299
Predicted Score: 59.56 %
Loss: 0.0002969337136558095


Run: 300
Predicted Score: 77.82 %
Loss: 0.012515889638632666


Run: 301
Predicted Score: 65.67 %
Loss: 0.0006731470222900125


Run: 302
Predicted Score: 50.75 %
Loss: 0.006332620311657029


Run: 303
Predicted Score: 34.58 %
Loss: 0.03760490125574488


Run: 304
Predicted Score: 29.75 %
Loss: 0.0519907206717998


Run: 305
Predicted Score: 40.89 %
Loss: 0.02228278606475087


Run: 306
Predicted Score: 54.68 %
Loss: 0.002681780189764616


Run: 307
Predicted Score: 41.83 %
Loss: 0.020334804861826036


Run: 308
Predicted Score: 33.84 %
Loss: 0.039639665259343225


Run: 309
Predicted Score: 78.03 %
Loss: 0.01285533505729295


Run: 310
Predicted Score: 45.38 %
Loss: 0.013814836098470357


Run: 311
Predicted Score: 60.33 %
Loss: 0.00014014791151101532


Run: 312
Predicted Score: 39.68 %
Loss: 0.02490171125445734


Run: 313
Predicted Score: 26.92 %
Loss: 0.061530149442971575


Run: 314
Predicted Score: 36.77 %
Loss: 0.031823097889976094


Run: 315
Predicted Score: 54.99 %
Loss: 0.0024552982172867084


Run: 316
Predicted Score: 52.14 %
Loss: 0.004856529418697206


Run: 317
Predicted Score: 60.98 %
Loss: 5.220538928655956e-05


Run: 318
Predicted Score: 77.84 %
Loss: 0.012542730801131415


Run: 319
Predicted Score: 27.86 %
Loss: 0.05827732195560501


Run: 320
Predicted Score: 55.13 %
Loss: 0.0023578302976152


Run: 321
Predicted Score: 77.9 %
Loss: 0.012638167186536205


Run: 322
Predicted Score: 46.8 %
Loss: 0.01154960648540905


Run: 323
Predicted Score: 32.4 %
Loss: 0.043814301123461616


Run: 324
Predicted Score: 38.86 %
Loss: 0.026773332078641077


Run: 325
Predicted Score: 48.52 %
Loss: 0.009087358591032019


Run: 326
Predicted Score: 47.25 %
Loss: 0.010873432750235954


Run: 327
Predicted Score: 39.84 %
Loss: 0.024559339893264354


Run: 328
Predicted Score: 57.21 %
Loss: 0.0011457073119151074


Run: 329
Predicted Score: 84.21 %
Loss: 0.024666521811736845


Run: 330
Predicted Score: 50.66 %
Loss: 0.006427819402445682


Run: 331
Predicted Score: 58.41 %
Loss: 0.0006461864176578708


Run: 332
Predicted Score: 46.95 %
Loss: 0.011329025979354573


Run: 333
Predicted Score: 52.74 %
Loss: 0.004290666675550743


Run: 334
Predicted Score: 23.82 %
Loss: 0.07289253385709585


Run: 335
Predicted Score: 58.57 %
Loss: 0.0005887279158732


Run: 336
Predicted Score: 41.88 %
Loss: 0.020234049731977913


Run: 337
Predicted Score: 14.48 %
Loss: 0.11288414879112166


Run: 338
Predicted Score: 25.17 %
Loss: 0.06782225376295326


Run: 339
Predicted Score: 83.57 %
Loss: 0.023255355165479795


Run: 340
Predicted Score: 15.75 %
Loss: 0.10695565372796609


Run: 341
Predicted Score: 65.41 %
Loss: 0.0005829134741279754


Run: 342
Predicted Score: 32.99 %
Loss: 0.04209141693109826


Run: 343
Predicted Score: 47.69 %
Loss: 0.010244396680230706


Run: 344
Predicted Score: 23.78 %
Loss: 0.07305045618729722


Run: 345
Predicted Score: 56.73 %
Loss: 0.0013862280577182304


Run: 346
Predicted Score: 18.94 %
Loss: 0.09271318335926133


Run: 347
Predicted Score: 14.51 %
Loss: 0.1127833402998633


Run: 348
Predicted Score: 44.45 %
Loss: 0.015407205537709225


Run: 349
Predicted Score: 71.51 %
Loss: 0.004519367525149252


Run: 350
Predicted Score: 42.14 %
Loss: 0.01971407260029298


Run: 351
Predicted Score: 48.95 %
Loss: 0.008516405467478042


Run: 352
Predicted Score: 21.42 %
Loss: 0.0823352229355441


Run: 353
Predicted Score: 62.4 %
Loss: 7.960893139736812e-06


Run: 354
Predicted Score: 54.97 %
Loss: 0.002472200615666925


Run: 355
Predicted Score: 27.48 %
Loss: 0.059585015194482456


Run: 356
Predicted Score: 31.78 %
Loss: 0.045671032778906925


Run: 357
Predicted Score: 38.46 %
Loss: 0.027713258175903255


Run: 358
Predicted Score: 53.47 %
Loss: 0.0036400359126497425


Run: 359
Predicted Score: 59.38 %
Loss: 0.00034363154002193565


Run: 360
Predicted Score: 23.84 %
Loss: 0.0728137717341094


Run: 361
Predicted Score: 36.94 %
Loss: 0.03139306891603583


Run: 362
Predicted Score: 53.49 %
Loss: 0.003619186271688485


Run: 363
Predicted Score: 40.17 %
Loss: 0.023818028318191114


Run: 364
Predicted Score: 58.71 %
Loss: 0.000540153094338208


Run: 365
Predicted Score: 72.61 %
Loss: 0.005631159781324762


Run: 366
Predicted Score: 52.48 %
Loss: 0.004530521984850866


Run: 367
Predicted Score: 51.61 %
Loss: 0.005396949781773684


Run: 368
Predicted Score: 76.1 %
Loss: 0.009940225248151477


Run: 369
Predicted Score: 71.29 %
Loss: 0.004316697138468512


Run: 370
Predicted Score: 73.81 %
Loss: 0.006969821257110907


Run: 371
Predicted Score: 38.35 %
Loss: 0.02796083293312155


Run: 372
Predicted Score: 71.0 %
Loss: 0.0040497665273736055


Run: 373
Predicted Score: 49.1 %
Loss: 0.00832339349184708


Run: 374
Predicted Score: 40.18 %
Loss: 0.02380218898411315


Run: 375
Predicted Score: 25.43 %
Loss: 0.0668697098589299


Run: 376
Predicted Score: 26.36 %
Loss: 0.06349269372731407


Run: 377
Predicted Score: 49.1 %
Loss: 0.00832464565280717


Run: 378
Predicted Score: 47.25 %
Loss: 0.010879070904066281


Run: 379
Predicted Score: 51.54 %
Loss: 0.005470393287593833


Run: 380
Predicted Score: 60.41 %
Loss: 0.0001267301983990593


Run: 381
Predicted Score: 25.45 %
Loss: 0.06680521458313753


Run: 382
Predicted Score: 36.89 %
Loss: 0.031527425541863476


Run: 383
Predicted Score: 63.92 %
Loss: 0.00018387778705022807


Run: 384
Predicted Score: 39.27 %
Loss: 0.025822385255296405


Run: 385
Predicted Score: 80.89 %
Loss: 0.01784301512377422


Run: 386
Predicted Score: 77.73 %
Loss: 0.01236805936800272


Run: 387
Predicted Score: 19.36 %
Loss: 0.0908990549400618


Run: 388
Predicted Score: 14.98 %
Loss: 0.11053143784777968


Run: 389
Predicted Score: 24.76 %
Loss: 0.06933000582894912


Run: 390
Predicted Score: 51.7 %
Loss: 0.005302860702900252


Run: 391
Predicted Score: 66.9 %
Loss: 0.00119883607668881


Run: 392
Predicted Score: 40.48 %
Loss: 0.0231615938018589


Run: 393
Predicted Score: 66.73 %
Loss: 0.0011199942377259004


Run: 394
Predicted Score: 56.59 %
Loss: 0.0014617499087490574


Run: 395
Predicted Score: 85.19 %
Loss: 0.02689506538797645


Run: 396
Predicted Score: 45.54 %
Loss: 0.01354483076241368


Run: 397
Predicted Score: 48.48 %
Loss: 0.009135361981476419


Run: 398
Predicted Score: 55.2 %
Loss: 0.0023130404089266037


Run: 399
Predicted Score: 64.46 %
Loss: 0.0003023239152046047


Run: 400
Predicted Score: 75.87 %
Loss: 0.009622840671794723


Run: 401
Predicted Score: 25.19 %
Loss: 0.06773533364687594


Run: 402
Predicted Score: 48.93 %
Loss: 0.008538196365354897


Run: 403
Predicted Score: 55.26 %
Loss: 0.002273049190047907


Run: 404
Predicted Score: 45.47 %
Loss: 0.013659403802339265


Run: 405
Predicted Score: 56.83 %
Loss: 0.001338294408482509


Run: 406
Predicted Score: 49.47 %
Loss: 0.007855576511659308


Run: 407
Predicted Score: 35.71 %
Loss: 0.03456968675189494


Run: 408
Predicted Score: 75.86 %
Loss: 0.00960946524174501


Run: 409
Predicted Score: 31.19 %
Loss: 0.04746121357734344


Run: 410
Predicted Score: 62.03 %
Loss: 3.827802281164237e-08


Run: 411
Predicted Score: 57.15 %
Loss: 0.001177837433561656


Run: 412
Predicted Score: 40.89 %
Loss: 0.022284368943800974


Run: 413
Predicted Score: 16.25 %
Loss: 0.10465606203120428


Run: 414
Predicted Score: 65.34 %
Loss: 0.0005566305956216029


Run: 415
Predicted Score: 69.36 %
Loss: 0.0027074083766381487


Run: 416
Predicted Score: 44.47 %
Loss: 0.015359708590465482


Run: 417
Predicted Score: 49.8 %
Loss: 0.007437135650168065


Run: 418
Predicted Score: 38.41 %
Loss: 0.027825614225384255


Run: 419
Predicted Score: 43.52 %
Loss: 0.01707784792688185


Run: 420
Predicted Score: 25.98 %
Loss: 0.06486048621706972


Run: 421
Predicted Score: 66.37 %
Loss: 0.0009535544889680563


Run: 422
Predicted Score: 66.43 %
Loss: 0.0009803883128104763


Run: 423
Predicted Score: 26.52 %
Loss: 0.06294490637183905


Run: 424
Predicted Score: 46.66 %
Loss: 0.011773449114625445


Run: 425
Predicted Score: 36.94 %
Loss: 0.031390735649170304


Run: 426
Predicted Score: 32.69 %
Loss: 0.04296573755291987


Run: 427
Predicted Score: 46.35 %
Loss: 0.01225046421485731


Run: 428
Predicted Score: 39.57 %
Loss: 0.025146965088603215


Run: 429
Predicted Score: 76.38 %
Loss: 0.010340696286686556


Run: 430
Predicted Score: 48.6 %
Loss: 0.00897486511363543


Run: 431
Predicted Score: 30.22 %
Loss: 0.050511712914038304


Run: 432
Predicted Score: 54.75 %
Loss: 0.002627652824981498


Run: 433
Predicted Score: 55.49 %
Loss: 0.0021172363138257863


Run: 434
Predicted Score: 54.78 %
Loss: 0.002608188746399765


Run: 435
Predicted Score: 41.41 %
Loss: 0.021192434463782432


Run: 436
Predicted Score: 60.84 %
Loss: 6.684431568231988e-05


Run: 437
Predicted Score: 41.92 %
Loss: 0.020150399508613092


Run: 438
Predicted Score: 47.86 %
Loss: 0.009991364547249111


Run: 439
Predicted Score: 53.26 %
Loss: 0.003815916446488492


Run: 440
Predicted Score: 59.29 %
Loss: 0.00036788666594416585


Run: 441
Predicted Score: 41.37 %
Loss: 0.021272160712410716


Run: 442
Predicted Score: 45.79 %
Loss: 0.013144918861289266


Run: 443
Predicted Score: 34.59 %
Loss: 0.037576059154088


Run: 444
Predicted Score: 69.94 %
Loss: 0.003149794894940552


Run: 445
Predicted Score: 38.91 %
Loss: 0.026666167625600937


Run: 446
Predicted Score: 63.51 %
Loss: 0.00011381202491155119


Run: 447
Predicted Score: 42.58 %
Loss: 0.018856576241106565


Run: 448
Predicted Score: 57.27 %
Loss: 0.001117733018197789


Run: 449
Predicted Score: 61.12 %
Loss: 3.863610977344998e-05


Run: 450
Predicted Score: 18.69 %
Loss: 0.09379203107704083


Run: 451
Predicted Score: 20.45 %
Loss: 0.08630094426682833


Run: 452
Predicted Score: 65.02 %
Loss: 0.0004559728408587204


Run: 453
Predicted Score: 53.63 %
Loss: 0.003501332729216897


Run: 454
Predicted Score: 24.1 %
Loss: 0.07180223298087512


Run: 455
Predicted Score: 24.39 %
Loss: 0.07072830493765041


Run: 456
Predicted Score: 91.13 %
Loss: 0.042422593648351166


Run: 457
Predicted Score: 41.83 %
Loss: 0.020340220838659554


Run: 458
Predicted Score: 85.64 %
Loss: 0.027936706077460537


Run: 459
Predicted Score: 73.26 %
Loss: 0.0063423038297887565


Run: 460
Predicted Score: 38.17 %
Loss: 0.028390617361933705


Run: 461
Predicted Score: 45.62 %
Loss: 0.01342329347623


Run: 462
Predicted Score: 50.93 %
Loss: 0.006131863475987557


Run: 463
Predicted Score: 80.54 %
Loss: 0.017191303358642163


Run: 464
Predicted Score: 77.74 %
Loss: 0.012394853976339156


Run: 465
Predicted Score: 32.02 %
Loss: 0.04493651591689529


Run: 466
Predicted Score: 68.77 %
Loss: 0.002294797641175129


Run: 467
Predicted Score: 44.07 %
Loss: 0.016067027863815194


Run: 468
Predicted Score: 51.35 %
Loss: 0.0056708191339005475


Run: 469
Predicted Score: 50.13 %
Loss: 0.0070414250811376795


Run: 470
Predicted Score: 68.82 %
Loss: 0.002325829939215784


Run: 471
Predicted Score: 66.38 %
Loss: 0.0009611783663767074


Run: 472
Predicted Score: 46.45 %
Loss: 0.01208464776473759


Run: 473
Predicted Score: 39.27 %
Loss: 0.025829473796159953


Run: 474
Predicted Score: 31.44 %
Loss: 0.0467001623524539


Run: 475
Predicted Score: 19.27 %
Loss: 0.09130420655883306


Run: 476
Predicted Score: 74.53 %
Loss: 0.007854186050255233


Run: 477
Predicted Score: 66.6 %
Loss: 0.0010587316706472838


Run: 478
Predicted Score: 29.28 %
Loss: 0.05352380807264789


Run: 479
Predicted Score: 63.33 %
Loss: 8.911047319860108e-05


Run: 480
Predicted Score: 25.36 %
Loss: 0.06713297501444727


Run: 481
Predicted Score: 49.44 %
Loss: 0.007890913366587758


Run: 482
Predicted Score: 68.85 %
Loss: 0.0023483077899702103


Run: 483
Predicted Score: 43.56 %
Loss: 0.017002133710712068


Run: 484
Predicted Score: 73.7 %
Loss: 0.006849114738705938


Run: 485
Predicted Score: 79.82 %
Loss: 0.015877710428988532


Run: 486
Predicted Score: 52.65 %
Loss: 0.004366751389720097


Run: 487
Predicted Score: 37.3 %
Loss: 0.03050510651229482


Run: 488
Predicted Score: 49.11 %
Loss: 0.008313360494477557


Run: 489
Predicted Score: 58.82 %
Loss: 0.0005064713380559458


Run: 490
Predicted Score: 83.32 %
Loss: 0.02273772294801571


Run: 491
Predicted Score: 35.18 %
Loss: 0.03596781579333746


Run: 492
Predicted Score: 57.38 %
Loss: 0.0010677525328619676


Run: 493
Predicted Score: 42.35 %
Loss: 0.019314081024929947


Run: 494
Predicted Score: 10.69 %
Loss: 0.13162298958515223


Run: 495
Predicted Score: 48.58 %
Loss: 0.009011034836043546


Run: 496
Predicted Score: 62.98 %
Loss: 4.797482722872982e-05


Run: 497
Predicted Score: 28.98 %
Loss: 0.0545096951349857


Run: 498
Predicted Score: 37.5 %
Loss: 0.030009091756692256


Run: 499
Predicted Score: 67.71 %
Loss: 0.0016329375286488828


Run: 500
Predicted Score: 50.18 %
Loss: 0.006986094313751631


Run: 501
Predicted Score: 84.76 %
Loss: 0.02589198296931066


Run: 502
Predicted Score: 88.32 %
Loss: 0.03463521755818028


Run: 503
Predicted Score: 61.73 %
Loss: 3.737453611934853e-06


Run: 504
Predicted Score: 31.63 %
Loss: 0.046116631414155174


Run: 505
Predicted Score: 62.24 %
Loss: 2.764822421503521e-06


Run: 506
Predicted Score: 40.96 %
Loss: 0.022137796247084566


Run: 507
Predicted Score: 63.75 %
Loss: 0.00015241844379667793


Run: 508
Predicted Score: 80.62 %
Loss: 0.01733693038304318


Run: 509
Predicted Score: 51.61 %
Loss: 0.005398830047929526


Run: 510
Predicted Score: 72.4 %
Loss: 0.005405186802753697


Run: 511
Predicted Score: 50.84 %
Loss: 0.006222048671589188


Run: 512
Predicted Score: 64.5 %
Loss: 0.0003117704067440349


Run: 513
Predicted Score: 36.78 %
Loss: 0.031789833145507373


Run: 514
Predicted Score: 40.82 %
Loss: 0.022423984085029897


Run: 515
Predicted Score: 74.47 %
Loss: 0.007771126295077158


Run: 516
Predicted Score: 41.64 %
Loss: 0.020724068356255745


Run: 517
Predicted Score: 77.08 %
Loss: 0.011374701111615352


Run: 518
Predicted Score: 44.49 %
Loss: 0.015329878254828816


Run: 519
Predicted Score: 44.43 %
Loss: 0.015432416701445463


Run: 520
Predicted Score: 44.16 %
Loss: 0.015915216715489337


Run: 521
Predicted Score: 63.98 %
Loss: 0.00019536119170882402


Run: 522
Predicted Score: 55.71 %
Loss: 0.0019795275048374666


Run: 523
Predicted Score: 40.51 %
Loss: 0.023086867362956846


Run: 524
Predicted Score: 47.14 %
Loss: 0.011041120656377594


Run: 525
Predicted Score: 36.31 %
Loss: 0.03298785412177865


Run: 526
Predicted Score: 33.15 %
Loss: 0.04160448551163232


Run: 527
Predicted Score: 30.97 %
Loss: 0.04815767433044698


Run: 528
Predicted Score: 53.48 %
Loss: 0.003633510442202964


Run: 529
Predicted Score: 31.96 %
Loss: 0.04511573360782924


Run: 530
Predicted Score: 70.38 %
Loss: 0.0035116039234758386


Run: 531
Predicted Score: 42.58 %
Loss: 0.018851525530531526


Run: 532
Predicted Score: 27.26 %
Loss: 0.06034502904937502


Run: 533
Predicted Score: 74.95 %
Loss: 0.00838270932916114


Run: 534
Predicted Score: 53.36 %
Loss: 0.003730915735722444


Run: 535
Predicted Score: 18.65 %
Loss: 0.09394610566279188


Run: 536
Predicted Score: 38.01 %
Loss: 0.02876773583855401


Run: 537
Predicted Score: 49.17 %
Loss: 0.008234414642154473


Run: 538
Predicted Score: 36.89 %
Loss: 0.03152374956606946


Run: 539
Predicted Score: 33.25 %
Loss: 0.041323727183670216


Run: 540
Predicted Score: 88.92 %
Loss: 0.0362394393873609


Run: 541
Predicted Score: 46.07 %
Loss: 0.012683265205372404


Run: 542
Predicted Score: 67.0 %
Loss: 0.0012481978008996512


Run: 543
Predicted Score: 55.66 %
Loss: 0.00200730763137964


Run: 544
Predicted Score: 43.71 %
Loss: 0.01672653474238347


Run: 545
Predicted Score: 83.67 %
Loss: 0.023479825202658188


Run: 546
Predicted Score: 66.06 %
Loss: 0.0008247266705215949


Run: 547
Predicted Score: 41.8 %
Loss: 0.02039291202574997


Run: 548
Predicted Score: 57.25 %
Loss: 0.001127643145652744


Run: 549
Predicted Score: 26.7 %
Loss: 0.06230540670890285


Run: 550
Predicted Score: 43.76 %
Loss: 0.01663880812747362


Run: 551
Predicted Score: 40.39 %
Loss: 0.023340390192683087


Run: 552
Predicted Score: 71.81 %
Loss: 0.0048100862927920145


Run: 553
Predicted Score: 37.59 %
Loss: 0.029782262622736668


Run: 554
Predicted Score: 77.1 %
Loss: 0.011402451253298834


Run: 555
Predicted Score: 54.28 %
Loss: 0.002980503925031755


Run: 556
Predicted Score: 53.07 %
Loss: 0.003987432053736439


Run: 557
Predicted Score: 42.72 %
Loss: 0.01859204604195707


Run: 558
Predicted Score: 27.37 %
Loss: 0.05996149870452634


Run: 559
Predicted Score: 59.18 %
Loss: 0.00039669704863505876


Run: 560
Predicted Score: 64.22 %
Loss: 0.0002461957327919748


Run: 561
Predicted Score: 41.93 %
Loss: 0.020143812171327605


Run: 562
Predicted Score: 56.95 %
Loss: 0.0012752169800919156


Run: 563
Predicted Score: 61.07 %
Loss: 4.353889139301788e-05


Run: 564
Predicted Score: 62.4 %
Loss: 8.113754125485545e-06


Run: 565
Predicted Score: 72.52 %
Loss: 0.00553065780368203


Run: 566
Predicted Score: 65.38 %
Loss: 0.000570129465610961


Run: 567
Predicted Score: 86.08 %
Loss: 0.028983144011923045


Run: 568
Predicted Score: 39.72 %
Loss: 0.02482757619681594


Run: 569
Predicted Score: 29.76 %
Loss: 0.05197204708295783


Run: 570
Predicted Score: 61.23 %
Loss: 2.978195081494399e-05


Run: 571
Predicted Score: 58.34 %
Loss: 0.0006699893290299478


Run: 572
Predicted Score: 38.9 %
Loss: 0.02668223705728276


Run: 573
Predicted Score: 65.55 %
Loss: 0.0006292654355751948


Run: 574
Predicted Score: 24.79 %
Loss: 0.06923082730386114


Run: 575
Predicted Score: 53.89 %
Loss: 0.0032878382425409252


Run: 576
Predicted Score: 58.62 %
Loss: 0.0005714585177002902


Run: 577
Predicted Score: 22.47 %
Loss: 0.07814163280216806


Run: 578
Predicted Score: 50.22 %
Loss: 0.006932610889650014


Run: 579
Predicted Score: 68.07 %
Loss: 0.0018428528444010253


Run: 580
Predicted Score: 43.66 %
Loss: 0.01682114589939607


Run: 581
Predicted Score: 37.28 %
Loss: 0.030550726467912962


Run: 582
Predicted Score: 64.16 %
Loss: 0.00023343897924224245


Run: 583
Predicted Score: 59.28 %
Loss: 0.00037086044074215613


Run: 584
Predicted Score: 77.2 %
Loss: 0.011550232399767423


Run: 585
Predicted Score: 72.38 %
Loss: 0.00538554051468341


Run: 586
Predicted Score: 65.81 %
Loss: 0.0007268144454466863


Run: 587
Predicted Score: 41.92 %
Loss: 0.020153518726306954


Run: 588
Predicted Score: 55.82 %
Loss: 0.0019118718594435963


Run: 589
Predicted Score: 58.29 %
Loss: 0.000687378745473972


Run: 590
Predicted Score: 38.38 %
Loss: 0.027891754763103047


Run: 591
Predicted Score: 65.28 %
Loss: 0.0005373056813054258


Run: 592
Predicted Score: 60.51 %
Loss: 0.00011040557185140261


Run: 593
Predicted Score: 39.84 %
Loss: 0.024556839688679128


Run: 594
Predicted Score: 27.85 %
Loss: 0.05830320438444315


Run: 595
Predicted Score: 66.5 %
Loss: 0.001012416339125161


Run: 596
Predicted Score: 25.94 %
Loss: 0.06501539632497548


Run: 597
Predicted Score: 65.18 %
Loss: 0.0005047164013387815


Run: 598
Predicted Score: 28.84 %
Loss: 0.05499042687527959


Run: 599
Predicted Score: 38.58 %
Loss: 0.027416111970069917


Run: 600
Predicted Score: 55.26 %
Loss: 0.002274246291496394


Run: 601
Predicted Score: 33.62 %
Loss: 0.040258695397304194


Run: 602
Predicted Score: 54.5 %
Loss: 0.0028118136255187542


Run: 603
Predicted Score: 74.35 %
Loss: 0.007623102978144282


Run: 604
Predicted Score: 32.64 %
Loss: 0.043098459316813525


Run: 605
Predicted Score: 88.14 %
Loss: 0.03415536783406138


Run: 606
Predicted Score: 51.36 %
Loss: 0.005664769646128077


Run: 607
Predicted Score: 39.05 %
Loss: 0.02633937599293411


Run: 608
Predicted Score: 31.12 %
Loss: 0.04766463949406508


Run: 609
Predicted Score: 80.64 %
Loss: 0.01737132523506261


Run: 610
Predicted Score: 27.62 %
Loss: 0.05911542610744631


Run: 611
Predicted Score: 32.08 %
Loss: 0.04477253178442153


Run: 612
Predicted Score: 77.67 %
Loss: 0.01227260568603686


Run: 613
Predicted Score: 44.35 %
Loss: 0.015571247379548025


Run: 614
Predicted Score: 78.54 %
Loss: 0.013675537322674134


Run: 615
Predicted Score: 34.0 %
Loss: 0.03920994538843153


Run: 616
Predicted Score: 56.44 %
Loss: 0.0015441995340614793


Run: 617
Predicted Score: 38.03 %
Loss: 0.02873308474623796


Run: 618
Predicted Score: 52.95 %
Loss: 0.004096866392131338


Run: 619
Predicted Score: 45.26 %
Loss: 0.014004085378285805


Run: 620
Predicted Score: 74.3 %
Loss: 0.007570397882712027


Run: 621
Predicted Score: 47.99 %
Loss: 0.009817928200910668


Run: 622
Predicted Score: 68.35 %
Loss: 0.0020139956607735884


Run: 623
Predicted Score: 47.42 %
Loss: 0.010626655415065894


Run: 624
Predicted Score: 33.84 %
Loss: 0.0396403660793019


Run: 625
Predicted Score: 45.99 %
Loss: 0.012809675915440787


Run: 626
Predicted Score: 26.03 %
Loss: 0.0647089495731313


Run: 627
Predicted Score: 23.45 %
Loss: 0.07430662650571689


Run: 628
Predicted Score: 28.01 %
Loss: 0.05778155961736613


Run: 629
Predicted Score: 69.28 %
Loss: 0.002650805771978245


Run: 630
Predicted Score: 71.25 %
Loss: 0.004280805455368894


Run: 631
Predicted Score: 68.17 %
Loss: 0.0019019778315246124


Run: 632
Predicted Score: 56.99 %
Loss: 0.0012546166938887113


Run: 633
Predicted Score: 56.88 %
Loss: 0.0013089260214168594


Run: 634
Predicted Score: 56.7 %
Loss: 0.0014032022901203601


Run: 635
Predicted Score: 46.33 %
Loss: 0.012273506728325972


Run: 636
Predicted Score: 79.31 %
Loss: 0.014989690293493983


Run: 637
Predicted Score: 36.26 %
Loss: 0.03313261464850308


Run: 638
Predicted Score: 61.27 %
Loss: 2.700030783024418e-05


Run: 639
Predicted Score: 53.47 %
Loss: 0.0036365205514245946


Run: 640
Predicted Score: 55.9 %
Loss: 0.0018578006277228968


Run: 641
Predicted Score: 31.51 %
Loss: 0.046493408743591244


Run: 642
Predicted Score: 44.85 %
Loss: 0.014705037604140738


Run: 643
Predicted Score: 27.84 %
Loss: 0.058355237561486875


Run: 644
Predicted Score: 67.19 %
Loss: 0.001344581029909092


Run: 645
Predicted Score: 86.65 %
Loss: 0.030389608657145226


Run: 646
Predicted Score: 67.63 %
Loss: 0.0015838377429161317


Run: 647
Predicted Score: 51.39 %
Loss: 0.005631746087476044


Run: 648
Predicted Score: 39.91 %
Loss: 0.02439640433599378


Run: 649
Predicted Score: 30.09 %
Loss: 0.050909780268724274


Run: 650
Predicted Score: 56.21 %
Loss: 0.0016754178568868362


Run: 651
Predicted Score: 54.99 %
Loss: 0.0024547233511931425


Run: 652
Predicted Score: 86.14 %
Loss: 0.029131602620022738


Run: 653
Predicted Score: 50.43 %
Loss: 0.006687554240623625


Run: 654
Predicted Score: 76.6 %
Loss: 0.010651256986130748


Run: 655
Predicted Score: 71.69 %
Loss: 0.004691769295085676


Run: 656
Predicted Score: 60.79 %
Loss: 7.371179101271918e-05


Run: 657
Predicted Score: 73.24 %
Loss: 0.006317343996232532


Run: 658
Predicted Score: 27.47 %
Loss: 0.05960685447722849


Run: 659
Predicted Score: 65.02 %
Loss: 0.00045518979355975355


Run: 660
Predicted Score: 66.96 %
Loss: 0.0012313643617207232


Run: 661
Predicted Score: 51.69 %
Loss: 0.005318372743669251


Run: 662
Predicted Score: 66.72 %
Loss: 0.0011150577622951296


Run: 663
Predicted Score: 37.57 %
Loss: 0.029841091305173633


Run: 664
Predicted Score: 20.79 %
Loss: 0.0849232194748963


Run: 665
Predicted Score: 19.11 %
Loss: 0.09197879328926582


Run: 666
Predicted Score: 81.85 %
Loss: 0.0196969728270492


Run: 667
Predicted Score: 43.66 %
Loss: 0.016812585848289978


Run: 668
Predicted Score: 21.83 %
Loss: 0.08066519447690458


Run: 669
Predicted Score: 38.75 %
Loss: 0.027027217374472383


Run: 670
Predicted Score: 46.22 %
Loss: 0.012450274712593006


Run: 671
Predicted Score: 46.02 %
Loss: 0.012770447302954974


Run: 672
Predicted Score: 37.68 %
Loss: 0.02958437665182114


Run: 673
Predicted Score: 46.9 %
Loss: 0.01140270110863184


Run: 674
Predicted Score: 50.42 %
Loss: 0.006702456412454392


Run: 675
Predicted Score: 42.51 %
Loss: 0.01898907744187227


Run: 676
Predicted Score: 29.48 %
Loss: 0.052886052332509544


Run: 677
Predicted Score: 16.83 %
Loss: 0.10201872486240376


Run: 678
Predicted Score: 73.52 %
Loss: 0.006631514014003506


Run: 679
Predicted Score: 37.55 %
Loss: 0.029899362787320704


Run: 680
Predicted Score: 49.11 %
Loss: 0.008308269991046722


Run: 681
Predicted Score: 29.92 %
Loss: 0.05144357246466306


Run: 682
Predicted Score: 41.43 %
Loss: 0.02114680597558432


Run: 683
Predicted Score: 84.22 %
Loss: 0.024692519305506387


Run: 684
Predicted Score: 57.07 %
Loss: 0.0012172818415071287


Run: 685
Predicted Score: 74.05 %
Loss: 0.007259224617735479


Run: 686
Predicted Score: 13.48 %
Loss: 0.11772793320933306


Run: 687
Predicted Score: 86.11 %
Loss: 0.029053838036912895


Run: 688
Predicted Score: 42.52 %
Loss: 0.018982176779827286


Run: 689
Predicted Score: 51.89 %
Loss: 0.0051144645386228425


Run: 690
Predicted Score: 41.45 %
Loss: 0.02111149634429013


Run: 691
Predicted Score: 9.22 %
Loss: 0.1392604505936793


Run: 692
Predicted Score: 65.77 %
Loss: 0.000711102919513574


Run: 693
Predicted Score: 50.68 %
Loss: 0.0064088966148756745


Run: 694
Predicted Score: 38.87 %
Loss: 0.026759596831155603


Run: 695
Predicted Score: 93.12 %
Loss: 0.04842476718643392


Run: 696
Predicted Score: 31.3 %
Loss: 0.04713432428047813


Run: 697
Predicted Score: 67.7 %
Loss: 0.0016263162501178572


Run: 698
Predicted Score: 30.07 %
Loss: 0.050983391223702705


Run: 699
Predicted Score: 31.42 %
Loss: 0.04675103912768751


Run: 700
Predicted Score: 34.46 %
Loss: 0.03791401035969105


Run: 701
Predicted Score: 49.02 %
Loss: 0.008426304329877522


Run: 702
Predicted Score: 67.07 %
Loss: 0.0012827771369168502


Run: 703
Predicted Score: 65.08 %
Loss: 0.00047395469525783753


Run: 704
Predicted Score: 89.71 %
Loss: 0.038380264743332684


Run: 705
Predicted Score: 81.31 %
Loss: 0.01864822695721609


Run: 706
Predicted Score: 43.23 %
Loss: 0.017607380726610538


Run: 707
Predicted Score: 57.13 %
Loss: 0.0011852446225815243


Run: 708
Predicted Score: 58.31 %
Loss: 0.0006795388067200893


Run: 709
Predicted Score: 10.89 %
Loss: 0.1306239897161629


Run: 710
Predicted Score: 68.8 %
Loss: 0.002313644625532038


Run: 711
Predicted Score: 40.91 %
Loss: 0.022248578322821243


Run: 712
Predicted Score: 34.88 %
Loss: 0.03678679231168292


Run: 713
Predicted Score: 59.5 %
Loss: 0.0003112931339311648


Run: 714
Predicted Score: 68.83 %
Loss: 0.0023356493147896557


Run: 715
Predicted Score: 87.79 %
Loss: 0.033258789967728374


Run: 716
Predicted Score: 20.89 %
Loss: 0.0844933057439462


Run: 717
Predicted Score: 73.96 %
Loss: 0.007156731123184753


Run: 718
Predicted Score: 14.91 %
Loss: 0.11087449525383986


Run: 719
Predicted Score: 44.97 %
Loss: 0.014505538072321862


Run: 720
Predicted Score: 28.48 %
Loss: 0.05619147371968424


Run: 721
Predicted Score: 54.46 %
Loss: 0.002845478537549547


Run: 722
Predicted Score: 87.24 %
Loss: 0.03185308408748854


Run: 723
Predicted Score: 60.54 %
Loss: 0.00010625079045462574


Run: 724
Predicted Score: 80.13 %
Loss: 0.016434276468514194


Run: 725
Predicted Score: 50.9 %
Loss: 0.006156403760687663


Run: 726
Predicted Score: 36.05 %
Loss: 0.033664675998528716


Run: 727
Predicted Score: 51.23 %
Loss: 0.0057978433805332946


Run: 728
Predicted Score: 42.13 %
Loss: 0.019744499910293332


Run: 729
Predicted Score: 81.26 %
Loss: 0.01854298743918745


Run: 730
Predicted Score: 45.59 %
Loss: 0.013460356816397574


Run: 731
Predicted Score: 43.83 %
Loss: 0.016501520327889565


Run: 732
Predicted Score: 55.91 %
Loss: 0.0018573336957338653


Run: 733
Predicted Score: 34.35 %
Loss: 0.038231387914319924


Run: 734
Predicted Score: 59.03 %
Loss: 0.00043977035778560136


Run: 735
Predicted Score: 56.55 %
Loss: 0.001485552576293078


Run: 736
Predicted Score: 42.34 %
Loss: 0.019331558625313203


Run: 737
Predicted Score: 93.41 %
Loss: 0.049315205430680485


Run: 738
Predicted Score: 58.65 %
Loss: 0.0005595942790900102


Run: 739
Predicted Score: 69.09 %
Loss: 0.002515935762906434


Run: 740
Predicted Score: 69.45 %
Loss: 0.0027768708288997013


Run: 741
Predicted Score: 27.67 %
Loss: 0.05891038848763394


Run: 742
Predicted Score: 46.92 %
Loss: 0.011374912631483524


Run: 743
Predicted Score: 59.62 %
Loss: 0.000283914363173163


Run: 744
Predicted Score: 42.21 %
Loss: 0.019591371404493817


Run: 745
Predicted Score: 42.68 %
Loss: 0.018657608171139498


Run: 746
Predicted Score: 34.22 %
Loss: 0.03859908181048138


Run: 747
Predicted Score: 78.42 %
Loss: 0.013479473606126629


Run: 748
Predicted Score: 39.09 %
Loss: 0.026236552689665498


Run: 749
Predicted Score: 58.74 %
Loss: 0.0005316982412898489


Run: 750
Predicted Score: 55.9 %
Loss: 0.001862191027180042


Run: 751
Predicted Score: 52.57 %
Loss: 0.004443527840824671


Run: 752
Predicted Score: 48.98 %
Loss: 0.008477105002488


Run: 753
Predicted Score: 82.22 %
Loss: 0.02044924817878192


Run: 754
Predicted Score: 62.77 %
Loss: 2.975055112059698e-05


Run: 755
Predicted Score: 45.86 %
Loss: 0.013029946349528003


Run: 756
Predicted Score: 85.92 %
Loss: 0.028605079397116456


Run: 757
Predicted Score: 40.6 %
Loss: 0.022888446196318003


Run: 758
Predicted Score: 73.31 %
Loss: 0.0063992464480829535


Run: 759
Predicted Score: 49.98 %
Loss: 0.007225793032149031


Run: 760
Predicted Score: 58.52 %
Loss: 0.0006039380544470215


Run: 761
Predicted Score: 66.8 %
Loss: 0.0011511447712857141


Run: 762
Predicted Score: 12.78 %
Loss: 0.12115095361797397


Run: 763
Predicted Score: 39.62 %
Loss: 0.02504250802922795


Run: 764
Predicted Score: 62.85 %
Loss: 3.6178384302756655e-05


Run: 765
Predicted Score: 57.75 %
Loss: 0.0009045911207326311


Run: 766
Predicted Score: 19.94 %
Loss: 0.08844494903768126


Run: 767
Predicted Score: 48.8 %
Loss: 0.008717844780801192


Run: 768
Predicted Score: 12.95 %
Loss: 0.12030163395373128


Run: 769
Predicted Score: 6.92 %
Loss: 0.1517136996726535


Run: 770
Predicted Score: 67.57 %
Loss: 0.0015533956548140456


Run: 771
Predicted Score: 31.36 %
Loss: 0.04692952907968562


Run: 772
Predicted Score: 37.63 %
Loss: 0.029697093587236503


Run: 773
Predicted Score: 54.22 %
Loss: 0.003024274111060163


Run: 774
Predicted Score: 64.46 %
Loss: 0.0003021033642701606


Run: 775
Predicted Score: 15.06 %
Loss: 0.11016602198319178


Run: 776
Predicted Score: 40.96 %
Loss: 0.022130985064563177


Run: 777
Predicted Score: 79.58 %
Loss: 0.015453102945769896


Run: 778
Predicted Score: 46.79 %
Loss: 0.011565259619100902


Run: 779
Predicted Score: 60.32 %
Loss: 0.00014151318384761358


Run: 780
Predicted Score: 51.81 %
Loss: 0.0051867798330755095


Run: 781
Predicted Score: 53.98 %
Loss: 0.0032189935489886135


Run: 782
Predicted Score: 63.53 %
Loss: 0.00011761025979380639


Run: 783
Predicted Score: 43.46 %
Loss: 0.01718943176035901


Run: 784
Predicted Score: 51.19 %
Loss: 0.00584066000592895


Run: 785
Predicted Score: 22.31 %
Loss: 0.0787520412367725


Run: 786
Predicted Score: 49.83 %
Loss: 0.0074032317948764595


Run: 787
Predicted Score: 37.76 %
Loss: 0.02938764634539334


Run: 788
Predicted Score: 62.71 %
Loss: 2.5470847789208422e-05


Run: 789
Predicted Score: 66.14 %
Loss: 0.0008568288203753802


Run: 790
Predicted Score: 74.39 %
Loss: 0.0076752564165408575


Run: 791
Predicted Score: 63.71 %
Loss: 0.00014693554737959285


Run: 792
Predicted Score: 42.86 %
Loss: 0.01832231203381792


Run: 793
Predicted Score: 49.06 %
Loss: 0.008367664159431559


Run: 794
Predicted Score: 57.32 %
Loss: 0.0010956845689997614


Run: 795
Predicted Score: 53.5 %
Loss: 0.003611985219439298


Run: 796
Predicted Score: 43.03 %
Loss: 0.017992813227385596


Run: 797
Predicted Score: 57.14 %
Loss: 0.0011821200273824416


Run: 798
Predicted Score: 61.48 %
Loss: 1.3367540633271503e-05


Run: 799
Predicted Score: 50.75 %
Loss: 0.006327793804672105


Run: 800
Predicted Score: 28.78 %
Loss: 0.05519063598492967


Run: 801
Predicted Score: 77.11 %
Loss: 0.011418355820416308


Run: 802
Predicted Score: 53.32 %
Loss: 0.0037700887919791173


Run: 803
Predicted Score: 30.42 %
Loss: 0.04986399360204312


Run: 804
Predicted Score: 57.01 %
Loss: 0.001243588813684999


Run: 805
Predicted Score: 33.68 %
Loss: 0.04010346077828463


Run: 806
Predicted Score: 44.48 %
Loss: 0.015343840555111475


Run: 807
Predicted Score: 59.03 %
Loss: 0.00044047428797767735


Run: 808
Predicted Score: 16.44 %
Loss: 0.10376654351361439


Run: 809
Predicted Score: 36.09 %
Loss: 0.033568356288099815


Run: 810
Predicted Score: 37.7 %
Loss: 0.02952499578294923


Run: 811
Predicted Score: 62.59 %
Loss: 1.726242612081212e-05


Run: 812
Predicted Score: 55.24 %
Loss: 0.002287479943835122


Run: 813
Predicted Score: 15.25 %
Loss: 0.10927194011630768


Run: 814
Predicted Score: 42.97 %
Loss: 0.018113181099026685


Run: 815
Predicted Score: 32.27 %
Loss: 0.04419449263227533


Run: 816
Predicted Score: 72.46 %
Loss: 0.005471404099259673


Run: 817
Predicted Score: 66.77 %
Loss: 0.0011387999146141791


Run: 818
Predicted Score: 42.25 %
Loss: 0.01950815202833469


Run: 819
Predicted Score: 56.98 %
Loss: 0.0012603421619299142


Run: 820
Predicted Score: 69.46 %
Loss: 0.002781209380603029


Run: 821
Predicted Score: 36.56 %
Loss: 0.03236575197825058


Run: 822
Predicted Score: 36.33 %
Loss: 0.032938487974376374


Run: 823
Predicted Score: 80.87 %
Loss: 0.017798113469006848


Run: 824
Predicted Score: 49.4 %
Loss: 0.007939879534959135


Run: 825
Predicted Score: 51.9 %
Loss: 0.005102240049814226


Run: 826
Predicted Score: 33.74 %
Loss: 0.039927435564027385


Run: 827
Predicted Score: 53.52 %
Loss: 0.0035984590154509856


Run: 828
Predicted Score: 31.2 %
Loss: 0.04743577745629017


Run: 829
Predicted Score: 48.51 %
Loss: 0.009093300266295458


Run: 830
Predicted Score: 28.95 %
Loss: 0.05462312268757208


Run: 831
Predicted Score: 84.76 %
Loss: 0.025893588310861058


Run: 832
Predicted Score: 50.18 %
Loss: 0.006985043333183772


Run: 833
Predicted Score: 62.09 %
Loss: 3.6914620152773697e-07


Run: 834
Predicted Score: 67.81 %
Loss: 0.0016849957617697307


Run: 835
Predicted Score: 74.65 %
Loss: 0.007995387045982913


Run: 836
Predicted Score: 30.93 %
Loss: 0.048273771134185614


Run: 837
Predicted Score: 80.5 %
Loss: 0.017108290085281145


Run: 838
Predicted Score: 55.17 %
Loss: 0.002335409544817879


Run: 839
Predicted Score: 90.93 %
Loss: 0.0418568234453618


Run: 840
Predicted Score: 74.48 %
Loss: 0.007783413696210442


Run: 841
Predicted Score: 78.15 %
Loss: 0.013045442932593304


Run: 842
Predicted Score: 69.49 %
Loss: 0.0028062940495645347


Run: 843
Predicted Score: 67.05 %
Loss: 0.0012731922971760583


Run: 844
Predicted Score: 81.4 %
Loss: 0.01881266756665568


Run: 845
Predicted Score: 19.82 %
Loss: 0.08895518783608296


Run: 846
Predicted Score: 59.93 %
Loss: 0.0002149670098159114


Run: 847
Predicted Score: 40.73 %
Loss: 0.022620367859405643


Run: 848
Predicted Score: 53.65 %
Loss: 0.003484624639469212


Run: 849
Predicted Score: 47.39 %
Loss: 0.01067622726022488


Run: 850
Predicted Score: 27.64 %
Loss: 0.059046663217462346


Run: 851
Predicted Score: 80.86 %
Loss: 0.01779075095414802


Run: 852
Predicted Score: 57.32 %
Loss: 0.0010971551219101712


Run: 853
Predicted Score: 48.35 %
Loss: 0.009313260767203763


Run: 854
Predicted Score: 38.41 %
Loss: 0.02782535860357115


Run: 855
Predicted Score: 57.1 %
Loss: 0.0011992226119165238


Run: 856
Predicted Score: 63.45 %
Loss: 0.00010482908475372586


Run: 857
Predicted Score: 42.07 %
Loss: 0.019856013411661


Run: 858
Predicted Score: 89.45 %
Loss: 0.037666453533309


Run: 859
Predicted Score: 75.98 %
Loss: 0.009773714885809151


Run: 860
Predicted Score: 43.51 %
Loss: 0.017086887440928147


Run: 861
Predicted Score: 53.58 %
Loss: 0.0035443233396515185


Run: 862
Predicted Score: 48.13 %
Loss: 0.00961772499240498


Run: 863
Predicted Score: 69.06 %
Loss: 0.0024934364503483397


Run: 864
Predicted Score: 11.07 %
Loss: 0.12969592413526046


Run: 865
Predicted Score: 42.68 %
Loss: 0.018664921959607776


Run: 866
Predicted Score: 54.61 %
Loss: 0.0027318519419206335


Run: 867
Predicted Score: 69.26 %
Loss: 0.002632464835096887


Run: 868
Predicted Score: 40.32 %
Loss: 0.02349065939423291


Run: 869
Predicted Score: 79.79 %
Loss: 0.015827581808502973


Run: 870
Predicted Score: 31.74 %
Loss: 0.04579417402975781


Run: 871
Predicted Score: 7.51 %
Loss: 0.14846049881685755


Run: 872
Predicted Score: 50.96 %
Loss: 0.006088616868417678


Run: 873
Predicted Score: 38.96 %
Loss: 0.02655158108762114


Run: 874
Predicted Score: 47.36 %
Loss: 0.010710470100284489


Run: 875
Predicted Score: 73.03 %
Loss: 0.006081411659576122


Run: 876
Predicted Score: 70.0 %
Loss: 0.0031974196701284106


Run: 877
Predicted Score: 41.3 %
Loss: 0.021420828800380386


Run: 878
Predicted Score: 72.68 %
Loss: 0.005701878862425252


Run: 879
Predicted Score: 21.26 %
Loss: 0.08299779307230944


Run: 880
Predicted Score: 17.9 %
Loss: 0.097228709661012


Run: 881
Predicted Score: 27.72 %
Loss: 0.058766066073204073


Run: 882
Predicted Score: 32.17 %
Loss: 0.044484574614982765


Run: 883
Predicted Score: 72.17 %
Loss: 0.005171034148594347


Run: 884
Predicted Score: 51.25 %
Loss: 0.005782306801733738


Run: 885
Predicted Score: 73.7 %
Loss: 0.006845624046087001


Run: 886
Predicted Score: 31.72 %
Loss: 0.04584768048657146


Run: 887
Predicted Score: 77.56 %
Loss: 0.012111694361444943


Run: 888
Predicted Score: 28.03 %
Loss: 0.05769504174717827


Run: 889
Predicted Score: 37.69 %
Loss: 0.029556836243203183


Run: 890
Predicted Score: 51.92 %
Loss: 0.005083791065110598


Run: 891
Predicted Score: 70.97 %
Loss: 0.0040214484817420225


Run: 892
Predicted Score: 54.25 %
Loss: 0.003002810883411323


Run: 893
Predicted Score: 80.64 %
Loss: 0.017364023737303214


Run: 894
Predicted Score: 50.03 %
Loss: 0.007161472292875061


Run: 895
Predicted Score: 56.0 %
Loss: 0.0017983644229683938


Run: 896
Predicted Score: 73.83 %
Loss: 0.006994655216166624


Run: 897
Predicted Score: 31.59 %
Loss: 0.04624799569989877


Run: 898
Predicted Score: 39.86 %
Loss: 0.02450645956944142


Run: 899
Predicted Score: 78.95 %
Loss: 0.014369040134259605


Run: 900
Predicted Score: 60.74 %
Loss: 7.980984496454887e-05


Run: 901
Predicted Score: 50.25 %
Loss: 0.006908927063321724


Run: 902
Predicted Score: 55.6 %
Loss: 0.002046999368494569


Run: 903
Predicted Score: 23.5 %
Loss: 0.07411251338265207


Run: 904
Predicted Score: 32.96 %
Loss: 0.04215271537516903


Run: 905
Predicted Score: 54.19 %
Loss: 0.003048271191901489


Run: 906
Predicted Score: 71.17 %
Loss: 0.004206430602011972


Run: 907
Predicted Score: 30.28 %
Loss: 0.05032229146159789


Run: 908
Predicted Score: 60.94 %
Loss: 5.572634891418421e-05


Run: 909
Predicted Score: 75.26 %
Loss: 0.008788834096576756


Run: 910
Predicted Score: 48.94 %
Loss: 0.008534596477814727


Run: 911
Predicted Score: 50.81 %
Loss: 0.00626268629038028


Run: 912
Predicted Score: 50.28 %
Loss: 0.006873690430694577


Run: 913
Predicted Score: 71.23 %
Loss: 0.004262227547744627


Run: 914
Predicted Score: 49.06 %
Loss: 0.008368121099777566


Run: 915
Predicted Score: 33.18 %
Loss: 0.04152951923553581


Run: 916
Predicted Score: 43.88 %
Loss: 0.01640974251059726


Run: 917
Predicted Score: 30.31 %
Loss: 0.050216819396974054


Run: 918
Predicted Score: 42.06 %
Loss: 0.019887843730766457


Run: 919
Predicted Score: 31.16 %
Loss: 0.04754352615230673


Run: 920
Predicted Score: 64.64 %
Loss: 0.0003474248368846755


Run: 921
Predicted Score: 66.43 %
Loss: 0.0009821782324130229


Run: 922
Predicted Score: 81.01 %
Loss: 0.018061297296657675


Run: 923
Predicted Score: 46.93 %
Loss: 0.011351955825616414


Run: 924
Predicted Score: 23.76 %
Loss: 0.07310045020528422


Run: 925
Predicted Score: 76.13 %
Loss: 0.009986190751936408


Run: 926
Predicted Score: 36.91 %
Loss: 0.03148747474452219


Run: 927
Predicted Score: 81.69 %
Loss: 0.01939183349908774


Run: 928
Predicted Score: 52.79 %
Loss: 0.004243801435287811


Run: 929
Predicted Score: 70.47 %
Loss: 0.003582948462223861


Run: 930
Predicted Score: 35.78 %
Loss: 0.03436268341571396


Run: 931
Predicted Score: 44.87 %
Loss: 0.014670246564018535


Run: 932
Predicted Score: 62.82 %
Loss: 3.336335976259553e-05


Run: 933
Predicted Score: 37.94 %
Loss: 0.028937281927791454


Run: 934
Predicted Score: 24.8 %
Loss: 0.06918761575971977


Run: 935
Predicted Score: 78.29 %
Loss: 0.013274559669265214


Run: 936
Predicted Score: 75.48 %
Loss: 0.009086103704623833


Run: 937
Predicted Score: 45.28 %
Loss: 0.013981369178958255


Run: 938
Predicted Score: 24.63 %
Loss: 0.06982027522422372


Run: 939
Predicted Score: 22.02 %
Loss: 0.0799371057168917


Run: 940
Predicted Score: 63.19 %
Loss: 7.13357781519343e-05


Run: 941
Predicted Score: 82.91 %
Loss: 0.021853108536201003


Run: 942
Predicted Score: 18.4 %
Loss: 0.09504424269153287


Run: 943
Predicted Score: 60.5 %
Loss: 0.00011252577171080505


Run: 944
Predicted Score: 43.24 %
Loss: 0.017599371214231375


Run: 945
Predicted Score: 43.18 %
Loss: 0.017704079985475664


Run: 946
Predicted Score: 62.77 %
Loss: 2.9525366162346764e-05


Run: 947
Predicted Score: 48.68 %
Loss: 0.008873707085743433


Run: 948
Predicted Score: 51.01 %
Loss: 0.006039820157690175


Run: 949
Predicted Score: 49.94 %
Loss: 0.007275124819313938


Run: 950
Predicted Score: 87.81 %
Loss: 0.03329501999654575


Run: 951
Predicted Score: 72.48 %
Loss: 0.005496547144471884


Run: 952
Predicted Score: 40.55 %
Loss: 0.02299856087348527


Run: 953
Predicted Score: 54.8 %
Loss: 0.0025940606169183754


Run: 954
Predicted Score: 65.35 %
Loss: 0.0005625525222035185


Run: 955
Predicted Score: 33.17 %
Loss: 0.04155642884570984


Run: 956
Predicted Score: 38.31 %
Loss: 0.028055045073229874


Run: 957
Predicted Score: 75.52 %
Loss: 0.009141485549460602


Run: 958
Predicted Score: 61.61 %
Loss: 7.532874164755489e-06


Run: 959
Predicted Score: 28.46 %
Loss: 0.05623945365472372


Run: 960
Predicted Score: 83.65 %
Loss: 0.02343766120367368


Run: 961
Predicted Score: 21.8 %
Loss: 0.08080041381276422


Run: 962
Predicted Score: 60.44 %
Loss: 0.0001209246906886847


Run: 963
Predicted Score: 60.59 %
Loss: 9.900633894140846e-05


Run: 964
Predicted Score: 83.97 %
Loss: 0.024133761052442085


Run: 965
Predicted Score: 24.41 %
Loss: 0.07063240030355761


Run: 966
Predicted Score: 30.19 %
Loss: 0.05060041503432794


Run: 967
Predicted Score: 65.14 %
Loss: 0.0004934545298846181


Run: 968
Predicted Score: 26.12 %
Loss: 0.06436100202258675


Run: 969
Predicted Score: 62.36 %
Loss: 6.417932350963944e-06


Run: 970
Predicted Score: 23.59 %
Loss: 0.07375987807654535


Run: 971
Predicted Score: 53.52 %
Loss: 0.0035986429078642148


Run: 972
Predicted Score: 68.87 %
Loss: 0.0023594098299664565


Run: 973
Predicted Score: 41.87 %
Loss: 0.020251930121887834


Run: 974
Predicted Score: 66.73 %
Loss: 0.0011164068674102687


Run: 975
Predicted Score: 62.12 %
Loss: 7.361934893516848e-07


Run: 976
Predicted Score: 18.78 %
Loss: 0.09341042572456251


Run: 977
Predicted Score: 51.97 %
Loss: 0.00503053989052188


Run: 978
Predicted Score: 59.2 %
Loss: 0.00039279357048592576


Run: 979
Predicted Score: 45.35 %
Loss: 0.0138556930438249


Run: 980
Predicted Score: 44.68 %
Loss: 0.014993081148274183


Run: 981
Predicted Score: 39.09 %
Loss: 0.02625291349045618


Run: 982
Predicted Score: 35.79 %
Loss: 0.03434635682567265


Run: 983
Predicted Score: 62.87 %
Loss: 3.7522255789424795e-05


Run: 984
Predicted Score: 22.1 %
Loss: 0.07960309087368353


Run: 985
Predicted Score: 49.6 %
Loss: 0.007685402053956517


Run: 986
Predicted Score: 32.45 %
Loss: 0.04365624485095117


Run: 987
Predicted Score: 22.65 %
Loss: 0.07742600826794697


Run: 988
Predicted Score: 69.25 %
Loss: 0.002630280106012396


Run: 989
Predicted Score: 71.59 %
Loss: 0.004598885934864897


Run: 990
Predicted Score: 41.15 %
Loss: 0.021744893124014893


Run: 991
Predicted Score: 16.33 %
Loss: 0.10430483996274763


Run: 992
Predicted Score: 45.32 %
Loss: 0.013914237139156613


Run: 993
Predicted Score: 84.95 %
Loss: 0.02633048864115935


Run: 994
Predicted Score: 26.74 %
Loss: 0.06216810084318167


Run: 995
Predicted Score: 73.28 %
Loss: 0.006361874955285062


Run: 996
Predicted Score: 53.79 %
Loss: 0.003370562090259982


Run: 997
Predicted Score: 27.97 %
Loss: 0.05791627903654703


Run: 998
Predicted Score: 42.33 %
Loss: 0.01934530188365986


Run: 999
Predicted Score: 15.35 %
Loss: 0.1088329110433309


Run: 1000
Predicted Score: 63.01 %
Loss: 5.114306516679018e-05



-----------------------------------
 Best Model 
-----------------------------------
W1: [[-0.51130471 -1.47750877  0.13511244]
 [-0.34144586  0.85050158 -1.66102963]]


W2: [[ 0.87886949]
 [-0.80276621]
 [ 1.48435818]]


Smallest loss 3.827802281164237e-08
Best Prediction 62.03 %
