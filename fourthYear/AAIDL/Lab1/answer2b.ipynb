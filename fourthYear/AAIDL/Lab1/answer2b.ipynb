Predicted Score: 80.51 %
Loss: 0.00031393251690822185


Run: 2
Predicted Score: 57.04 %
Loss: 0.021974444836743705


Run: 3
Predicted Score: 60.88 %
Loss: 0.014648960667010403


Run: 4
Predicted Score: 16.84 %
Loss: 0.18704180115842534


Run: 5
Predicted Score: 62.5 %
Loss: 0.01201564903131917


Run: 6
Predicted Score: 8.36 %
Loss: 0.24248953944926172


Run: 7
Predicted Score: 47.45 %
Loss: 0.04667180242281136


Run: 8
Predicted Score: 52.62 %
Loss: 0.032200426144263744


Run: 9
Predicted Score: 29.1 %
Loss: 0.1195733462011682


Run: 10
Predicted Score: 31.26 %
Loss: 0.10924197499207494


Run: 11
Predicted Score: 36.16 %
Loss: 0.08754928874316438


Run: 12
Predicted Score: 12.6 %
Loss: 0.2138510076481443


Run: 13
Predicted Score: 15.37 %
Loss: 0.1961243517455631


Run: 14
Predicted Score: 58.2 %
Loss: 0.019592191310277028


Run: 15
Predicted Score: 40.13 %
Loss: 0.07170375790089116


Run: 16
Predicted Score: 40.12 %
Loss: 0.07176150088179518


Run: 17
Predicted Score: 44.48 %
Loss: 0.056180416738071434


Run: 18
Predicted Score: 74.34 %
Loss: 0.000669742379047592


Run: 19
Predicted Score: 24.3 %
Loss: 0.144167296731515


Run: 20
Predicted Score: 64.8 %
Loss: 0.008715314826496508


Run: 21
Predicted Score: 22.62 %
Loss: 0.15334016622738544


Run: 22
Predicted Score: 36.85 %
Loss: 0.08468397199898582


Run: 23
Predicted Score: 55.29 %
Loss: 0.02578617381591418


Run: 24
Predicted Score: 31.69 %
Loss: 0.10724406044088197


Run: 25
Predicted Score: 18.07 %
Loss: 0.17960509240910197


Run: 26
Predicted Score: 32.29 %
Loss: 0.10448449289503246


Run: 27
Predicted Score: 44.52 %
Loss: 0.05605795140860652


Run: 28
Predicted Score: 35.94 %
Loss: 0.08846796743070938


Run: 29
Predicted Score: 63.87 %
Loss: 0.009977669438216812


Run: 30
Predicted Score: 40.0 %
Loss: 0.0721940378639148


Run: 31
Predicted Score: 84.93 %
Loss: 0.0023989085285136586


Run: 32
Predicted Score: 42.0 %
Loss: 0.06480684579393434


Run: 33
Predicted Score: 68.81 %
Loss: 0.004222137388309269


Run: 34
Predicted Score: 42.79 %
Loss: 0.0619946762882354


Run: 35
Predicted Score: 46.7 %
Loss: 0.04897637213807858


Run: 36
Predicted Score: 16.65 %
Loss: 0.18821064529760403


Run: 37
Predicted Score: 29.42 %
Loss: 0.11798620557594362


Run: 38
Predicted Score: 83.3 %
Loss: 0.00140303177247951


Run: 39
Predicted Score: 44.82 %
Loss: 0.05504845476086326


Run: 40
Predicted Score: 9.0 %
Loss: 0.23804851298218183


Run: 41
Predicted Score: 15.92 %
Loss: 0.19266687017378864


Run: 42
Predicted Score: 68.84 %
Loss: 0.004197496871439312


Run: 43
Predicted Score: 58.49 %
Loss: 0.019040728120642784


Run: 44
Predicted Score: 36.58 %
Loss: 0.0857833084832795


Run: 45
Predicted Score: 87.93 %
Loss: 0.004934994856427461


Run: 46
Predicted Score: 19.2 %
Loss: 0.17286480042722263


Run: 47
Predicted Score: 64.24 %
Loss: 0.009463346644308446


Run: 48
Predicted Score: 18.52 %
Loss: 0.17688444075297086


Run: 49
Predicted Score: 60.16 %
Loss: 0.015918330865462335


Run: 50
Predicted Score: 46.99 %
Loss: 0.048076352999067755


Run: 51
Predicted Score: 55.16 %
Loss: 0.02608465044596361


Run: 52
Predicted Score: 74.93 %
Loss: 0.0004700281943144566


Run: 53
Predicted Score: 36.97 %
Loss: 0.08417198240415379


Run: 54
Predicted Score: 37.11 %
Loss: 0.0835955803401862


Run: 55
Predicted Score: 20.22 %
Loss: 0.1668980484630388


Run: 56
Predicted Score: 24.63 %
Loss: 0.14242822293542196


Run: 57
Predicted Score: 37.24 %
Loss: 0.08305035947635242


Run: 58
Predicted Score: 24.78 %
Loss: 0.14161997258573036


Run: 59
Predicted Score: 53.3 %
Loss: 0.030508898158319264


Run: 60
Predicted Score: 32.91 %
Loss: 0.10164259535025691


Run: 61
Predicted Score: 79.48 %
Loss: 0.0001089843782070299


Run: 62
Predicted Score: 64.39 %
Loss: 0.009261170287717663


Run: 63
Predicted Score: 36.3 %
Loss: 0.08692545148126785


Run: 64
Predicted Score: 51.27 %
Loss: 0.035712338335031235


Run: 65
Predicted Score: 58.77 %
Loss: 0.01848583132177375


Run: 66
Predicted Score: 55.9 %
Loss: 0.02442578985197015


Run: 67
Predicted Score: 67.66 %
Loss: 0.005349355674023945


Run: 68
Predicted Score: 67.21 %
Loss: 0.00581586864571837


Run: 69
Predicted Score: 25.45 %
Loss: 0.13804967775069907


Run: 70
Predicted Score: 80.03 %
Loss: 0.0002066407634669868


Run: 71
Predicted Score: 78.77 %
Loss: 3.0002322869964087e-05


Run: 72
Predicted Score: 55.13 %
Loss: 0.026146876268615372


Run: 73
Predicted Score: 59.97 %
Loss: 0.01625778759761613


Run: 74
Predicted Score: 45.28 %
Loss: 0.0535224538717604


Run: 75
Predicted Score: 35.14 %
Loss: 0.09183270759631738


Run: 76
Predicted Score: 65.52 %
Loss: 0.007791975696591058


Run: 77
Predicted Score: 50.88 %
Loss: 0.036763273259482386


Run: 78
Predicted Score: 60.09 %
Loss: 0.016032122825748257


Run: 79
Predicted Score: 27.1 %
Loss: 0.12951780688721026


Run: 80
Predicted Score: 65.52 %
Loss: 0.007787402075457627


Run: 81
Predicted Score: 47.43 %
Loss: 0.04673989624628513


Run: 82
Predicted Score: 80.18 %
Loss: 0.00023684501941531805


Run: 83
Predicted Score: 43.48 %
Loss: 0.05958391647771395


Run: 84
Predicted Score: 75.44 %
Loss: 0.000326978185669305


Run: 85
Predicted Score: 43.24 %
Loss: 0.06040265231998076


Run: 86
Predicted Score: 34.53 %
Loss: 0.09447507363185681


Run: 87
Predicted Score: 45.61 %
Loss: 0.05247086902474562


Run: 88
Predicted Score: 76.63 %
Loss: 9.337868694494692e-05


Run: 89
Predicted Score: 54.29 %
Loss: 0.028102758242745884


Run: 90
Predicted Score: 62.85 %
Loss: 0.011468753181247144


Run: 91
Predicted Score: 70.67 %
Loss: 0.0026888424555358763


Run: 92
Predicted Score: 22.0 %
Loss: 0.1568010069573598


Run: 93
Predicted Score: 29.65 %
Loss: 0.11686897918710566


Run: 94
Predicted Score: 65.09 %
Loss: 0.008333978277667037


Run: 95
Predicted Score: 37.59 %
Loss: 0.08164497063691055


Run: 96
Predicted Score: 36.73 %
Loss: 0.08514010993195566


Run: 97
Predicted Score: 52.62 %
Loss: 0.032197815442031825


Run: 98
Predicted Score: 64.93 %
Loss: 0.008539359347986927


Run: 99
Predicted Score: 10.53 %
Loss: 0.22760790068544248


Run: 100
Predicted Score: 32.28 %
Loss: 0.10452620630924789


Run: 101
Predicted Score: 52.35 %
Loss: 0.03288607616104714


Run: 102
Predicted Score: 63.06 %
Loss: 0.011154588285641328


Run: 103
Predicted Score: 31.33 %
Loss: 0.10888212017215881


Run: 104
Predicted Score: 24.08 %
Loss: 0.1453722619437435


Run: 105
Predicted Score: 21.46 %
Loss: 0.15984379255569184


Run: 106
Predicted Score: 80.34 %
Loss: 0.0002749478026463791


Run: 107
Predicted Score: 63.95 %
Loss: 0.009872096563484457


Run: 108
Predicted Score: 62.61 %
Loss: 0.011844468387322934


Run: 109
Predicted Score: 59.43 %
Loss: 0.017246829231201178


Run: 110
Predicted Score: 24.26 %
Loss: 0.14442012975626167


Run: 111
Predicted Score: 36.21 %
Loss: 0.08730974614190584


Run: 112
Predicted Score: 63.81 %
Loss: 0.010073398387109049


Run: 113
Predicted Score: 66.23 %
Loss: 0.0069272008938665915


Run: 114
Predicted Score: 37.19 %
Loss: 0.08326063614276887


Run: 115
Predicted Score: 68.5 %
Loss: 0.004516512985701596


Run: 116
Predicted Score: 11.69 %
Loss: 0.21984481981586707


Run: 117
Predicted Score: 22.18 %
Loss: 0.15580830094905496


Run: 118
Predicted Score: 65.59 %
Loss: 0.00769454827100517


Run: 119
Predicted Score: 71.2 %
Loss: 0.002312637746857353


Run: 120
Predicted Score: 58.7 %
Loss: 0.018618234259125937


Run: 121
Predicted Score: 48.07 %
Loss: 0.0447887839250862


Run: 122
Predicted Score: 72.84 %
Loss: 0.001331972963448861


Run: 123
Predicted Score: 42.03 %
Loss: 0.06467728325440421


Run: 124
Predicted Score: 88.33 %
Loss: 0.005331585413599789


Run: 125
Predicted Score: 54.03 %
Loss: 0.028720052071233952


Run: 126
Predicted Score: 38.77 %
Loss: 0.07695763112915084


Run: 127
Predicted Score: 48.01 %
Loss: 0.04498293209135489


Run: 128
Predicted Score: 46.96 %
Loss: 0.048181903489219656


Run: 129
Predicted Score: 18.45 %
Loss: 0.17730155997257685


Run: 130
Predicted Score: 54.9 %
Loss: 0.026690805299647055


Run: 131
Predicted Score: 57.08 %
Loss: 0.021890735724236214


Run: 132
Predicted Score: 70.6 %
Loss: 0.002736175099691096


Run: 133
Predicted Score: 68.64 %
Loss: 0.004377935062659933


Run: 134
Predicted Score: 18.18 %
Loss: 0.17892075361526952


Run: 135
Predicted Score: 22.82 %
Loss: 0.15222561433883594


Run: 136
Predicted Score: 37.01 %
Loss: 0.08399252156509585


Run: 137
Predicted Score: 44.23 %
Loss: 0.05703751926279148


Run: 138
Predicted Score: 74.14 %
Loss: 0.0007449634247312175


Run: 139
Predicted Score: 87.58 %
Loss: 0.004590243796123824


Run: 140
Predicted Score: 55.16 %
Loss: 0.026094414583250198


Run: 141
Predicted Score: 81.97 %
Loss: 0.0007889762192860309


Run: 142
Predicted Score: 30.08 %
Loss: 0.11483085698178529


Run: 143
Predicted Score: 46.42 %
Loss: 0.04985417523708673


Run: 144
Predicted Score: 68.1 %
Loss: 0.004900303534594001


Run: 145
Predicted Score: 37.68 %
Loss: 0.08129913263546032


Run: 146
Predicted Score: 49.22 %
Loss: 0.04142703494724482


Run: 147
Predicted Score: 90.99 %
Loss: 0.008433252522920768


Run: 148
Predicted Score: 37.28 %
Loss: 0.08292402579421776


Run: 149
Predicted Score: 45.54 %
Loss: 0.05267090484958865


Run: 150
Predicted Score: 65.15 %
Loss: 0.00825070824956093


Run: 151
Predicted Score: 51.54 %
Loss: 0.03501967939517692


Run: 152
Predicted Score: 48.2 %
Loss: 0.044407231419436866


Run: 153
Predicted Score: 33.64 %
Loss: 0.09838583916725331


Run: 154
Predicted Score: 41.47 %
Loss: 0.0667050687591866


Run: 155
Predicted Score: 52.24 %
Loss: 0.03318492259100401


Run: 156
Predicted Score: 61.67 %
Loss: 0.013330909963676531


Run: 157
Predicted Score: 38.35 %
Loss: 0.07859135866461467


Run: 158
Predicted Score: 62.46 %
Loss: 0.012075453806573967


Run: 159
Predicted Score: 39.98 %
Loss: 0.07229173109269112


Run: 160
Predicted Score: 42.83 %
Loss: 0.061861086147986764


Run: 161
Predicted Score: 54.06 %
Loss: 0.02866284271253928


Run: 162
Predicted Score: 24.62 %
Loss: 0.14246247723216376


Run: 163
Predicted Score: 58.92 %
Loss: 0.018195445851194116


Run: 164
Predicted Score: 48.1 %
Loss: 0.04469436720426015


Run: 165
Predicted Score: 20.98 %
Loss: 0.1625764712793924


Run: 166
Predicted Score: 37.26 %
Loss: 0.08299029614889052


Run: 167
Predicted Score: 49.43 %
Loss: 0.04082381567518635


Run: 168
Predicted Score: 54.37 %
Loss: 0.027918721675576647


Run: 169
Predicted Score: 60.13 %
Loss: 0.01596234179680174


Run: 170
Predicted Score: 55.09 %
Loss: 0.026239211743154467


Run: 171
Predicted Score: 42.86 %
Loss: 0.061749144100764444


Run: 172
Predicted Score: 78.24 %
Loss: 2.810343121542936e-06


Run: 173
Predicted Score: 57.63 %
Loss: 0.02074266243073597


Run: 174
Predicted Score: 21.31 %
Loss: 0.1606617602934508


Run: 175
Predicted Score: 47.14 %
Loss: 0.047631906836692786


Run: 176
Predicted Score: 34.25 %
Loss: 0.09570512464952795


Run: 177
Predicted Score: 39.46 %
Loss: 0.074280420548621


Run: 178
Predicted Score: 18.79 %
Loss: 0.17531267764793668


Run: 179
Predicted Score: 70.91 %
Loss: 0.002516018040719703


Run: 180
Predicted Score: 58.48 %
Loss: 0.01904337330286068


Run: 181
Predicted Score: 42.88 %
Loss: 0.06168438933308578


Run: 182
Predicted Score: 26.38 %
Loss: 0.1332166609228526


Run: 183
Predicted Score: 80.95 %
Loss: 0.0004365835086406603


Run: 184
Predicted Score: 51.06 %
Loss: 0.03629224541800418


Run: 185
Predicted Score: 31.58 %
Loss: 0.1077407434983295


Run: 186
Predicted Score: 34.08 %
Loss: 0.09645355549866193


Run: 187
Predicted Score: 56.01 %
Loss: 0.024174760763633407


Run: 188
Predicted Score: 70.77 %
Loss: 0.0026120727869724737


Run: 189
Predicted Score: 48.87 %
Loss: 0.04242547554407835


Run: 190
Predicted Score: 78.28 %
Loss: 4.004506395104566e-06


Run: 191
Predicted Score: 76.9 %
Loss: 6.008663132969947e-05


Run: 192
Predicted Score: 11.96 %
Loss: 0.21804729254014976


Run: 193
Predicted Score: 42.26 %
Loss: 0.06388435085896454


Run: 194
Predicted Score: 61.24 %
Loss: 0.014040879890104812


Run: 195
Predicted Score: 61.87 %
Loss: 0.01300498402257982


Run: 196
Predicted Score: 27.09 %
Loss: 0.12957028753642097


Run: 197
Predicted Score: 37.99 %
Loss: 0.08003395220567525


Run: 198
Predicted Score: 46.02 %
Loss: 0.05114968673324466


Run: 199
Predicted Score: 17.24 %
Loss: 0.18456593421667822


Run: 200
Predicted Score: 51.64 %
Loss: 0.03474832819028853


Run: 201
Predicted Score: 26.1 %
Loss: 0.13470150445717027


Run: 202
Predicted Score: 29.63 %
Loss: 0.11696184301725636


Run: 203
Predicted Score: 33.28 %
Loss: 0.09999253950897379


Run: 204
Predicted Score: 19.05 %
Loss: 0.17373994623579136


Run: 205
Predicted Score: 51.3 %
Loss: 0.03565046922177559


Run: 206
Predicted Score: 57.04 %
Loss: 0.021967797915847208


Run: 207
Predicted Score: 20.52 %
Loss: 0.1651721458987268


Run: 208
Predicted Score: 45.41 %
Loss: 0.053098802881804436


Run: 209
Predicted Score: 76.82 %
Loss: 6.997770698601499e-05


Run: 210
Predicted Score: 30.88 %
Loss: 0.1110218212362515


Run: 211
Predicted Score: 48.56 %
Loss: 0.043334201626786334


Run: 212
Predicted Score: 25.26 %
Loss: 0.13908932992683695


Run: 213
Predicted Score: 66.91 %
Loss: 0.006154355564660985


Run: 214
Predicted Score: 61.06 %
Loss: 0.01434356026615239


Run: 215
Predicted Score: 78.56 %
Loss: 1.5770264564213337e-05


Run: 216
Predicted Score: 42.19 %
Loss: 0.0641095051475029


Run: 217
Predicted Score: 64.85 %
Loss: 0.008641811654393958


Run: 218
Predicted Score: 52.94 %
Loss: 0.031405397740357874


Run: 219
Predicted Score: 83.8 %
Loss: 0.001680074705295314


Run: 220
Predicted Score: 57.65 %
Loss: 0.020701953086086296


Run: 221
Predicted Score: 63.82 %
Loss: 0.010054456726209998


Run: 222
Predicted Score: 54.69 %
Loss: 0.0271722985291896


Run: 223
Predicted Score: 17.63 %
Loss: 0.182210535605504


Run: 224
Predicted Score: 44.5 %
Loss: 0.05611275361080504


Run: 225
Predicted Score: 66.08 %
Loss: 0.007101672091126212


Run: 226
Predicted Score: 75.12 %
Loss: 0.0004142645673580828


Run: 227
Predicted Score: 70.65 %
Loss: 0.002698669991057006


Run: 228
Predicted Score: 73.09 %
Loss: 0.0012060139310913459


Run: 229
Predicted Score: 16.21 %
Loss: 0.19092707788687677


Run: 230
Predicted Score: 32.42 %
Loss: 0.10385627713620818


Run: 231
Predicted Score: 37.83 %
Loss: 0.0806749408289605


Run: 232
Predicted Score: 48.92 %
Loss: 0.04227366639203203


Run: 233
Predicted Score: 33.02 %
Loss: 0.10116185592969024


Run: 234
Predicted Score: 7.37 %
Loss: 0.24941911194563532


Run: 235
Predicted Score: 77.14 %
Loss: 3.702493229746435e-05


Run: 236
Predicted Score: 44.7 %
Loss: 0.05543147261091218


Run: 237
Predicted Score: 28.12 %
Loss: 0.12441078298507718


Run: 238
Predicted Score: 37.17 %
Loss: 0.08335801419341268


Run: 239
Predicted Score: 81.63 %
Loss: 0.0006583045349344233


Run: 240
Predicted Score: 58.99 %
Loss: 0.01806136381565949


Run: 241
Predicted Score: 41.37 %
Loss: 0.06707732197122657


Run: 242
Predicted Score: 36.93 %
Loss: 0.08431725893605901


Run: 243
Predicted Score: 25.7 %
Loss: 0.13678245015604498


Run: 244
Predicted Score: 72.61 %
Loss: 0.0014510278056915958


Run: 245
Predicted Score: 44.33 %
Loss: 0.056667438078614525


Run: 246
Predicted Score: 75.65 %
Loss: 0.00027501570733551783


Run: 247
Predicted Score: 44.57 %
Loss: 0.05588191437746592


Run: 248
Predicted Score: 47.34 %
Loss: 0.0469888734439643


Run: 249
Predicted Score: 36.18 %
Loss: 0.08745324241099056


Run: 250
Predicted Score: 58.35 %
Loss: 0.019300159509887643


Run: 251
Predicted Score: 59.0 %
Loss: 0.018043525812468836


Run: 252
Predicted Score: 41.27 %
Loss: 0.06743673278823709


Run: 253
Predicted Score: 70.39 %
Loss: 0.0028919212354931714


Run: 254
Predicted Score: 60.97 %
Loss: 0.014492538559987533


Run: 255
Predicted Score: 55.29 %
Loss: 0.025778618227513525


Run: 256
Predicted Score: 40.64 %
Loss: 0.06978488664504845


Run: 257
Predicted Score: 45.17 %
Loss: 0.05389542996095587


Run: 258
Predicted Score: 58.65 %
Loss: 0.018719660677600676


Run: 259
Predicted Score: 28.04 %
Loss: 0.12482374194825518


Run: 260
Predicted Score: 25.09 %
Loss: 0.139954493352895


Run: 261
Predicted Score: 62.92 %
Loss: 0.011376988737151816


Run: 262
Predicted Score: 41.88 %
Loss: 0.06521708651506337


Run: 263
Predicted Score: 85.75 %
Loss: 0.003001332985885014


Run: 264
Predicted Score: 48.67 %
Loss: 0.043007092439093994


Run: 265
Predicted Score: 26.48 %
Loss: 0.13270527349049052


Run: 266
Predicted Score: 15.84 %
Loss: 0.19322042354764332


Run: 267
Predicted Score: 71.76 %
Loss: 0.0019473576172778177


Run: 268
Predicted Score: 20.73 %
Loss: 0.1639804398119156


Run: 269
Predicted Score: 69.2 %
Loss: 0.0038684313722683003


Run: 270
Predicted Score: 43.55 %
Loss: 0.05934330044190242


Run: 271
Predicted Score: 14.7 %
Loss: 0.20035792034037092


Run: 272
Predicted Score: 45.9 %
Loss: 0.05152782580714847


Run: 273
Predicted Score: 87.35 %
Loss: 0.004366989423021725


Run: 274
Predicted Score: 35.36 %
Loss: 0.09090604012684338


Run: 275
Predicted Score: 32.1 %
Loss: 0.10533210307912104


Run: 276
Predicted Score: 60.34 %
Loss: 0.015585533763281718


Run: 277
Predicted Score: 41.76 %
Loss: 0.0656618924296879


Run: 278
Predicted Score: 48.13 %
Loss: 0.04461397334236507


Run: 279
Predicted Score: 79.01 %
Loss: 5.140990655690038e-05


Run: 280
Predicted Score: 36.14 %
Loss: 0.08761887004545833


Run: 281
Predicted Score: 38.85 %
Loss: 0.0766528106139751


Run: 282
Predicted Score: 55.83 %
Loss: 0.02457350305511245


Run: 283
Predicted Score: 19.36 %
Loss: 0.17193771172107197


Run: 284
Predicted Score: 65.13 %
Loss: 0.008277998825716601


Run: 285
Predicted Score: 70.42 %
Loss: 0.002870628493761957


Run: 286
Predicted Score: 76.59 %
Loss: 9.96881595008529e-05


Run: 287
Predicted Score: 55.92 %
Loss: 0.024386467988714664


Run: 288
Predicted Score: 45.68 %
Loss: 0.05221706465094312


Run: 289
Predicted Score: 63.13 %
Loss: 0.011059765631094674


Run: 290
Predicted Score: 31.64 %
Loss: 0.10746884188534761


Run: 291
Predicted Score: 46.0 %
Loss: 0.0511949652441376


Run: 292
Predicted Score: 66.99 %
Loss: 0.006057050378068605


Run: 293
Predicted Score: 84.16 %
Loss: 0.001894923653578938


Run: 294
Predicted Score: 30.14 %
Loss: 0.11454852037920754


Run: 295
Predicted Score: 86.9 %
Loss: 0.00396098387999387


Run: 296
Predicted Score: 79.15 %
Loss: 6.605711388338487e-05


Run: 297
Predicted Score: 30.19 %
Loss: 0.1142764365279403


Run: 298
Predicted Score: 13.76 %
Loss: 0.20631978202943085


Run: 299
Predicted Score: 40.04 %
Loss: 0.07203901675121249


Run: 300
Predicted Score: 64.71 %
Loss: 0.008827060628254883


Run: 301
Predicted Score: 13.83 %
Loss: 0.2058637228256616


Run: 302
Predicted Score: 11.35 %
Loss: 0.2220786287161502


Run: 303
Predicted Score: 32.04 %
Loss: 0.10561120152236397


Run: 304
Predicted Score: 57.93 %
Loss: 0.020145521160910614


Run: 305
Predicted Score: 32.76 %
Loss: 0.10231974354831984


Run: 306
Predicted Score: 31.92 %
Loss: 0.10618679303555865


Run: 307
Predicted Score: 67.64 %
Loss: 0.005369534219915219


Run: 308
Predicted Score: 48.23 %
Loss: 0.04429915798227125


Run: 309
Predicted Score: 18.19 %
Loss: 0.17888519422033708


Run: 310
Predicted Score: 22.06 %
Loss: 0.15645293870510732


Run: 311
Predicted Score: 72.01 %
Loss: 0.001792201893180099


Run: 312
Predicted Score: 35.83 %
Loss: 0.0888973520042115


Run: 313
Predicted Score: 8.33 %
Loss: 0.24270007263568724


Run: 314
Predicted Score: 26.73 %
Loss: 0.13143557627192684


Run: 315
Predicted Score: 82.21 %
Loss: 0.0008862706898615808


Run: 316
Predicted Score: 51.42 %
Loss: 0.0353187807479816


Run: 317
Predicted Score: 71.27 %
Loss: 0.0022662643901732718


Run: 318
Predicted Score: 54.84 %
Loss: 0.02681465438310457


Run: 319
Predicted Score: 60.06 %
Loss: 0.016100568521697715


Run: 320
Predicted Score: 67.75 %
Loss: 0.005249075768255668


Run: 321
Predicted Score: 38.02 %
Loss: 0.07990346723547977


Run: 322
Predicted Score: 70.21 %
Loss: 0.0030344826782666323


Run: 323
Predicted Score: 69.02 %
Loss: 0.0040309744038576935


Run: 324
Predicted Score: 21.28 %
Loss: 0.1608392035305476


Run: 325
Predicted Score: 39.82 %
Loss: 0.07288472028801415


Run: 326
Predicted Score: 39.85 %
Loss: 0.07278131133262467


Run: 327
Predicted Score: 26.88 %
Loss: 0.1306799793520629


Run: 328
Predicted Score: 62.86 %
Loss: 0.011467003065692769


Run: 329
Predicted Score: 56.2 %
Loss: 0.023752946338469087


Run: 330
Predicted Score: 58.36 %
Loss: 0.019291229141265454


Run: 331
Predicted Score: 61.41 %
Loss: 0.013759798313063948


Run: 332
Predicted Score: 49.58 %
Loss: 0.040388238927511165


Run: 333
Predicted Score: 42.81 %
Loss: 0.061900433194239345


Run: 334
Predicted Score: 26.0 %
Loss: 0.13520721538700287


Run: 335
Predicted Score: 63.26 %
Loss: 0.010867810415259414


Run: 336
Predicted Score: 52.74 %
Loss: 0.03190837685436494


Run: 337
Predicted Score: 72.26 %
Loss: 0.0016480943464228005


Run: 338
Predicted Score: 54.01 %
Loss: 0.02877210569158716


Run: 339
Predicted Score: 29.24 %
Loss: 0.11890120630061558


Run: 340
Predicted Score: 46.39 %
Loss: 0.04995277961949925


Run: 341
Predicted Score: 74.58 %
Loss: 0.0005842825694400655


Run: 342
Predicted Score: 69.65 %
Loss: 0.0034839835182821095


Run: 343
Predicted Score: 44.22 %
Loss: 0.057040767062875045


Run: 344
Predicted Score: 44.41 %
Loss: 0.05640179942141584


Run: 345
Predicted Score: 62.4 %
Loss: 0.012163634841274399


Run: 346
Predicted Score: 52.85 %
Loss: 0.03162787166261177


Run: 347
Predicted Score: 55.1 %
Loss: 0.02622850021973016


Run: 348
Predicted Score: 51.72 %
Loss: 0.03454083202358584


Run: 349
Predicted Score: 87.05 %
Loss: 0.0040996440627052225


Run: 350
Predicted Score: 31.39 %
Loss: 0.10863456006310016


Run: 351
Predicted Score: 67.22 %
Loss: 0.005811424642699126


Run: 352
Predicted Score: 82.41 %
Loss: 0.0009734653773720767


Run: 353
Predicted Score: 50.18 %
Loss: 0.038697664529691145


Run: 354
Predicted Score: 56.79 %
Loss: 0.022502743730111865


Run: 355
Predicted Score: 76.8 %
Loss: 7.216279105117639e-05


Run: 356
Predicted Score: 53.54 %
Loss: 0.02990343878531204


Run: 357
Predicted Score: 62.48 %
Loss: 0.012038635748228006


Run: 358
Predicted Score: 38.8 %
Loss: 0.07681732880207474


Run: 359
Predicted Score: 37.83 %
Loss: 0.08066478539392923


Run: 360
Predicted Score: 49.83 %
Loss: 0.03968361270270905


Run: 361
Predicted Score: 55.42 %
Loss: 0.025497783018275127


Run: 362
Predicted Score: 90.11 %
Loss: 0.0073338264325498


Run: 363
Predicted Score: 62.74 %
Loss: 0.011644056920437705


Run: 364
Predicted Score: 47.75 %
Loss: 0.04576497230723724


Run: 365
Predicted Score: 52.03 %
Loss: 0.03371655021578863


Run: 366
Predicted Score: 20.15 %
Loss: 0.16734079516262645


Run: 367
Predicted Score: 67.54 %
Loss: 0.005470503981914258


Run: 368
Predicted Score: 69.17 %
Loss: 0.003899169198335812


Run: 369
Predicted Score: 15.85 %
Loss: 0.1931352712424306


Run: 370
Predicted Score: 42.9 %
Loss: 0.061609909686701554


Run: 371
Predicted Score: 25.62 %
Loss: 0.1371705678936702


Run: 372
Predicted Score: 61.87 %
Loss: 0.013016240123923387


Run: 373
Predicted Score: 23.28 %
Loss: 0.14973456500752957


Run: 374
Predicted Score: 64.98 %
Loss: 0.008472543281321758


Run: 375
Predicted Score: 26.01 %
Loss: 0.135156707955832


Run: 376
Predicted Score: 35.6 %
Loss: 0.08990655728513389


Run: 377
Predicted Score: 45.32 %
Loss: 0.053398695257119176


Run: 378
Predicted Score: 42.96 %
Loss: 0.061377915961272414


Run: 379
Predicted Score: 57.12 %
Loss: 0.02179294096325556


Run: 380
Predicted Score: 41.13 %
Loss: 0.06797779347968338


Run: 381
Predicted Score: 67.1 %
Loss: 0.005942540174086755


Run: 382
Predicted Score: 43.09 %
Loss: 0.06094443945190233


Run: 383
Predicted Score: 37.34 %
Loss: 0.0826564904639677


Run: 384
Predicted Score: 12.33 %
Loss: 0.21562315834335355


Run: 385
Predicted Score: 56.04 %
Loss: 0.024118548139341712


Run: 386
Predicted Score: 85.15 %
Loss: 0.0025588823663414053


Run: 387
Predicted Score: 63.44 %
Loss: 0.010604099795492308


Run: 388
Predicted Score: 39.41 %
Loss: 0.07447581520317


Run: 389
Predicted Score: 12.57 %
Loss: 0.21407626757978127


Run: 390
Predicted Score: 50.42 %
Loss: 0.03803291964132484


Run: 391
Predicted Score: 82.03 %
Loss: 0.0008107500147474762


Run: 392
Predicted Score: 40.18 %
Loss: 0.07149901394382843


Run: 393
Predicted Score: 55.65 %
Loss: 0.024978117485140266


Run: 394
Predicted Score: 12.63 %
Loss: 0.2136586083005921


Run: 395
Predicted Score: 36.19 %
Loss: 0.08739106532345035


Run: 396
Predicted Score: 51.6 %
Loss: 0.03485964046290106


Run: 397
Predicted Score: 26.53 %
Loss: 0.13243633578684433


Run: 398
Predicted Score: 50.41 %
Loss: 0.03807044024953024


Run: 399
Predicted Score: 80.79 %
Loss: 0.00038952310137570955


Run: 400
Predicted Score: 50.31 %
Loss: 0.03835001709753574


Run: 401
Predicted Score: 27.08 %
Loss: 0.1296442176051153


Run: 402
Predicted Score: 66.62 %
Loss: 0.006471864412090717


Run: 403
Predicted Score: 43.45 %
Loss: 0.05967575160786376


Run: 404
Predicted Score: 29.38 %
Loss: 0.11817470308794067


Run: 405
Predicted Score: 87.5 %
Loss: 0.004514687019640478


Run: 406
Predicted Score: 85.3 %
Loss: 0.0026631709412390913


Run: 407
Predicted Score: 66.07 %
Loss: 0.00711432547545641


Run: 408
Predicted Score: 41.27 %
Loss: 0.06746140392155142


Run: 409
Predicted Score: 69.83 %
Loss: 0.0033399882970091446


Run: 410
Predicted Score: 63.09 %
Loss: 0.011120832508754652


Run: 411
Predicted Score: 35.26 %
Loss: 0.09132914428030114


Run: 412
Predicted Score: 48.06 %
Loss: 0.044830677422367654


Run: 413
Predicted Score: 35.01 %
Loss: 0.09239738454514107


Run: 414
Predicted Score: 70.56 %
Loss: 0.0027688084080678085


Run: 415
Predicted Score: 24.7 %
Loss: 0.14202250266086297


Run: 416
Predicted Score: 20.05 %
Loss: 0.16789121675485932


Run: 417
Predicted Score: 43.89 %
Loss: 0.058162964269577816


Run: 418
Predicted Score: 64.73 %
Loss: 0.008802112476017969


Run: 419
Predicted Score: 61.92 %
Loss: 0.012923007991243553


Run: 420
Predicted Score: 46.17 %
Loss: 0.0506547377984545


Run: 421
Predicted Score: 85.08 %
Loss: 0.0025081051433473805


Run: 422
Predicted Score: 87.54 %
Loss: 0.004550948320899447


Run: 423
Predicted Score: 17.21 %
Loss: 0.18478069462182165


Run: 424
Predicted Score: 49.99 %
Loss: 0.03922138204131114


Run: 425
Predicted Score: 66.2 %
Loss: 0.006962520585037854


Run: 426
Predicted Score: 44.71 %
Loss: 0.05541442264908048


Run: 427
Predicted Score: 29.27 %
Loss: 0.11873519986693894


Run: 428
Predicted Score: 52.93 %
Loss: 0.03143684226870145


Run: 429
Predicted Score: 44.48 %
Loss: 0.05618687675906696


Run: 430
Predicted Score: 61.41 %
Loss: 0.01375354284140761


Run: 431
Predicted Score: 72.24 %
Loss: 0.001660316098700989


Run: 432
Predicted Score: 66.88 %
Loss: 0.00618647758190171


Run: 433
Predicted Score: 47.87 %
Loss: 0.04540217949358327


Run: 434
Predicted Score: 11.59 %
Loss: 0.22049359544597188


Run: 435
Predicted Score: 21.89 %
Loss: 0.15739865805752562


Run: 436
Predicted Score: 46.47 %
Loss: 0.049698255215572563


Run: 437
Predicted Score: 43.52 %
Loss: 0.0594380306883927


Run: 438
Predicted Score: 37.72 %
Loss: 0.08112034468190212


Run: 439
Predicted Score: 41.93 %
Loss: 0.06506965740573267


Run: 440
Predicted Score: 12.84 %
Loss: 0.21226537137810605


Run: 441
Predicted Score: 87.78 %
Loss: 0.004782098773369627


Run: 442
Predicted Score: 56.1 %
Loss: 0.02398489063248766


Run: 443
Predicted Score: 32.89 %
Loss: 0.10174087512654849


Run: 444
Predicted Score: 33.01 %
Loss: 0.10119964641357762


Run: 445
Predicted Score: 50.83 %
Loss: 0.03691692918044258


Run: 446
Predicted Score: 22.48 %
Loss: 0.1541323336706363


Run: 447
Predicted Score: 52.75 %
Loss: 0.031881381871063645


Run: 448
Predicted Score: 35.48 %
Loss: 0.09039153787103898


Run: 449
Predicted Score: 86.92 %
Loss: 0.003980818561397603


Run: 450
Predicted Score: 76.88 %
Loss: 6.307055623228689e-05


Run: 451
Predicted Score: 38.22 %
Loss: 0.07913967739155665


Run: 452
Predicted Score: 48.09 %
Loss: 0.04472043870951919


Run: 453
Predicted Score: 16.0 %
Loss: 0.19222997088094645


Run: 454
Predicted Score: 54.91 %
Loss: 0.026658999207760898


Run: 455
Predicted Score: 58.97 %
Loss: 0.018106534182393934


Run: 456
Predicted Score: 41.21 %
Loss: 0.06765831004538461


Run: 457
Predicted Score: 78.5 %
Loss: 1.2603524166865614e-05


Run: 458
Predicted Score: 35.35 %
Loss: 0.09093252966419374


Run: 459
Predicted Score: 21.29 %
Loss: 0.16078956984655757


Run: 460
Predicted Score: 71.78 %
Loss: 0.0019327339628025654


Run: 461
Predicted Score: 33.16 %
Loss: 0.10051476056357611


Run: 462
Predicted Score: 20.02 %
Loss: 0.16807947906518597


Run: 463
Predicted Score: 39.71 %
Loss: 0.07329566745752704


Run: 464
Predicted Score: 74.52 %
Loss: 0.0006065687168361689


Run: 465
Predicted Score: 40.89 %
Loss: 0.0688621617471858


Run: 466
Predicted Score: 61.35 %
Loss: 0.013859612394030846


Run: 467
Predicted Score: 51.46 %
Loss: 0.035221027248598186


Run: 468
Predicted Score: 55.44 %
Loss: 0.025458961249272362


Run: 469
Predicted Score: 69.68 %
Loss: 0.00345722101403671


Run: 470
Predicted Score: 83.96 %
Loss: 0.0017763988372908666


Run: 471
Predicted Score: 44.3 %
Loss: 0.056790480120521535


Run: 472
Predicted Score: 43.56 %
Loss: 0.059298768772842736


Run: 473
Predicted Score: 29.91 %
Loss: 0.11562258848152676


Run: 474
Predicted Score: 87.47 %
Loss: 0.004488652118124157


Run: 475
Predicted Score: 49.54 %
Loss: 0.040490228751087466


Run: 476
Predicted Score: 53.66 %
Loss: 0.029627486512231696


Run: 477
Predicted Score: 58.99 %
Loss: 0.018060745641004794


Run: 478
Predicted Score: 65.42 %
Loss: 0.007909717514724567


Run: 479
Predicted Score: 29.27 %
Loss: 0.11873027986612653


Run: 480
Predicted Score: 26.01 %
Loss: 0.13514901239624685


Run: 481
Predicted Score: 71.78 %
Loss: 0.0019322001434962561


Run: 482
Predicted Score: 32.95 %
Loss: 0.10149527376553438


Run: 483
Predicted Score: 54.35 %
Loss: 0.027957340652110432


Run: 484
Predicted Score: 38.85 %
Loss: 0.07661796640620636


Run: 485
Predicted Score: 14.03 %
Loss: 0.20458696175824226


Run: 486
Predicted Score: 34.57 %
Loss: 0.0943281657618151


Run: 487
Predicted Score: 55.03 %
Loss: 0.026379393866580503


Run: 488
Predicted Score: 36.57 %
Loss: 0.0858178801881881


Run: 489
Predicted Score: 29.77 %
Loss: 0.1163127432404177


Run: 490
Predicted Score: 39.88 %
Loss: 0.07265078920003264


Run: 491
Predicted Score: 95.07 %
Loss: 0.014560723254876805


Run: 492
Predicted Score: 68.09 %
Loss: 0.004909046882526461


Run: 493
Predicted Score: 52.76 %
Loss: 0.03184120512641749


Run: 494
Predicted Score: 64.87 %
Loss: 0.008614706499566818


Run: 495
Predicted Score: 29.21 %
Loss: 0.11904362997637627


Run: 496
Predicted Score: 52.69 %
Loss: 0.032029189090263914


Run: 497
Predicted Score: 24.04 %
Loss: 0.14557709325048243


Run: 498
Predicted Score: 33.71 %
Loss: 0.09808133451601236


Run: 499
Predicted Score: 49.37 %
Loss: 0.040969803451126816


Run: 500
Predicted Score: 44.75 %
Loss: 0.05528492512155903


Run: 501
Predicted Score: 54.12 %
Loss: 0.02851876561715042


Run: 502
Predicted Score: 38.86 %
Loss: 0.07661275291405448


Run: 503
Predicted Score: 62.79 %
Loss: 0.011569100545504718


Run: 504
Predicted Score: 66.64 %
Loss: 0.0064534080456814195


Run: 505
Predicted Score: 52.75 %
Loss: 0.03187117081075357


Run: 506
Predicted Score: 43.6 %
Loss: 0.05916518553537498


Run: 507
Predicted Score: 34.3 %
Loss: 0.09546544217807768


Run: 508
Predicted Score: 33.99 %
Loss: 0.09683631247592418


Run: 509
Predicted Score: 24.87 %
Loss: 0.14112031282605964


Run: 510
Predicted Score: 66.12 %
Loss: 0.007051703608159431


Run: 511
Predicted Score: 25.2 %
Loss: 0.13939171069281536


Run: 512
Predicted Score: 66.2 %
Loss: 0.0069644057559493195


Run: 513
Predicted Score: 19.81 %
Loss: 0.16932322405778183


Run: 514
Predicted Score: 51.02 %
Loss: 0.036399084012349515


Run: 515
Predicted Score: 89.62 %
Loss: 0.006747809909460264


Run: 516
Predicted Score: 52.72 %
Loss: 0.03195233076338655


Run: 517
Predicted Score: 74.68 %
Loss: 0.0005508221724150575


Run: 518
Predicted Score: 66.14 %
Loss: 0.00703663113076622


Run: 519
Predicted Score: 51.49 %
Loss: 0.035130256530484794


Run: 520
Predicted Score: 49.93 %
Loss: 0.039391674724601006


Run: 521
Predicted Score: 53.33 %
Loss: 0.030438520491982785


Run: 522
Predicted Score: 42.83 %
Loss: 0.061849389604815355


Run: 523
Predicted Score: 36.99 %
Loss: 0.08409684960054414


Run: 524
Predicted Score: 73.12 %
Loss: 0.0011929697447804206


Run: 525
Predicted Score: 46.26 %
Loss: 0.05035595692209781


Run: 526
Predicted Score: 13.64 %
Loss: 0.20710882997417096


Run: 527
Predicted Score: 34.01 %
Loss: 0.09673751685259824


Run: 528
Predicted Score: 48.37 %
Loss: 0.04390783560680878


Run: 529
Predicted Score: 55.5 %
Loss: 0.025317943770415016


Run: 530
Predicted Score: 29.98 %
Loss: 0.11530700091163157


Run: 531
Predicted Score: 36.94 %
Loss: 0.08429735336379607


Run: 532
Predicted Score: 76.37 %
Loss: 0.00013253270858872086


Run: 533
Predicted Score: 63.47 %
Loss: 0.010558258944566332


Run: 534
Predicted Score: 26.24 %
Loss: 0.13394315904825907


Run: 535
Predicted Score: 42.34 %
Loss: 0.0635736733765668


Run: 536
Predicted Score: 36.72 %
Loss: 0.08518390884920002


Run: 537
Predicted Score: 41.51 %
Loss: 0.06655818220826015


Run: 538
Predicted Score: 77.97 %
Loss: 3.702000015260187e-08


Run: 539
Predicted Score: 47.59 %
Loss: 0.04623467174824296


Run: 540
Predicted Score: 31.23 %
Loss: 0.10937327196375697


Run: 541
Predicted Score: 56.5 %
Loss: 0.023121638220712358


Run: 542
Predicted Score: 80.18 %
Loss: 0.00023664348223386458


Run: 543
Predicted Score: 17.88 %
Loss: 0.18073864008393384


Run: 544
Predicted Score: 30.56 %
Loss: 0.11252615831844286


Run: 545
Predicted Score: 2.1 %
Loss: 0.2880072770015005


Run: 546
Predicted Score: 58.21 %
Loss: 0.01959089222123555


Run: 547
Predicted Score: 28.31 %
Loss: 0.12346420485329322


Run: 548
Predicted Score: 44.74 %
Loss: 0.05529741964370957


Run: 549
Predicted Score: 50.36 %
Loss: 0.038201219447684884


Run: 550
Predicted Score: 65.11 %
Loss: 0.00830482638872787


Run: 551
Predicted Score: 28.55 %
Loss: 0.1222582910466274


Run: 552
Predicted Score: 41.48 %
Loss: 0.06669432062840329


Run: 553
Predicted Score: 60.68 %
Loss: 0.0150021500126571


Run: 554
Predicted Score: 47.45 %
Loss: 0.046652095485147926


Run: 555
Predicted Score: 56.32 %
Loss: 0.023496068284251402


Run: 556
Predicted Score: 68.73 %
Loss: 0.004293789141844382


Run: 557
Predicted Score: 32.44 %
Loss: 0.10379618294792979


Run: 558
Predicted Score: 81.17 %
Loss: 0.0005034428617949844


Run: 559
Predicted Score: 26.25 %
Loss: 0.13389397023959895


Run: 560
Predicted Score: 43.61 %
Loss: 0.059146050654909604


Run: 561
Predicted Score: 53.4 %
Loss: 0.030251277059335002


Run: 562
Predicted Score: 33.75 %
Loss: 0.09791079951619684


Run: 563
Predicted Score: 28.91 %
Loss: 0.1205015232741926


Run: 564
Predicted Score: 46.16 %
Loss: 0.050703148809150646


Run: 565
Predicted Score: 68.5 %
Loss: 0.004515143817788608


Run: 566
Predicted Score: 91.74 %
Loss: 0.009441586178787934


Run: 567
Predicted Score: 35.38 %
Loss: 0.09083534292660493


Run: 568
Predicted Score: 76.46 %
Loss: 0.00011858092458140946


Run: 569
Predicted Score: 65.86 %
Loss: 0.00736766017253116


Run: 570
Predicted Score: 80.76 %
Loss: 0.0003801939080108445


Run: 571
Predicted Score: 61.1 %
Loss: 0.014274406200785773


Run: 572
Predicted Score: 65.26 %
Loss: 0.008113889919820321


Run: 573
Predicted Score: 50.48 %
Loss: 0.03785766454772371


Run: 574
Predicted Score: 69.6 %
Loss: 0.0035248893361724517


Run: 575
Predicted Score: 12.96 %
Loss: 0.21153248268824684


Run: 576
Predicted Score: 19.67 %
Loss: 0.17009792410100108


Run: 577
Predicted Score: 55.83 %
Loss: 0.024578206364753805


Run: 578
Predicted Score: 47.33 %
Loss: 0.04703760752170706


Run: 579
Predicted Score: 78.36 %
Loss: 6.42680406004708e-06


Run: 580
Predicted Score: 71.73 %
Loss: 0.0019629440710047133


Run: 581
Predicted Score: 50.08 %
Loss: 0.03898293699459564


Run: 582
Predicted Score: 57.14 %
Loss: 0.021754894279866408


Run: 583
Predicted Score: 64.32 %
Loss: 0.009363870379002229


Run: 584
Predicted Score: 60.63 %
Loss: 0.015081692171234057


Run: 585
Predicted Score: 36.03 %
Loss: 0.0880568360042753


Run: 586
Predicted Score: 51.41 %
Loss: 0.03535956427509694


Run: 587
Predicted Score: 47.22 %
Loss: 0.0473789313847749


Run: 588
Predicted Score: 54.44 %
Loss: 0.02775161167694571


Run: 589
Predicted Score: 63.18 %
Loss: 0.010981094225498


Run: 590
Predicted Score: 6.04 %
Loss: 0.25891744220409163


Run: 591
Predicted Score: 81.0 %
Loss: 0.00044933177591670385


Run: 592
Predicted Score: 66.78 %
Loss: 0.006298527585185501


Run: 593
Predicted Score: 66.0 %
Loss: 0.007201939979741817


Run: 594
Predicted Score: 44.27 %
Loss: 0.05687655717629823


Run: 595
Predicted Score: 38.73 %
Loss: 0.07709948263774562


Run: 596
Predicted Score: 57.68 %
Loss: 0.020650187506958892


Run: 597
Predicted Score: 39.11 %
Loss: 0.07561077368169117


Run: 598
Predicted Score: 51.92 %
Loss: 0.03401258329610801


Run: 599
Predicted Score: 72.48 %
Loss: 0.0015251462842992686


Run: 600
Predicted Score: 56.02 %
Loss: 0.02415357887351698


Run: 601
Predicted Score: 55.24 %
Loss: 0.025899421792342697


Run: 602
Predicted Score: 68.1 %
Loss: 0.0049016864882083224


Run: 603
Predicted Score: 52.37 %
Loss: 0.03285693610694423


Run: 604
Predicted Score: 36.39 %
Loss: 0.08658998347999433


Run: 605
Predicted Score: 34.2 %
Loss: 0.09591603045848704


Run: 606
Predicted Score: 49.21 %
Loss: 0.041430824430543446


Run: 607
Predicted Score: 53.41 %
Loss: 0.03023680715432579


Run: 608
Predicted Score: 47.3 %
Loss: 0.04713496873370078


Run: 609
Predicted Score: 74.61 %
Loss: 0.000573124769160062


Run: 610
Predicted Score: 69.41 %
Loss: 0.0036888414418741315


Run: 611
Predicted Score: 50.85 %
Loss: 0.036844425664837234


Run: 612
Predicted Score: 38.14 %
Loss: 0.07944172802024889


Run: 613
Predicted Score: 50.27 %
Loss: 0.03844332722592873


Run: 614
Predicted Score: 65.89 %
Loss: 0.007326900734673219


Run: 615
Predicted Score: 55.38 %
Loss: 0.025575737545239445


Run: 616
Predicted Score: 41.16 %
Loss: 0.06786336897425826


Run: 617
Predicted Score: 67.22 %
Loss: 0.005808993315611607


Run: 618
Predicted Score: 17.87 %
Loss: 0.18078545487734535


Run: 619
Predicted Score: 32.35 %
Loss: 0.1041945161258922


Run: 620
Predicted Score: 41.36 %
Loss: 0.06710696705014361


Run: 621
Predicted Score: 37.93 %
Loss: 0.08028082347719187


Run: 622
Predicted Score: 72.45 %
Loss: 0.0015391876647355821


Run: 623
Predicted Score: 85.99 %
Loss: 0.0031903152577972506


Run: 624
Predicted Score: 44.78 %
Loss: 0.055175841749588145


Run: 625
Predicted Score: 15.02 %
Loss: 0.19830416640711718


Run: 626
Predicted Score: 52.58 %
Loss: 0.032298227573874676


Run: 627
Predicted Score: 44.55 %
Loss: 0.055949470011911175


Run: 628
Predicted Score: 27.82 %
Loss: 0.12588759871107377


Run: 629
Predicted Score: 35.79 %
Loss: 0.0891045948897434


Run: 630
Predicted Score: 87.85 %
Loss: 0.004846973297115006


Run: 631
Predicted Score: 38.89 %
Loss: 0.07647922854001568


Run: 632
Predicted Score: 25.9 %
Loss: 0.1357091088138906


Run: 633
Predicted Score: 38.6 %
Loss: 0.07762712776233115


Run: 634
Predicted Score: 48.19 %
Loss: 0.04443998649886026


Run: 635
Predicted Score: 45.94 %
Loss: 0.05138778649827376


Run: 636
Predicted Score: 41.39 %
Loss: 0.06702627918541891


Run: 637
Predicted Score: 52.73 %
Loss: 0.031919121944349954


Run: 638
Predicted Score: 76.53 %
Loss: 0.00010851619817594906


Run: 639
Predicted Score: 42.06 %
Loss: 0.0645736217124403


Run: 640
Predicted Score: 28.91 %
Loss: 0.1205022030640597


Run: 641
Predicted Score: 72.32 %
Loss: 0.0016158590173393599


Run: 642
Predicted Score: 15.04 %
Loss: 0.19816806283234106


Run: 643
Predicted Score: 17.11 %
Loss: 0.18539416067925746


Run: 644
Predicted Score: 72.53 %
Loss: 0.0014982965094693444


Run: 645
Predicted Score: 45.17 %
Loss: 0.05390562431870468


Run: 646
Predicted Score: 67.71 %
Loss: 0.00529500332578662


Run: 647
Predicted Score: 86.66 %
Loss: 0.003750678571971029


Run: 648
Predicted Score: 12.27 %
Loss: 0.2160268976495844


Run: 649
Predicted Score: 53.42 %
Loss: 0.030208439728106745


Run: 650
Predicted Score: 57.18 %
Loss: 0.02168280040377234


Run: 651
Predicted Score: 53.46 %
Loss: 0.030119562065432166


Run: 652
Predicted Score: 58.1 %
Loss: 0.01980915574269776


Run: 653
Predicted Score: 46.73 %
Loss: 0.04887906063740555


Run: 654
Predicted Score: 30.79 %
Loss: 0.11143824485845212


Run: 655
Predicted Score: 26.48 %
Loss: 0.13269267191378614


Run: 656
Predicted Score: 22.61 %
Loss: 0.15342091975936237


Run: 657
Predicted Score: 50.4 %
Loss: 0.038083866830407424


Run: 658
Predicted Score: 79.41 %
Loss: 9.883542687440473e-05


Run: 659
Predicted Score: 67.75 %
Loss: 0.005257153106283603


Run: 660
Predicted Score: 64.18 %
Loss: 0.009546048973016238


Run: 661
Predicted Score: 53.96 %
Loss: 0.028888874781160874


Run: 662
Predicted Score: 15.52 %
Loss: 0.1951849360532535


Run: 663
Predicted Score: 68.83 %
Loss: 0.004203468762620022


Run: 664
Predicted Score: 39.45 %
Loss: 0.07431827372085707


Run: 665
Predicted Score: 29.98 %
Loss: 0.11531337496904845


Run: 666
Predicted Score: 50.68 %
Loss: 0.037315555333328164


Run: 667
Predicted Score: 30.67 %
Loss: 0.11201179195215422


Run: 668
Predicted Score: 44.08 %
Loss: 0.0575226054103441


Run: 669
Predicted Score: 50.21 %
Loss: 0.03861029231345178


Run: 670
Predicted Score: 66.19 %
Loss: 0.0069683961017769


Run: 671
Predicted Score: 31.27 %
Loss: 0.10918738531881685


Run: 672
Predicted Score: 43.45 %
Loss: 0.05968909552265338


Run: 673
Predicted Score: 47.3 %
Loss: 0.04712548145460053


Run: 674
Predicted Score: 63.75 %
Loss: 0.010156740404319665


Run: 675
Predicted Score: 53.22 %
Loss: 0.030713344847086287


Run: 676
Predicted Score: 72.06 %
Loss: 0.0017614815510188725


Run: 677
Predicted Score: 74.85 %
Loss: 0.0004947340964144478


Run: 678
Predicted Score: 15.95 %
Loss: 0.19251532435224888


Run: 679
Predicted Score: 68.85 %
Loss: 0.004190694363870445


Run: 680
Predicted Score: 59.01 %
Loss: 0.018033677794075643


Run: 681
Predicted Score: 56.66 %
Loss: 0.022761292717217586


Run: 682
Predicted Score: 33.69 %
Loss: 0.09817827640217498


Run: 683
Predicted Score: 49.65 %
Loss: 0.04017241316455025


Run: 684
Predicted Score: 56.99 %
Loss: 0.02206263659741248


Run: 685
Predicted Score: 44.59 %
Loss: 0.0558056521378535


Run: 686
Predicted Score: 71.19 %
Loss: 0.002321518909327264


Run: 687
Predicted Score: 45.33 %
Loss: 0.05335085529411453


Run: 688
Predicted Score: 24.89 %
Loss: 0.1410356477643277


Run: 689
Predicted Score: 59.26 %
Loss: 0.01756533578972946


Run: 690
Predicted Score: 48.63 %
Loss: 0.043128213206836526


Run: 691
Predicted Score: 34.36 %
Loss: 0.09524020646414982


Run: 692
Predicted Score: 45.93 %
Loss: 0.051419676386504666


Run: 693
Predicted Score: 57.02 %
Loss: 0.02200690923958881


Run: 694
Predicted Score: 36.97 %
Loss: 0.0841713721054306


Run: 695
Predicted Score: 43.22 %
Loss: 0.06049403445935982


Run: 696
Predicted Score: 69.27 %
Loss: 0.0038142720250877505


Run: 697
Predicted Score: 44.71 %
Loss: 0.05542395203606195


Run: 698
Predicted Score: 86.59 %
Loss: 0.0036857747708671455


Run: 699
Predicted Score: 37.94 %
Loss: 0.08024473212119532


Run: 700
Predicted Score: 40.98 %
Loss: 0.0685391117705024


Run: 701
Predicted Score: 21.45 %
Loss: 0.15991256825954653


Run: 702
Predicted Score: 51.39 %
Loss: 0.03540592381358448


Run: 703
Predicted Score: 32.49 %
Loss: 0.10353890082581316


Run: 704
Predicted Score: 40.95 %
Loss: 0.06863365031615286


Run: 705
Predicted Score: 35.5 %
Loss: 0.09033116637888604


Run: 706
Predicted Score: 46.53 %
Loss: 0.04951802533707616


Run: 707
Predicted Score: 65.33 %
Loss: 0.0080278366806975


Run: 708
Predicted Score: 81.78 %
Loss: 0.0007162061174543759


Run: 709
Predicted Score: 64.12 %
Loss: 0.009627876147243624


Run: 710
Predicted Score: 75.44 %
Loss: 0.0003268394355109596


Run: 711
Predicted Score: 67.8 %
Loss: 0.005199235414998756


Run: 712
Predicted Score: 78.03 %
Loss: 5.432481287523329e-08


Run: 713
Predicted Score: 19.54 %
Loss: 0.17087232155703955


Run: 714
Predicted Score: 62.16 %
Loss: 0.012548679320218642


Run: 715
Predicted Score: 16.64 %
Loss: 0.1882751707340086


Run: 716
Predicted Score: 9.6 %
Loss: 0.23394685240358326


Run: 717
Predicted Score: 26.23 %
Loss: 0.13402045325764608


Run: 718
Predicted Score: 69.09 %
Loss: 0.0039711830132034805


Run: 719
Predicted Score: 60.62 %
Loss: 0.015111273345785286


Run: 720
Predicted Score: 36.89 %
Loss: 0.08451519332449231


Run: 721
Predicted Score: 52.42 %
Loss: 0.032712075831409344


Run: 722
Predicted Score: 44.43 %
Loss: 0.056330791675980464


Run: 723
Predicted Score: 78.16 %
Loss: 1.2383200095929185e-06


Run: 724
Predicted Score: 40.76 %
Loss: 0.0693260500411034


Run: 725
Predicted Score: 39.16 %
Loss: 0.07541813328185648


Run: 726
Predicted Score: 38.09 %
Loss: 0.07965785992035491


Run: 727
Predicted Score: 32.92 %
Loss: 0.1016265777216346


Run: 728
Predicted Score: 65.13 %
Loss: 0.008287571473781166


Run: 729
Predicted Score: 36.65 %
Loss: 0.0855012179577067


Run: 730
Predicted Score: 74.0 %
Loss: 0.0008012707553567578


Run: 731
Predicted Score: 37.0 %
Loss: 0.08407010881443651


Run: 732
Predicted Score: 77.28 %
Loss: 2.558200932657436e-05


Run: 733
Predicted Score: 25.59 %
Loss: 0.13734853772117805


Run: 734
Predicted Score: 42.39 %
Loss: 0.06342085353378438


Run: 735
Predicted Score: 44.2 %
Loss: 0.05713058138158125


Run: 736
Predicted Score: 32.48 %
Loss: 0.10358613884281509


Run: 737
Predicted Score: 67.47 %
Loss: 0.005547122209497898


Run: 738
Predicted Score: 40.69 %
Loss: 0.0695939141410112


Run: 739
Predicted Score: 23.3 %
Loss: 0.1496173972358936


Run: 740
Predicted Score: 54.49 %
Loss: 0.02763489141633088


Run: 741
Predicted Score: 70.37 %
Loss: 0.0029089827289063078


Run: 742
Predicted Score: 12.24 %
Loss: 0.21620694737456558


Run: 743
Predicted Score: 72.37 %
Loss: 0.0015836268573912087


Run: 744
Predicted Score: 48.46 %
Loss: 0.04361774884993005


Run: 745
Predicted Score: 20.65 %
Loss: 0.16447209398449597


Run: 746
Predicted Score: 93.27 %
Loss: 0.01166220153263655


Run: 747
Predicted Score: 70.21 %
Loss: 0.003032565546841772


Run: 748
Predicted Score: 35.5 %
Loss: 0.0903080131750896


Run: 749
Predicted Score: 18.01 %
Loss: 0.1799630011564468


Run: 750
Predicted Score: 49.19 %
Loss: 0.041504081446866244


Run: 751
Predicted Score: 70.15 %
Loss: 0.0030806610515761337


Run: 752
Predicted Score: 72.26 %
Loss: 0.0016452930726582986


Run: 753
Predicted Score: 52.44 %
Loss: 0.03267811194636034


Run: 754
Predicted Score: 71.64 %
Loss: 0.0020200098580399886


Run: 755
Predicted Score: 50.0 %
Loss: 0.03921186391335545


Run: 756
Predicted Score: 63.02 %
Loss: 0.011225071091007994


Run: 757
Predicted Score: 41.95 %
Loss: 0.06498136401376521


Run: 758
Predicted Score: 13.22 %
Loss: 0.20980948740661198


Run: 759
Predicted Score: 27.39 %
Loss: 0.12808390074724216


Run: 760
Predicted Score: 20.45 %
Loss: 0.16562417362917048


Run: 761
Predicted Score: 80.45 %
Loss: 0.00030134888217270284


Run: 762
Predicted Score: 31.65 %
Loss: 0.10740539832059093


Run: 763
Predicted Score: 63.83 %
Loss: 0.010038009719709775


Run: 764
Predicted Score: 70.28 %
Loss: 0.002981050150241863


Run: 765
Predicted Score: 15.39 %
Loss: 0.19601043174516414


Run: 766
Predicted Score: 79.1 %
Loss: 6.045099109097683e-05


Run: 767
Predicted Score: 54.61 %
Loss: 0.027356438550871325


Run: 768
Predicted Score: 55.77 %
Loss: 0.024714099488906155


Run: 769
Predicted Score: 31.88 %
Loss: 0.10637507416906986


Run: 770
Predicted Score: 54.57 %
Loss: 0.0274577357601648


Run: 771
Predicted Score: 66.03 %
Loss: 0.007158915609231749


Run: 772
Predicted Score: 10.27 %
Loss: 0.2293442993457016


Run: 773
Predicted Score: 57.26 %
Loss: 0.021517448329723052


Run: 774
Predicted Score: 53.22 %
Loss: 0.030696045755178845


Run: 775
Predicted Score: 47.37 %
Loss: 0.04689587423633


Run: 776
Predicted Score: 64.41 %
Loss: 0.009234602548839213


Run: 777
Predicted Score: 51.62 %
Loss: 0.03478412406272107


Run: 778
Predicted Score: 75.45 %
Loss: 0.00032394758873239


Run: 779
Predicted Score: 54.73 %
Loss: 0.027070599359137575


Run: 780
Predicted Score: 59.75 %
Loss: 0.01665374251479749


Run: 781
Predicted Score: 26.51 %
Loss: 0.13256847483129414


Run: 782
Predicted Score: 54.24 %
Loss: 0.028234322830725692


Run: 783
Predicted Score: 42.44 %
Loss: 0.06322266697168315


Run: 784
Predicted Score: 11.88 %
Loss: 0.21856563326441955


Run: 785
Predicted Score: 57.07 %
Loss: 0.021896263333775715


Run: 786
Predicted Score: 71.23 %
Loss: 0.0022890652155989717


Run: 787
Predicted Score: 64.63 %
Loss: 0.008942962862819362


Run: 788
Predicted Score: 83.85 %
Loss: 0.0017122080915844774


Run: 789
Predicted Score: 68.57 %
Loss: 0.004448608270608637


Run: 790
Predicted Score: 43.66 %
Loss: 0.05896489811283259


Run: 791
Predicted Score: 42.09 %
Loss: 0.0644662472319285


Run: 792
Predicted Score: 79.43 %
Loss: 0.00010226764074729234


Run: 793
Predicted Score: 50.47 %
Loss: 0.03789595849228658


Run: 794
Predicted Score: 52.27 %
Loss: 0.033088911508789336


Run: 795
Predicted Score: 57.23 %
Loss: 0.02156276227911107


Run: 796
Predicted Score: 66.76 %
Loss: 0.006316215117177491


Run: 797
Predicted Score: 88.7 %
Loss: 0.005724169365468329


Run: 798
Predicted Score: 67.38 %
Loss: 0.005642365151758152


Run: 799
Predicted Score: 50.34 %
Loss: 0.03824395733252036


Run: 800
Predicted Score: 27.8 %
Loss: 0.1260169781701572


Run: 801
Predicted Score: 34.16 %
Loss: 0.0961155028642742


Run: 802
Predicted Score: 50.23 %
Loss: 0.03854854510533357


Run: 803
Predicted Score: 19.36 %
Loss: 0.1719041440823039


Run: 804
Predicted Score: 45.85 %
Loss: 0.05169194113638106


Run: 805
Predicted Score: 26.76 %
Loss: 0.13126293299815078


Run: 806
Predicted Score: 47.44 %
Loss: 0.046707138681952504


Run: 807
Predicted Score: 11.33 %
Loss: 0.2222729148357734


Run: 808
Predicted Score: 58.36 %
Loss: 0.01928983337645627


Run: 809
Predicted Score: 69.42 %
Loss: 0.003680050541230731


Run: 810
Predicted Score: 19.54 %
Loss: 0.17085743983208332


Run: 811
Predicted Score: 44.88 %
Loss: 0.05485931544152738


Run: 812
Predicted Score: 53.4 %
Loss: 0.030260130665980746


Run: 813
Predicted Score: 58.0 %
Loss: 0.020001910555865598


Run: 814
Predicted Score: 40.09 %
Loss: 0.07184964916980222


Run: 815
Predicted Score: 73.3 %
Loss: 0.001103752282518525


Run: 816
Predicted Score: 46.22 %
Loss: 0.05049096657694596


Run: 817
Predicted Score: 45.34 %
Loss: 0.05333538913149402


Run: 818
Predicted Score: 68.44 %
Loss: 0.004569724788878848


Run: 819
Predicted Score: 46.89 %
Loss: 0.04840598594365596


Run: 820
Predicted Score: 36.63 %
Loss: 0.08557782928591184


Run: 821
Predicted Score: 50.48 %
Loss: 0.03785946536683004


Run: 822
Predicted Score: 49.54 %
Loss: 0.040501772514633286


Run: 823
Predicted Score: 22.57 %
Loss: 0.1536181234209389


Run: 824
Predicted Score: 43.26 %
Loss: 0.06035398923294776


Run: 825
Predicted Score: 70.31 %
Loss: 0.002956590200392931


Run: 826
Predicted Score: 40.0 %
Loss: 0.07221155563973942


Run: 827
Predicted Score: 34.54 %
Loss: 0.09442899015806566


Run: 828
Predicted Score: 58.09 %
Loss: 0.019815151679699827


Run: 829
Predicted Score: 41.51 %
Loss: 0.06657414397043057


Run: 830
Predicted Score: 55.06 %
Loss: 0.026300733448940055


Run: 831
Predicted Score: 67.64 %
Loss: 0.0053668562650920175


Run: 832
Predicted Score: 40.6 %
Loss: 0.0699555334603145


Run: 833
Predicted Score: 48.76 %
Loss: 0.04275015111607458


Run: 834
Predicted Score: 27.03 %
Loss: 0.12987580304539145


Run: 835
Predicted Score: 57.88 %
Loss: 0.02024381632022849


Run: 836
Predicted Score: 47.02 %
Loss: 0.04798239713463856


Run: 837
Predicted Score: 88.71 %
Loss: 0.005736539491878018


Run: 838
Predicted Score: 31.94 %
Loss: 0.10609080258681546


Run: 839
Predicted Score: 31.97 %
Loss: 0.1059356034510989


Run: 840
Predicted Score: 33.32 %
Loss: 0.09981397732117532


Run: 841
Predicted Score: 35.48 %
Loss: 0.09041283463529509


Run: 842
Predicted Score: 86.14 %
Loss: 0.0033144966091264143


Run: 843
Predicted Score: 52.32 %
Loss: 0.03297471968747975


Run: 844
Predicted Score: 5.27 %
Loss: 0.2645188412981056


Run: 845
Predicted Score: 42.31 %
Loss: 0.06367883813343037


Run: 846
Predicted Score: 30.77 %
Loss: 0.11154801239360038


Run: 847
Predicted Score: 3.25 %
Loss: 0.2794101190885124


Run: 848
Predicted Score: 66.19 %
Loss: 0.006975810071026589


Run: 849
Predicted Score: 58.76 %
Loss: 0.018512833463229003


Run: 850
Predicted Score: 50.46 %
Loss: 0.0379301922761593


Run: 851
Predicted Score: 42.49 %
Loss: 0.06305837610416663


Run: 852
Predicted Score: 46.95 %
Loss: 0.048204367317620594


Run: 853
Predicted Score: 19.43 %
Loss: 0.17150155193271058


Run: 854
Predicted Score: 33.55 %
Loss: 0.09879960287126585


Run: 855
Predicted Score: 74.61 %
Loss: 0.0005733924055157207


Run: 856
Predicted Score: 49.96 %
Loss: 0.03930487732557761


Run: 857
Predicted Score: 65.9 %
Loss: 0.007317691045932843


Run: 858
Predicted Score: 74.49 %
Loss: 0.0006147732017567437


Run: 859
Predicted Score: 53.58 %
Loss: 0.02981380249057642


Run: 860
Predicted Score: 46.62 %
Loss: 0.049221043310076554


Run: 861
Predicted Score: 79.02 %
Loss: 5.180600817068533e-05


Run: 862
Predicted Score: 38.73 %
Loss: 0.0771156082696487


Run: 863
Predicted Score: 74.49 %
Loss: 0.000615312696008618


Run: 864
Predicted Score: 31.37 %
Loss: 0.10872603520584458


Run: 865
Predicted Score: 63.8 %
Loss: 0.010082197370438441


Run: 866
Predicted Score: 13.21 %
Loss: 0.20990302562716742


Run: 867
Predicted Score: 65.31 %
Loss: 0.008046318842812447


Run: 868
Predicted Score: 48.12 %
Loss: 0.044654732652162986


Run: 869
Predicted Score: 42.47 %
Loss: 0.06312739879178533


Run: 870
Predicted Score: 60.79 %
Loss: 0.014817237833578236


Run: 871
Predicted Score: 41.68 %
Loss: 0.06596423298325925


Run: 872
Predicted Score: 29.02 %
Loss: 0.11996210917466084


Run: 873
Predicted Score: 51.42 %
Loss: 0.03532517671301442


Run: 874
Predicted Score: 54.49 %
Loss: 0.027628011705464375


Run: 875
Predicted Score: 49.91 %
Loss: 0.03944444287951908


Run: 876
Predicted Score: 54.48 %
Loss: 0.02765747490800744


Run: 877
Predicted Score: 23.34 %
Loss: 0.14936508312034422


Run: 878
Predicted Score: 48.72 %
Loss: 0.0428794916836729


Run: 879
Predicted Score: 86.54 %
Loss: 0.003642773538457847


Run: 880
Predicted Score: 9.72 %
Loss: 0.23307614396922785


Run: 881
Predicted Score: 29.33 %
Loss: 0.11843259324282614


Run: 882
Predicted Score: 40.48 %
Loss: 0.07040246001540477


Run: 883
Predicted Score: 56.5 %
Loss: 0.023111473030862986


Run: 884
Predicted Score: 40.75 %
Loss: 0.06938394216241392


Run: 885
Predicted Score: 36.18 %
Loss: 0.08744163979598307


Run: 886
Predicted Score: 56.74 %
Loss: 0.02260344993112406


Run: 887
Predicted Score: 85.83 %
Loss: 0.0030623420551710388


Run: 888
Predicted Score: 36.94 %
Loss: 0.08427965102132065


Run: 889
Predicted Score: 60.6 %
Loss: 0.015139445539515907


Run: 890
Predicted Score: 14.72 %
Loss: 0.20019423833722885


Run: 891
Predicted Score: 37.36 %
Loss: 0.0825728708167057


Run: 892
Predicted Score: 46.77 %
Loss: 0.04875859437368488


Run: 893
Predicted Score: 60.54 %
Loss: 0.015249293999769948


Run: 894
Predicted Score: 59.44 %
Loss: 0.017219772149094217


Run: 895
Predicted Score: 49.14 %
Loss: 0.04165796430680167


Run: 896
Predicted Score: 9.62 %
Loss: 0.23378154642308024


Run: 897
Predicted Score: 34.33 %
Loss: 0.09535274170080821


Run: 898
Predicted Score: 63.32 %
Loss: 0.010771891647509054


Run: 899
Predicted Score: 65.15 %
Loss: 0.008253877952243069


Run: 900
Predicted Score: 66.35 %
Loss: 0.00678579260983296


Run: 901
Predicted Score: 15.97 %
Loss: 0.1923629795782255


Run: 902
Predicted Score: 27.59 %
Loss: 0.12707863795684082


Run: 903
Predicted Score: 58.87 %
Loss: 0.01829104790402072


Run: 904
Predicted Score: 21.54 %
Loss: 0.1593799666138467


Run: 905
Predicted Score: 41.59 %
Loss: 0.06627612225543074


Run: 906
Predicted Score: 31.42 %
Loss: 0.1084823046601832


Run: 907
Predicted Score: 67.79 %
Loss: 0.005209288335067734


Run: 908
Predicted Score: 52.6 %
Loss: 0.032260113832454765


Run: 909
Predicted Score: 58.7 %
Loss: 0.018619854782529036


Run: 910
Predicted Score: 29.83 %
Loss: 0.11601254952117515


Run: 911
Predicted Score: 86.42 %
Loss: 0.0035470708141961656


Run: 912
Predicted Score: 75.6 %
Loss: 0.0002889419614149186


Run: 913
Predicted Score: 50.07 %
Loss: 0.03901310072105591


Run: 914
Predicted Score: 50.3 %
Loss: 0.03837531813881736


Run: 915
Predicted Score: 27.19 %
Loss: 0.129070486312706


Run: 916
Predicted Score: 36.57 %
Loss: 0.08583661626069021


Run: 917
Predicted Score: 18.86 %
Loss: 0.17487382261462892


Run: 918
Predicted Score: 49.07 %
Loss: 0.04183325714808993


Run: 919
Predicted Score: 36.79 %
Loss: 0.08491512326841853


Run: 920
Predicted Score: 52.14 %
Loss: 0.03344374555396376


Run: 921
Predicted Score: 84.49 %
Loss: 0.0021039519667359757


Run: 922
Predicted Score: 35.29 %
Loss: 0.09120065974861327


Run: 923
Predicted Score: 38.81 %
Loss: 0.0767910545241013


Run: 924
Predicted Score: 74.68 %
Loss: 0.0005523331443021245


Run: 925
Predicted Score: 55.18 %
Loss: 0.0260273217065616


Run: 926
Predicted Score: 38.43 %
Loss: 0.07829187591258976


Run: 927
Predicted Score: 20.53 %
Loss: 0.1651668512958474


Run: 928
Predicted Score: 42.02 %
Loss: 0.06472609730988076


Run: 929
Predicted Score: 64.93 %
Loss: 0.008537977404093646


Run: 930
Predicted Score: 59.16 %
Loss: 0.01775444612476486


Run: 931
Predicted Score: 78.02 %
Loss: 3.1104897372031e-08


Run: 932
Predicted Score: 40.94 %
Loss: 0.068663742263992


Run: 933
Predicted Score: 50.6 %
Loss: 0.037527410046361745


Run: 934
Predicted Score: 48.67 %
Loss: 0.043011295939868126


Run: 935
Predicted Score: 62.52 %
Loss: 0.011985550917423739


Run: 936
Predicted Score: 43.72 %
Loss: 0.05874459030616482


Run: 937
Predicted Score: 55.42 %
Loss: 0.025487670676801046


Run: 938
Predicted Score: 61.3 %
Loss: 0.013938701755979761


Run: 939
Predicted Score: 90.06 %
Loss: 0.007276438131487854


Run: 940
Predicted Score: 70.21 %
Loss: 0.003037559369750852


Run: 941
Predicted Score: 50.17 %
Loss: 0.03871438182945303


Run: 942
Predicted Score: 41.81 %
Loss: 0.06548741326393075


Run: 943
Predicted Score: 40.71 %
Loss: 0.06952413367158869


Run: 944
Predicted Score: 76.64 %
Loss: 9.270139190212297e-05


Run: 945
Predicted Score: 49.86 %
Loss: 0.039582975922909984


Run: 946
Predicted Score: 50.12 %
Loss: 0.03887732811288452


Run: 947
Predicted Score: 53.51 %
Loss: 0.029991943420704874


Run: 948
Predicted Score: 50.81 %
Loss: 0.03696460263895026


Run: 949
Predicted Score: 32.96 %
Loss: 0.10143464083860439


Run: 950
Predicted Score: 56.7 %
Loss: 0.022691128860528955


Run: 951
Predicted Score: 46.71 %
Loss: 0.04895330973629317


Run: 952
Predicted Score: 67.93 %
Loss: 0.005072473197666549


Run: 953
Predicted Score: 24.57 %
Loss: 0.1427376191673333


Run: 954
Predicted Score: 50.51 %
Loss: 0.03777995191952659


Run: 955
Predicted Score: 62.68 %
Loss: 0.011742762055286375


Run: 956
Predicted Score: 24.27 %
Loss: 0.1443645518395275


Run: 957
Predicted Score: 59.5 %
Loss: 0.017103871189281784


Run: 958
Predicted Score: 47.55 %
Loss: 0.04637145470072768


Run: 959
Predicted Score: 16.39 %
Loss: 0.1898149078648263


Run: 960
Predicted Score: 37.93 %
Loss: 0.08028741454404717


Run: 961
Predicted Score: 70.07 %
Loss: 0.0031481839908372045


Run: 962
Predicted Score: 40.92 %
Loss: 0.06875746814050768


Run: 963
Predicted Score: 81.84 %
Loss: 0.0007357384389230365


Run: 964
Predicted Score: 75.14 %
Loss: 0.00040801373359934266


Run: 965
Predicted Score: 66.09 %
Loss: 0.0070915140931034374


Run: 966
Predicted Score: 51.51 %
Loss: 0.03509041998062291


Run: 967
Predicted Score: 37.43 %
Loss: 0.08228431330888078


Run: 968
Predicted Score: 32.96 %
Loss: 0.1014497317895083


Run: 969
Predicted Score: 70.01 %
Loss: 0.0031924748657039394


Run: 970
Predicted Score: 57.16 %
Loss: 0.021709714620911664


Run: 971
Predicted Score: 22.3 %
Loss: 0.15510360350395677


Run: 972
Predicted Score: 43.55 %
Loss: 0.05935043951392355


Run: 973
Predicted Score: 41.91 %
Loss: 0.06512943864611133


Run: 974
Predicted Score: 70.24 %
Loss: 0.003010096484376033


Run: 975
Predicted Score: 47.72 %
Loss: 0.045837499443401424


Run: 976
Predicted Score: 37.25 %
Loss: 0.08302860629813857


Run: 977
Predicted Score: 92.17 %
Loss: 0.010033590155365773


Run: 978
Predicted Score: 79.61 %
Loss: 0.0001289466729110821


Run: 979
Predicted Score: 65.36 %
Loss: 0.007989615860907405


Run: 980
Predicted Score: 67.93 %
Loss: 0.005068888450898639


Run: 981
Predicted Score: 13.02 %
Loss: 0.21115026162948577


Run: 982
Predicted Score: 54.16 %
Loss: 0.028428034819766988


Run: 983
Predicted Score: 63.81 %
Loss: 0.010074121770537991


Run: 984
Predicted Score: 63.6 %
Loss: 0.01037161739661499


Run: 985
Predicted Score: 20.11 %
Loss: 0.16758262135358326


Run: 986
Predicted Score: 23.41 %
Loss: 0.14900561389082123


Run: 987
Predicted Score: 68.95 %
Loss: 0.004091926168999589


Run: 988
Predicted Score: 36.32 %
Loss: 0.0868818975899824


Run: 989
Predicted Score: 39.59 %
Loss: 0.07378376679777032


Run: 990
Predicted Score: 57.45 %
Loss: 0.021115373196274136


Run: 991
Predicted Score: 85.62 %
Loss: 0.002903328369683296


Run: 992
Predicted Score: 48.46 %
Loss: 0.04362400460835134


Run: 993
Predicted Score: 68.49 %
Loss: 0.004523636456425453


Run: 994
Predicted Score: 45.43 %
Loss: 0.05303225031289519


Run: 995
Predicted Score: 49.94 %
Loss: 0.039359276033488114


Run: 996
Predicted Score: 32.68 %
Loss: 0.1027072405461957


Run: 997
Predicted Score: 65.27 %
Loss: 0.008099564098207702


Run: 998
Predicted Score: 60.78 %
Loss: 0.014819496136938351


Run: 999
Predicted Score: 79.3 %
Loss: 8.435459056148548e-05


Run: 1000
Predicted Score: 67.01 %
Loss: 0.006039063829305674



-----------------------------------
 Best Model 
-----------------------------------
W1: [[0.80625416 2.89601797 0.77520147]
 [0.88387038 1.38432068 0.90976095]]


W2: [[ 0.5788475 ]
 [ 1.89420791]
 [-1.2477923 ]]


Smallest loss 3.1104897372031e-08
Best Prediction 78.02 %
